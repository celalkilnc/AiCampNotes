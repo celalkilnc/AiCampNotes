{
 "cells": [
  {
   "cell_type": "markdown",
   "id": "9deb298e-6418-4015-8e51-06065481e47d",
   "metadata": {},
   "source": [
    "# WA - King Ilcesi ev fiyatlari tahmini"
   ]
  },
  {
   "cell_type": "code",
   "execution_count": 1138,
   "id": "9484acc9-0c27-4c1c-895c-7f399777918c",
   "metadata": {},
   "outputs": [],
   "source": [
    "import pandas as pd\n",
    "import seaborn as sns\n",
    "import matplotlib.pyplot as plt\n",
    "import numpy as np\n",
    "\n",
    "from sklearn.linear_model import LinearRegression\n",
    "from sklearn.model_selection import train_test_split\n",
    "from sklearn.metrics import r2_score, mean_squared_error\n",
    "\n",
    "from sklearn.ensemble import ExtraTreesRegressor\n",
    "from sklearn.ensemble import RandomForestRegressor\n",
    "\n",
    "pd.set_option(\"display.max_columns\",55)"
   ]
  },
  {
   "cell_type": "code",
   "execution_count": 1139,
   "id": "4e63a0a1-3e96-4b8e-9461-32b1fc03d7eb",
   "metadata": {},
   "outputs": [],
   "source": [
    "df = pd.read_csv('kc_house_data.csv')"
   ]
  },
  {
   "cell_type": "code",
   "execution_count": 1140,
   "id": "3671540a-8c3f-4ead-ace4-05684e39a814",
   "metadata": {},
   "outputs": [
    {
     "data": {
      "text/html": [
       "<div>\n",
       "<style scoped>\n",
       "    .dataframe tbody tr th:only-of-type {\n",
       "        vertical-align: middle;\n",
       "    }\n",
       "\n",
       "    .dataframe tbody tr th {\n",
       "        vertical-align: top;\n",
       "    }\n",
       "\n",
       "    .dataframe thead th {\n",
       "        text-align: right;\n",
       "    }\n",
       "</style>\n",
       "<table border=\"1\" class=\"dataframe\">\n",
       "  <thead>\n",
       "    <tr style=\"text-align: right;\">\n",
       "      <th></th>\n",
       "      <th>id</th>\n",
       "      <th>date</th>\n",
       "      <th>price</th>\n",
       "      <th>bedrooms</th>\n",
       "      <th>bathrooms</th>\n",
       "      <th>sqft_living</th>\n",
       "      <th>sqft_lot</th>\n",
       "      <th>floors</th>\n",
       "      <th>waterfront</th>\n",
       "      <th>view</th>\n",
       "      <th>condition</th>\n",
       "      <th>grade</th>\n",
       "      <th>sqft_above</th>\n",
       "      <th>sqft_basement</th>\n",
       "      <th>yr_built</th>\n",
       "      <th>yr_renovated</th>\n",
       "      <th>zipcode</th>\n",
       "      <th>lat</th>\n",
       "      <th>long</th>\n",
       "      <th>sqft_living15</th>\n",
       "      <th>sqft_lot15</th>\n",
       "    </tr>\n",
       "  </thead>\n",
       "  <tbody>\n",
       "    <tr>\n",
       "      <th>0</th>\n",
       "      <td>7129300520</td>\n",
       "      <td>20141013T000000</td>\n",
       "      <td>221900.0</td>\n",
       "      <td>3</td>\n",
       "      <td>1.00</td>\n",
       "      <td>1180</td>\n",
       "      <td>5650</td>\n",
       "      <td>1.0</td>\n",
       "      <td>0</td>\n",
       "      <td>0</td>\n",
       "      <td>3</td>\n",
       "      <td>7</td>\n",
       "      <td>1180</td>\n",
       "      <td>0</td>\n",
       "      <td>1955</td>\n",
       "      <td>0</td>\n",
       "      <td>98178</td>\n",
       "      <td>47.5112</td>\n",
       "      <td>-122.257</td>\n",
       "      <td>1340</td>\n",
       "      <td>5650</td>\n",
       "    </tr>\n",
       "    <tr>\n",
       "      <th>1</th>\n",
       "      <td>6414100192</td>\n",
       "      <td>20141209T000000</td>\n",
       "      <td>538000.0</td>\n",
       "      <td>3</td>\n",
       "      <td>2.25</td>\n",
       "      <td>2570</td>\n",
       "      <td>7242</td>\n",
       "      <td>2.0</td>\n",
       "      <td>0</td>\n",
       "      <td>0</td>\n",
       "      <td>3</td>\n",
       "      <td>7</td>\n",
       "      <td>2170</td>\n",
       "      <td>400</td>\n",
       "      <td>1951</td>\n",
       "      <td>1991</td>\n",
       "      <td>98125</td>\n",
       "      <td>47.7210</td>\n",
       "      <td>-122.319</td>\n",
       "      <td>1690</td>\n",
       "      <td>7639</td>\n",
       "    </tr>\n",
       "    <tr>\n",
       "      <th>2</th>\n",
       "      <td>5631500400</td>\n",
       "      <td>20150225T000000</td>\n",
       "      <td>180000.0</td>\n",
       "      <td>2</td>\n",
       "      <td>1.00</td>\n",
       "      <td>770</td>\n",
       "      <td>10000</td>\n",
       "      <td>1.0</td>\n",
       "      <td>0</td>\n",
       "      <td>0</td>\n",
       "      <td>3</td>\n",
       "      <td>6</td>\n",
       "      <td>770</td>\n",
       "      <td>0</td>\n",
       "      <td>1933</td>\n",
       "      <td>0</td>\n",
       "      <td>98028</td>\n",
       "      <td>47.7379</td>\n",
       "      <td>-122.233</td>\n",
       "      <td>2720</td>\n",
       "      <td>8062</td>\n",
       "    </tr>\n",
       "    <tr>\n",
       "      <th>3</th>\n",
       "      <td>2487200875</td>\n",
       "      <td>20141209T000000</td>\n",
       "      <td>604000.0</td>\n",
       "      <td>4</td>\n",
       "      <td>3.00</td>\n",
       "      <td>1960</td>\n",
       "      <td>5000</td>\n",
       "      <td>1.0</td>\n",
       "      <td>0</td>\n",
       "      <td>0</td>\n",
       "      <td>5</td>\n",
       "      <td>7</td>\n",
       "      <td>1050</td>\n",
       "      <td>910</td>\n",
       "      <td>1965</td>\n",
       "      <td>0</td>\n",
       "      <td>98136</td>\n",
       "      <td>47.5208</td>\n",
       "      <td>-122.393</td>\n",
       "      <td>1360</td>\n",
       "      <td>5000</td>\n",
       "    </tr>\n",
       "    <tr>\n",
       "      <th>4</th>\n",
       "      <td>1954400510</td>\n",
       "      <td>20150218T000000</td>\n",
       "      <td>510000.0</td>\n",
       "      <td>3</td>\n",
       "      <td>2.00</td>\n",
       "      <td>1680</td>\n",
       "      <td>8080</td>\n",
       "      <td>1.0</td>\n",
       "      <td>0</td>\n",
       "      <td>0</td>\n",
       "      <td>3</td>\n",
       "      <td>8</td>\n",
       "      <td>1680</td>\n",
       "      <td>0</td>\n",
       "      <td>1987</td>\n",
       "      <td>0</td>\n",
       "      <td>98074</td>\n",
       "      <td>47.6168</td>\n",
       "      <td>-122.045</td>\n",
       "      <td>1800</td>\n",
       "      <td>7503</td>\n",
       "    </tr>\n",
       "  </tbody>\n",
       "</table>\n",
       "</div>"
      ],
      "text/plain": [
       "           id             date     price  bedrooms  bathrooms  sqft_living  \\\n",
       "0  7129300520  20141013T000000  221900.0         3       1.00         1180   \n",
       "1  6414100192  20141209T000000  538000.0         3       2.25         2570   \n",
       "2  5631500400  20150225T000000  180000.0         2       1.00          770   \n",
       "3  2487200875  20141209T000000  604000.0         4       3.00         1960   \n",
       "4  1954400510  20150218T000000  510000.0         3       2.00         1680   \n",
       "\n",
       "   sqft_lot  floors  waterfront  view  condition  grade  sqft_above  \\\n",
       "0      5650     1.0           0     0          3      7        1180   \n",
       "1      7242     2.0           0     0          3      7        2170   \n",
       "2     10000     1.0           0     0          3      6         770   \n",
       "3      5000     1.0           0     0          5      7        1050   \n",
       "4      8080     1.0           0     0          3      8        1680   \n",
       "\n",
       "   sqft_basement  yr_built  yr_renovated  zipcode      lat     long  \\\n",
       "0              0      1955             0    98178  47.5112 -122.257   \n",
       "1            400      1951          1991    98125  47.7210 -122.319   \n",
       "2              0      1933             0    98028  47.7379 -122.233   \n",
       "3            910      1965             0    98136  47.5208 -122.393   \n",
       "4              0      1987             0    98074  47.6168 -122.045   \n",
       "\n",
       "   sqft_living15  sqft_lot15  \n",
       "0           1340        5650  \n",
       "1           1690        7639  \n",
       "2           2720        8062  \n",
       "3           1360        5000  \n",
       "4           1800        7503  "
      ]
     },
     "execution_count": 1140,
     "metadata": {},
     "output_type": "execute_result"
    }
   ],
   "source": [
    "df.head()"
   ]
  },
  {
   "cell_type": "code",
   "execution_count": 1141,
   "id": "537e04e4-14ad-4eb8-9755-617900d7f2ad",
   "metadata": {},
   "outputs": [],
   "source": [
    "# EDA - Exploratory Data Analysis"
   ]
  },
  {
   "cell_type": "code",
   "execution_count": 1142,
   "id": "ffd60fff-a6cc-42ab-8bc3-b90f19be8e90",
   "metadata": {},
   "outputs": [
    {
     "data": {
      "text/html": [
       "<div>\n",
       "<style scoped>\n",
       "    .dataframe tbody tr th:only-of-type {\n",
       "        vertical-align: middle;\n",
       "    }\n",
       "\n",
       "    .dataframe tbody tr th {\n",
       "        vertical-align: top;\n",
       "    }\n",
       "\n",
       "    .dataframe thead th {\n",
       "        text-align: right;\n",
       "    }\n",
       "</style>\n",
       "<table border=\"1\" class=\"dataframe\">\n",
       "  <thead>\n",
       "    <tr style=\"text-align: right;\">\n",
       "      <th></th>\n",
       "      <th>id</th>\n",
       "      <th>date</th>\n",
       "      <th>price</th>\n",
       "      <th>bedrooms</th>\n",
       "      <th>bathrooms</th>\n",
       "      <th>sqft_living</th>\n",
       "      <th>sqft_lot</th>\n",
       "      <th>floors</th>\n",
       "      <th>waterfront</th>\n",
       "      <th>view</th>\n",
       "      <th>condition</th>\n",
       "      <th>grade</th>\n",
       "      <th>sqft_above</th>\n",
       "      <th>sqft_basement</th>\n",
       "      <th>yr_built</th>\n",
       "      <th>yr_renovated</th>\n",
       "      <th>zipcode</th>\n",
       "      <th>lat</th>\n",
       "      <th>long</th>\n",
       "      <th>sqft_living15</th>\n",
       "      <th>sqft_lot15</th>\n",
       "    </tr>\n",
       "  </thead>\n",
       "  <tbody>\n",
       "    <tr>\n",
       "      <th>0</th>\n",
       "      <td>7129300520</td>\n",
       "      <td>20141013T000000</td>\n",
       "      <td>221900.0</td>\n",
       "      <td>3</td>\n",
       "      <td>1.0</td>\n",
       "      <td>1180</td>\n",
       "      <td>5650</td>\n",
       "      <td>1.0</td>\n",
       "      <td>0</td>\n",
       "      <td>0</td>\n",
       "      <td>3</td>\n",
       "      <td>7</td>\n",
       "      <td>1180</td>\n",
       "      <td>0</td>\n",
       "      <td>1955</td>\n",
       "      <td>0</td>\n",
       "      <td>98178</td>\n",
       "      <td>47.5112</td>\n",
       "      <td>-122.257</td>\n",
       "      <td>1340</td>\n",
       "      <td>5650</td>\n",
       "    </tr>\n",
       "  </tbody>\n",
       "</table>\n",
       "</div>"
      ],
      "text/plain": [
       "           id             date     price  bedrooms  bathrooms  sqft_living  \\\n",
       "0  7129300520  20141013T000000  221900.0         3        1.0         1180   \n",
       "\n",
       "   sqft_lot  floors  waterfront  view  condition  grade  sqft_above  \\\n",
       "0      5650     1.0           0     0          3      7        1180   \n",
       "\n",
       "   sqft_basement  yr_built  yr_renovated  zipcode      lat     long  \\\n",
       "0              0      1955             0    98178  47.5112 -122.257   \n",
       "\n",
       "   sqft_living15  sqft_lot15  \n",
       "0           1340        5650  "
      ]
     },
     "execution_count": 1142,
     "metadata": {},
     "output_type": "execute_result"
    }
   ],
   "source": [
    "df.head(1)"
   ]
  },
  {
   "cell_type": "code",
   "execution_count": 1143,
   "id": "b1674159-a5aa-44af-9213-64240f699169",
   "metadata": {},
   "outputs": [
    {
     "data": {
      "text/html": [
       "<div>\n",
       "<style scoped>\n",
       "    .dataframe tbody tr th:only-of-type {\n",
       "        vertical-align: middle;\n",
       "    }\n",
       "\n",
       "    .dataframe tbody tr th {\n",
       "        vertical-align: top;\n",
       "    }\n",
       "\n",
       "    .dataframe thead th {\n",
       "        text-align: right;\n",
       "    }\n",
       "</style>\n",
       "<table border=\"1\" class=\"dataframe\">\n",
       "  <thead>\n",
       "    <tr style=\"text-align: right;\">\n",
       "      <th></th>\n",
       "      <th>id</th>\n",
       "      <th>date</th>\n",
       "      <th>price</th>\n",
       "      <th>bedrooms</th>\n",
       "      <th>bathrooms</th>\n",
       "      <th>sqft_living</th>\n",
       "      <th>sqft_lot</th>\n",
       "      <th>floors</th>\n",
       "      <th>waterfront</th>\n",
       "      <th>view</th>\n",
       "      <th>condition</th>\n",
       "      <th>grade</th>\n",
       "      <th>sqft_above</th>\n",
       "      <th>sqft_basement</th>\n",
       "      <th>yr_built</th>\n",
       "      <th>yr_renovated</th>\n",
       "      <th>zipcode</th>\n",
       "      <th>lat</th>\n",
       "      <th>long</th>\n",
       "      <th>sqft_living15</th>\n",
       "      <th>sqft_lot15</th>\n",
       "    </tr>\n",
       "  </thead>\n",
       "  <tbody>\n",
       "    <tr>\n",
       "      <th>17999</th>\n",
       "      <td>3396800120</td>\n",
       "      <td>20150427T000000</td>\n",
       "      <td>540000.0</td>\n",
       "      <td>3</td>\n",
       "      <td>2.50</td>\n",
       "      <td>2180</td>\n",
       "      <td>11100</td>\n",
       "      <td>1.0</td>\n",
       "      <td>0</td>\n",
       "      <td>0</td>\n",
       "      <td>3</td>\n",
       "      <td>8</td>\n",
       "      <td>1230</td>\n",
       "      <td>950</td>\n",
       "      <td>1983</td>\n",
       "      <td>0</td>\n",
       "      <td>98052</td>\n",
       "      <td>47.7170</td>\n",
       "      <td>-122.101</td>\n",
       "      <td>1930</td>\n",
       "      <td>12000</td>\n",
       "    </tr>\n",
       "    <tr>\n",
       "      <th>17392</th>\n",
       "      <td>8651410190</td>\n",
       "      <td>20141112T000000</td>\n",
       "      <td>179950.0</td>\n",
       "      <td>3</td>\n",
       "      <td>1.00</td>\n",
       "      <td>920</td>\n",
       "      <td>4875</td>\n",
       "      <td>1.0</td>\n",
       "      <td>0</td>\n",
       "      <td>0</td>\n",
       "      <td>5</td>\n",
       "      <td>6</td>\n",
       "      <td>920</td>\n",
       "      <td>0</td>\n",
       "      <td>1969</td>\n",
       "      <td>0</td>\n",
       "      <td>98042</td>\n",
       "      <td>47.3648</td>\n",
       "      <td>-122.081</td>\n",
       "      <td>960</td>\n",
       "      <td>5200</td>\n",
       "    </tr>\n",
       "    <tr>\n",
       "      <th>14546</th>\n",
       "      <td>3211700035</td>\n",
       "      <td>20140625T000000</td>\n",
       "      <td>557500.0</td>\n",
       "      <td>3</td>\n",
       "      <td>1.75</td>\n",
       "      <td>1900</td>\n",
       "      <td>11165</td>\n",
       "      <td>1.0</td>\n",
       "      <td>0</td>\n",
       "      <td>0</td>\n",
       "      <td>4</td>\n",
       "      <td>7</td>\n",
       "      <td>1900</td>\n",
       "      <td>0</td>\n",
       "      <td>1959</td>\n",
       "      <td>0</td>\n",
       "      <td>98008</td>\n",
       "      <td>47.5789</td>\n",
       "      <td>-122.118</td>\n",
       "      <td>2030</td>\n",
       "      <td>11165</td>\n",
       "    </tr>\n",
       "  </tbody>\n",
       "</table>\n",
       "</div>"
      ],
      "text/plain": [
       "               id             date     price  bedrooms  bathrooms  \\\n",
       "17999  3396800120  20150427T000000  540000.0         3       2.50   \n",
       "17392  8651410190  20141112T000000  179950.0         3       1.00   \n",
       "14546  3211700035  20140625T000000  557500.0         3       1.75   \n",
       "\n",
       "       sqft_living  sqft_lot  floors  waterfront  view  condition  grade  \\\n",
       "17999         2180     11100     1.0           0     0          3      8   \n",
       "17392          920      4875     1.0           0     0          5      6   \n",
       "14546         1900     11165     1.0           0     0          4      7   \n",
       "\n",
       "       sqft_above  sqft_basement  yr_built  yr_renovated  zipcode      lat  \\\n",
       "17999        1230            950      1983             0    98052  47.7170   \n",
       "17392         920              0      1969             0    98042  47.3648   \n",
       "14546        1900              0      1959             0    98008  47.5789   \n",
       "\n",
       "          long  sqft_living15  sqft_lot15  \n",
       "17999 -122.101           1930       12000  \n",
       "17392 -122.081            960        5200  \n",
       "14546 -122.118           2030       11165  "
      ]
     },
     "execution_count": 1143,
     "metadata": {},
     "output_type": "execute_result"
    }
   ],
   "source": [
    "df.sample(3)"
   ]
  },
  {
   "cell_type": "code",
   "execution_count": 1144,
   "id": "4bf8bac2-db97-4620-8c15-77951826540c",
   "metadata": {},
   "outputs": [
    {
     "data": {
      "text/html": [
       "<div>\n",
       "<style scoped>\n",
       "    .dataframe tbody tr th:only-of-type {\n",
       "        vertical-align: middle;\n",
       "    }\n",
       "\n",
       "    .dataframe tbody tr th {\n",
       "        vertical-align: top;\n",
       "    }\n",
       "\n",
       "    .dataframe thead th {\n",
       "        text-align: right;\n",
       "    }\n",
       "</style>\n",
       "<table border=\"1\" class=\"dataframe\">\n",
       "  <thead>\n",
       "    <tr style=\"text-align: right;\">\n",
       "      <th></th>\n",
       "      <th>id</th>\n",
       "      <th>price</th>\n",
       "      <th>bedrooms</th>\n",
       "      <th>bathrooms</th>\n",
       "      <th>sqft_living</th>\n",
       "      <th>sqft_lot</th>\n",
       "      <th>floors</th>\n",
       "      <th>waterfront</th>\n",
       "      <th>view</th>\n",
       "      <th>condition</th>\n",
       "      <th>grade</th>\n",
       "      <th>sqft_above</th>\n",
       "      <th>sqft_basement</th>\n",
       "      <th>yr_built</th>\n",
       "      <th>yr_renovated</th>\n",
       "      <th>zipcode</th>\n",
       "      <th>lat</th>\n",
       "      <th>long</th>\n",
       "      <th>sqft_living15</th>\n",
       "      <th>sqft_lot15</th>\n",
       "    </tr>\n",
       "  </thead>\n",
       "  <tbody>\n",
       "    <tr>\n",
       "      <th>count</th>\n",
       "      <td>2.161300e+04</td>\n",
       "      <td>2.161300e+04</td>\n",
       "      <td>21613.000000</td>\n",
       "      <td>21613.000000</td>\n",
       "      <td>21613.000000</td>\n",
       "      <td>2.161300e+04</td>\n",
       "      <td>21613.000000</td>\n",
       "      <td>21613.000000</td>\n",
       "      <td>21613.000000</td>\n",
       "      <td>21613.000000</td>\n",
       "      <td>21613.000000</td>\n",
       "      <td>21613.000000</td>\n",
       "      <td>21613.000000</td>\n",
       "      <td>21613.000000</td>\n",
       "      <td>21613.000000</td>\n",
       "      <td>21613.000000</td>\n",
       "      <td>21613.000000</td>\n",
       "      <td>21613.000000</td>\n",
       "      <td>21613.000000</td>\n",
       "      <td>21613.000000</td>\n",
       "    </tr>\n",
       "    <tr>\n",
       "      <th>mean</th>\n",
       "      <td>4.580302e+09</td>\n",
       "      <td>5.400881e+05</td>\n",
       "      <td>3.370842</td>\n",
       "      <td>2.114757</td>\n",
       "      <td>2079.899736</td>\n",
       "      <td>1.510697e+04</td>\n",
       "      <td>1.494309</td>\n",
       "      <td>0.007542</td>\n",
       "      <td>0.234303</td>\n",
       "      <td>3.409430</td>\n",
       "      <td>7.656873</td>\n",
       "      <td>1788.390691</td>\n",
       "      <td>291.509045</td>\n",
       "      <td>1971.005136</td>\n",
       "      <td>84.402258</td>\n",
       "      <td>98077.939805</td>\n",
       "      <td>47.560053</td>\n",
       "      <td>-122.213896</td>\n",
       "      <td>1986.552492</td>\n",
       "      <td>12768.455652</td>\n",
       "    </tr>\n",
       "    <tr>\n",
       "      <th>std</th>\n",
       "      <td>2.876566e+09</td>\n",
       "      <td>3.671272e+05</td>\n",
       "      <td>0.930062</td>\n",
       "      <td>0.770163</td>\n",
       "      <td>918.440897</td>\n",
       "      <td>4.142051e+04</td>\n",
       "      <td>0.539989</td>\n",
       "      <td>0.086517</td>\n",
       "      <td>0.766318</td>\n",
       "      <td>0.650743</td>\n",
       "      <td>1.175459</td>\n",
       "      <td>828.090978</td>\n",
       "      <td>442.575043</td>\n",
       "      <td>29.373411</td>\n",
       "      <td>401.679240</td>\n",
       "      <td>53.505026</td>\n",
       "      <td>0.138564</td>\n",
       "      <td>0.140828</td>\n",
       "      <td>685.391304</td>\n",
       "      <td>27304.179631</td>\n",
       "    </tr>\n",
       "    <tr>\n",
       "      <th>min</th>\n",
       "      <td>1.000102e+06</td>\n",
       "      <td>7.500000e+04</td>\n",
       "      <td>0.000000</td>\n",
       "      <td>0.000000</td>\n",
       "      <td>290.000000</td>\n",
       "      <td>5.200000e+02</td>\n",
       "      <td>1.000000</td>\n",
       "      <td>0.000000</td>\n",
       "      <td>0.000000</td>\n",
       "      <td>1.000000</td>\n",
       "      <td>1.000000</td>\n",
       "      <td>290.000000</td>\n",
       "      <td>0.000000</td>\n",
       "      <td>1900.000000</td>\n",
       "      <td>0.000000</td>\n",
       "      <td>98001.000000</td>\n",
       "      <td>47.155900</td>\n",
       "      <td>-122.519000</td>\n",
       "      <td>399.000000</td>\n",
       "      <td>651.000000</td>\n",
       "    </tr>\n",
       "    <tr>\n",
       "      <th>25%</th>\n",
       "      <td>2.123049e+09</td>\n",
       "      <td>3.219500e+05</td>\n",
       "      <td>3.000000</td>\n",
       "      <td>1.750000</td>\n",
       "      <td>1427.000000</td>\n",
       "      <td>5.040000e+03</td>\n",
       "      <td>1.000000</td>\n",
       "      <td>0.000000</td>\n",
       "      <td>0.000000</td>\n",
       "      <td>3.000000</td>\n",
       "      <td>7.000000</td>\n",
       "      <td>1190.000000</td>\n",
       "      <td>0.000000</td>\n",
       "      <td>1951.000000</td>\n",
       "      <td>0.000000</td>\n",
       "      <td>98033.000000</td>\n",
       "      <td>47.471000</td>\n",
       "      <td>-122.328000</td>\n",
       "      <td>1490.000000</td>\n",
       "      <td>5100.000000</td>\n",
       "    </tr>\n",
       "    <tr>\n",
       "      <th>50%</th>\n",
       "      <td>3.904930e+09</td>\n",
       "      <td>4.500000e+05</td>\n",
       "      <td>3.000000</td>\n",
       "      <td>2.250000</td>\n",
       "      <td>1910.000000</td>\n",
       "      <td>7.618000e+03</td>\n",
       "      <td>1.500000</td>\n",
       "      <td>0.000000</td>\n",
       "      <td>0.000000</td>\n",
       "      <td>3.000000</td>\n",
       "      <td>7.000000</td>\n",
       "      <td>1560.000000</td>\n",
       "      <td>0.000000</td>\n",
       "      <td>1975.000000</td>\n",
       "      <td>0.000000</td>\n",
       "      <td>98065.000000</td>\n",
       "      <td>47.571800</td>\n",
       "      <td>-122.230000</td>\n",
       "      <td>1840.000000</td>\n",
       "      <td>7620.000000</td>\n",
       "    </tr>\n",
       "    <tr>\n",
       "      <th>75%</th>\n",
       "      <td>7.308900e+09</td>\n",
       "      <td>6.450000e+05</td>\n",
       "      <td>4.000000</td>\n",
       "      <td>2.500000</td>\n",
       "      <td>2550.000000</td>\n",
       "      <td>1.068800e+04</td>\n",
       "      <td>2.000000</td>\n",
       "      <td>0.000000</td>\n",
       "      <td>0.000000</td>\n",
       "      <td>4.000000</td>\n",
       "      <td>8.000000</td>\n",
       "      <td>2210.000000</td>\n",
       "      <td>560.000000</td>\n",
       "      <td>1997.000000</td>\n",
       "      <td>0.000000</td>\n",
       "      <td>98118.000000</td>\n",
       "      <td>47.678000</td>\n",
       "      <td>-122.125000</td>\n",
       "      <td>2360.000000</td>\n",
       "      <td>10083.000000</td>\n",
       "    </tr>\n",
       "    <tr>\n",
       "      <th>max</th>\n",
       "      <td>9.900000e+09</td>\n",
       "      <td>7.700000e+06</td>\n",
       "      <td>33.000000</td>\n",
       "      <td>8.000000</td>\n",
       "      <td>13540.000000</td>\n",
       "      <td>1.651359e+06</td>\n",
       "      <td>3.500000</td>\n",
       "      <td>1.000000</td>\n",
       "      <td>4.000000</td>\n",
       "      <td>5.000000</td>\n",
       "      <td>13.000000</td>\n",
       "      <td>9410.000000</td>\n",
       "      <td>4820.000000</td>\n",
       "      <td>2015.000000</td>\n",
       "      <td>2015.000000</td>\n",
       "      <td>98199.000000</td>\n",
       "      <td>47.777600</td>\n",
       "      <td>-121.315000</td>\n",
       "      <td>6210.000000</td>\n",
       "      <td>871200.000000</td>\n",
       "    </tr>\n",
       "  </tbody>\n",
       "</table>\n",
       "</div>"
      ],
      "text/plain": [
       "                 id         price      bedrooms     bathrooms   sqft_living  \\\n",
       "count  2.161300e+04  2.161300e+04  21613.000000  21613.000000  21613.000000   \n",
       "mean   4.580302e+09  5.400881e+05      3.370842      2.114757   2079.899736   \n",
       "std    2.876566e+09  3.671272e+05      0.930062      0.770163    918.440897   \n",
       "min    1.000102e+06  7.500000e+04      0.000000      0.000000    290.000000   \n",
       "25%    2.123049e+09  3.219500e+05      3.000000      1.750000   1427.000000   \n",
       "50%    3.904930e+09  4.500000e+05      3.000000      2.250000   1910.000000   \n",
       "75%    7.308900e+09  6.450000e+05      4.000000      2.500000   2550.000000   \n",
       "max    9.900000e+09  7.700000e+06     33.000000      8.000000  13540.000000   \n",
       "\n",
       "           sqft_lot        floors    waterfront          view     condition  \\\n",
       "count  2.161300e+04  21613.000000  21613.000000  21613.000000  21613.000000   \n",
       "mean   1.510697e+04      1.494309      0.007542      0.234303      3.409430   \n",
       "std    4.142051e+04      0.539989      0.086517      0.766318      0.650743   \n",
       "min    5.200000e+02      1.000000      0.000000      0.000000      1.000000   \n",
       "25%    5.040000e+03      1.000000      0.000000      0.000000      3.000000   \n",
       "50%    7.618000e+03      1.500000      0.000000      0.000000      3.000000   \n",
       "75%    1.068800e+04      2.000000      0.000000      0.000000      4.000000   \n",
       "max    1.651359e+06      3.500000      1.000000      4.000000      5.000000   \n",
       "\n",
       "              grade    sqft_above  sqft_basement      yr_built  yr_renovated  \\\n",
       "count  21613.000000  21613.000000   21613.000000  21613.000000  21613.000000   \n",
       "mean       7.656873   1788.390691     291.509045   1971.005136     84.402258   \n",
       "std        1.175459    828.090978     442.575043     29.373411    401.679240   \n",
       "min        1.000000    290.000000       0.000000   1900.000000      0.000000   \n",
       "25%        7.000000   1190.000000       0.000000   1951.000000      0.000000   \n",
       "50%        7.000000   1560.000000       0.000000   1975.000000      0.000000   \n",
       "75%        8.000000   2210.000000     560.000000   1997.000000      0.000000   \n",
       "max       13.000000   9410.000000    4820.000000   2015.000000   2015.000000   \n",
       "\n",
       "            zipcode           lat          long  sqft_living15     sqft_lot15  \n",
       "count  21613.000000  21613.000000  21613.000000   21613.000000   21613.000000  \n",
       "mean   98077.939805     47.560053   -122.213896    1986.552492   12768.455652  \n",
       "std       53.505026      0.138564      0.140828     685.391304   27304.179631  \n",
       "min    98001.000000     47.155900   -122.519000     399.000000     651.000000  \n",
       "25%    98033.000000     47.471000   -122.328000    1490.000000    5100.000000  \n",
       "50%    98065.000000     47.571800   -122.230000    1840.000000    7620.000000  \n",
       "75%    98118.000000     47.678000   -122.125000    2360.000000   10083.000000  \n",
       "max    98199.000000     47.777600   -121.315000    6210.000000  871200.000000  "
      ]
     },
     "execution_count": 1144,
     "metadata": {},
     "output_type": "execute_result"
    }
   ],
   "source": [
    "df.describe()"
   ]
  },
  {
   "cell_type": "code",
   "execution_count": 1145,
   "id": "f0846b3c-0a34-47a6-b96e-945d31e03511",
   "metadata": {
    "scrolled": true
   },
   "outputs": [
    {
     "data": {
      "text/html": [
       "<div>\n",
       "<style scoped>\n",
       "    .dataframe tbody tr th:only-of-type {\n",
       "        vertical-align: middle;\n",
       "    }\n",
       "\n",
       "    .dataframe tbody tr th {\n",
       "        vertical-align: top;\n",
       "    }\n",
       "\n",
       "    .dataframe thead th {\n",
       "        text-align: right;\n",
       "    }\n",
       "</style>\n",
       "<table border=\"1\" class=\"dataframe\">\n",
       "  <thead>\n",
       "    <tr style=\"text-align: right;\">\n",
       "      <th></th>\n",
       "      <th>id</th>\n",
       "      <th>price</th>\n",
       "      <th>bedrooms</th>\n",
       "      <th>bathrooms</th>\n",
       "      <th>sqft_living</th>\n",
       "      <th>sqft_lot</th>\n",
       "      <th>floors</th>\n",
       "      <th>waterfront</th>\n",
       "      <th>view</th>\n",
       "      <th>condition</th>\n",
       "      <th>grade</th>\n",
       "      <th>sqft_above</th>\n",
       "      <th>sqft_basement</th>\n",
       "      <th>yr_built</th>\n",
       "      <th>yr_renovated</th>\n",
       "      <th>zipcode</th>\n",
       "      <th>lat</th>\n",
       "      <th>long</th>\n",
       "      <th>sqft_living15</th>\n",
       "      <th>sqft_lot15</th>\n",
       "    </tr>\n",
       "  </thead>\n",
       "  <tbody>\n",
       "    <tr>\n",
       "      <th>id</th>\n",
       "      <td>1.000000</td>\n",
       "      <td>-0.016762</td>\n",
       "      <td>0.001286</td>\n",
       "      <td>0.005160</td>\n",
       "      <td>-0.012258</td>\n",
       "      <td>-0.132109</td>\n",
       "      <td>0.018525</td>\n",
       "      <td>-0.002721</td>\n",
       "      <td>0.011592</td>\n",
       "      <td>-0.023783</td>\n",
       "      <td>0.008130</td>\n",
       "      <td>-0.010842</td>\n",
       "      <td>-0.005151</td>\n",
       "      <td>0.021380</td>\n",
       "      <td>-0.016907</td>\n",
       "      <td>-0.008224</td>\n",
       "      <td>-0.001891</td>\n",
       "      <td>0.020799</td>\n",
       "      <td>-0.002901</td>\n",
       "      <td>-0.138798</td>\n",
       "    </tr>\n",
       "    <tr>\n",
       "      <th>price</th>\n",
       "      <td>-0.016762</td>\n",
       "      <td>1.000000</td>\n",
       "      <td>0.308350</td>\n",
       "      <td>0.525138</td>\n",
       "      <td>0.702035</td>\n",
       "      <td>0.089661</td>\n",
       "      <td>0.256794</td>\n",
       "      <td>0.266369</td>\n",
       "      <td>0.397293</td>\n",
       "      <td>0.036362</td>\n",
       "      <td>0.667434</td>\n",
       "      <td>0.605567</td>\n",
       "      <td>0.323816</td>\n",
       "      <td>0.054012</td>\n",
       "      <td>0.126434</td>\n",
       "      <td>-0.053203</td>\n",
       "      <td>0.307003</td>\n",
       "      <td>0.021626</td>\n",
       "      <td>0.585379</td>\n",
       "      <td>0.082447</td>\n",
       "    </tr>\n",
       "    <tr>\n",
       "      <th>bedrooms</th>\n",
       "      <td>0.001286</td>\n",
       "      <td>0.308350</td>\n",
       "      <td>1.000000</td>\n",
       "      <td>0.515884</td>\n",
       "      <td>0.576671</td>\n",
       "      <td>0.031703</td>\n",
       "      <td>0.175429</td>\n",
       "      <td>-0.006582</td>\n",
       "      <td>0.079532</td>\n",
       "      <td>0.028472</td>\n",
       "      <td>0.356967</td>\n",
       "      <td>0.477600</td>\n",
       "      <td>0.303093</td>\n",
       "      <td>0.154178</td>\n",
       "      <td>0.018841</td>\n",
       "      <td>-0.152668</td>\n",
       "      <td>-0.008931</td>\n",
       "      <td>0.129473</td>\n",
       "      <td>0.391638</td>\n",
       "      <td>0.029244</td>\n",
       "    </tr>\n",
       "    <tr>\n",
       "      <th>bathrooms</th>\n",
       "      <td>0.005160</td>\n",
       "      <td>0.525138</td>\n",
       "      <td>0.515884</td>\n",
       "      <td>1.000000</td>\n",
       "      <td>0.754665</td>\n",
       "      <td>0.087740</td>\n",
       "      <td>0.500653</td>\n",
       "      <td>0.063744</td>\n",
       "      <td>0.187737</td>\n",
       "      <td>-0.124982</td>\n",
       "      <td>0.664983</td>\n",
       "      <td>0.685342</td>\n",
       "      <td>0.283770</td>\n",
       "      <td>0.506019</td>\n",
       "      <td>0.050739</td>\n",
       "      <td>-0.203866</td>\n",
       "      <td>0.024573</td>\n",
       "      <td>0.223042</td>\n",
       "      <td>0.568634</td>\n",
       "      <td>0.087175</td>\n",
       "    </tr>\n",
       "    <tr>\n",
       "      <th>sqft_living</th>\n",
       "      <td>-0.012258</td>\n",
       "      <td>0.702035</td>\n",
       "      <td>0.576671</td>\n",
       "      <td>0.754665</td>\n",
       "      <td>1.000000</td>\n",
       "      <td>0.172826</td>\n",
       "      <td>0.353949</td>\n",
       "      <td>0.103818</td>\n",
       "      <td>0.284611</td>\n",
       "      <td>-0.058753</td>\n",
       "      <td>0.762704</td>\n",
       "      <td>0.876597</td>\n",
       "      <td>0.435043</td>\n",
       "      <td>0.318049</td>\n",
       "      <td>0.055363</td>\n",
       "      <td>-0.199430</td>\n",
       "      <td>0.052529</td>\n",
       "      <td>0.240223</td>\n",
       "      <td>0.756420</td>\n",
       "      <td>0.183286</td>\n",
       "    </tr>\n",
       "    <tr>\n",
       "      <th>sqft_lot</th>\n",
       "      <td>-0.132109</td>\n",
       "      <td>0.089661</td>\n",
       "      <td>0.031703</td>\n",
       "      <td>0.087740</td>\n",
       "      <td>0.172826</td>\n",
       "      <td>1.000000</td>\n",
       "      <td>-0.005201</td>\n",
       "      <td>0.021604</td>\n",
       "      <td>0.074710</td>\n",
       "      <td>-0.008958</td>\n",
       "      <td>0.113621</td>\n",
       "      <td>0.183512</td>\n",
       "      <td>0.015286</td>\n",
       "      <td>0.053080</td>\n",
       "      <td>0.007644</td>\n",
       "      <td>-0.129574</td>\n",
       "      <td>-0.085683</td>\n",
       "      <td>0.229521</td>\n",
       "      <td>0.144608</td>\n",
       "      <td>0.718557</td>\n",
       "    </tr>\n",
       "    <tr>\n",
       "      <th>floors</th>\n",
       "      <td>0.018525</td>\n",
       "      <td>0.256794</td>\n",
       "      <td>0.175429</td>\n",
       "      <td>0.500653</td>\n",
       "      <td>0.353949</td>\n",
       "      <td>-0.005201</td>\n",
       "      <td>1.000000</td>\n",
       "      <td>0.023698</td>\n",
       "      <td>0.029444</td>\n",
       "      <td>-0.263768</td>\n",
       "      <td>0.458183</td>\n",
       "      <td>0.523885</td>\n",
       "      <td>-0.245705</td>\n",
       "      <td>0.489319</td>\n",
       "      <td>0.006338</td>\n",
       "      <td>-0.059121</td>\n",
       "      <td>0.049614</td>\n",
       "      <td>0.125419</td>\n",
       "      <td>0.279885</td>\n",
       "      <td>-0.011269</td>\n",
       "    </tr>\n",
       "    <tr>\n",
       "      <th>waterfront</th>\n",
       "      <td>-0.002721</td>\n",
       "      <td>0.266369</td>\n",
       "      <td>-0.006582</td>\n",
       "      <td>0.063744</td>\n",
       "      <td>0.103818</td>\n",
       "      <td>0.021604</td>\n",
       "      <td>0.023698</td>\n",
       "      <td>1.000000</td>\n",
       "      <td>0.401857</td>\n",
       "      <td>0.016653</td>\n",
       "      <td>0.082775</td>\n",
       "      <td>0.072075</td>\n",
       "      <td>0.080588</td>\n",
       "      <td>-0.026161</td>\n",
       "      <td>0.092885</td>\n",
       "      <td>0.030285</td>\n",
       "      <td>-0.014274</td>\n",
       "      <td>-0.041910</td>\n",
       "      <td>0.086463</td>\n",
       "      <td>0.030703</td>\n",
       "    </tr>\n",
       "    <tr>\n",
       "      <th>view</th>\n",
       "      <td>0.011592</td>\n",
       "      <td>0.397293</td>\n",
       "      <td>0.079532</td>\n",
       "      <td>0.187737</td>\n",
       "      <td>0.284611</td>\n",
       "      <td>0.074710</td>\n",
       "      <td>0.029444</td>\n",
       "      <td>0.401857</td>\n",
       "      <td>1.000000</td>\n",
       "      <td>0.045990</td>\n",
       "      <td>0.251321</td>\n",
       "      <td>0.167649</td>\n",
       "      <td>0.276947</td>\n",
       "      <td>-0.053440</td>\n",
       "      <td>0.103917</td>\n",
       "      <td>0.084827</td>\n",
       "      <td>0.006157</td>\n",
       "      <td>-0.078400</td>\n",
       "      <td>0.280439</td>\n",
       "      <td>0.072575</td>\n",
       "    </tr>\n",
       "    <tr>\n",
       "      <th>condition</th>\n",
       "      <td>-0.023783</td>\n",
       "      <td>0.036362</td>\n",
       "      <td>0.028472</td>\n",
       "      <td>-0.124982</td>\n",
       "      <td>-0.058753</td>\n",
       "      <td>-0.008958</td>\n",
       "      <td>-0.263768</td>\n",
       "      <td>0.016653</td>\n",
       "      <td>0.045990</td>\n",
       "      <td>1.000000</td>\n",
       "      <td>-0.144674</td>\n",
       "      <td>-0.158214</td>\n",
       "      <td>0.174105</td>\n",
       "      <td>-0.361417</td>\n",
       "      <td>-0.060618</td>\n",
       "      <td>0.003026</td>\n",
       "      <td>-0.014941</td>\n",
       "      <td>-0.106500</td>\n",
       "      <td>-0.092824</td>\n",
       "      <td>-0.003406</td>\n",
       "    </tr>\n",
       "    <tr>\n",
       "      <th>grade</th>\n",
       "      <td>0.008130</td>\n",
       "      <td>0.667434</td>\n",
       "      <td>0.356967</td>\n",
       "      <td>0.664983</td>\n",
       "      <td>0.762704</td>\n",
       "      <td>0.113621</td>\n",
       "      <td>0.458183</td>\n",
       "      <td>0.082775</td>\n",
       "      <td>0.251321</td>\n",
       "      <td>-0.144674</td>\n",
       "      <td>1.000000</td>\n",
       "      <td>0.755923</td>\n",
       "      <td>0.168392</td>\n",
       "      <td>0.446963</td>\n",
       "      <td>0.014414</td>\n",
       "      <td>-0.184862</td>\n",
       "      <td>0.114084</td>\n",
       "      <td>0.198372</td>\n",
       "      <td>0.713202</td>\n",
       "      <td>0.119248</td>\n",
       "    </tr>\n",
       "    <tr>\n",
       "      <th>sqft_above</th>\n",
       "      <td>-0.010842</td>\n",
       "      <td>0.605567</td>\n",
       "      <td>0.477600</td>\n",
       "      <td>0.685342</td>\n",
       "      <td>0.876597</td>\n",
       "      <td>0.183512</td>\n",
       "      <td>0.523885</td>\n",
       "      <td>0.072075</td>\n",
       "      <td>0.167649</td>\n",
       "      <td>-0.158214</td>\n",
       "      <td>0.755923</td>\n",
       "      <td>1.000000</td>\n",
       "      <td>-0.051943</td>\n",
       "      <td>0.423898</td>\n",
       "      <td>0.023285</td>\n",
       "      <td>-0.261190</td>\n",
       "      <td>-0.000816</td>\n",
       "      <td>0.343803</td>\n",
       "      <td>0.731870</td>\n",
       "      <td>0.194050</td>\n",
       "    </tr>\n",
       "    <tr>\n",
       "      <th>sqft_basement</th>\n",
       "      <td>-0.005151</td>\n",
       "      <td>0.323816</td>\n",
       "      <td>0.303093</td>\n",
       "      <td>0.283770</td>\n",
       "      <td>0.435043</td>\n",
       "      <td>0.015286</td>\n",
       "      <td>-0.245705</td>\n",
       "      <td>0.080588</td>\n",
       "      <td>0.276947</td>\n",
       "      <td>0.174105</td>\n",
       "      <td>0.168392</td>\n",
       "      <td>-0.051943</td>\n",
       "      <td>1.000000</td>\n",
       "      <td>-0.133124</td>\n",
       "      <td>0.071323</td>\n",
       "      <td>0.074845</td>\n",
       "      <td>0.110538</td>\n",
       "      <td>-0.144765</td>\n",
       "      <td>0.200355</td>\n",
       "      <td>0.017276</td>\n",
       "    </tr>\n",
       "    <tr>\n",
       "      <th>yr_built</th>\n",
       "      <td>0.021380</td>\n",
       "      <td>0.054012</td>\n",
       "      <td>0.154178</td>\n",
       "      <td>0.506019</td>\n",
       "      <td>0.318049</td>\n",
       "      <td>0.053080</td>\n",
       "      <td>0.489319</td>\n",
       "      <td>-0.026161</td>\n",
       "      <td>-0.053440</td>\n",
       "      <td>-0.361417</td>\n",
       "      <td>0.446963</td>\n",
       "      <td>0.423898</td>\n",
       "      <td>-0.133124</td>\n",
       "      <td>1.000000</td>\n",
       "      <td>-0.224874</td>\n",
       "      <td>-0.346869</td>\n",
       "      <td>-0.148122</td>\n",
       "      <td>0.409356</td>\n",
       "      <td>0.326229</td>\n",
       "      <td>0.070958</td>\n",
       "    </tr>\n",
       "    <tr>\n",
       "      <th>yr_renovated</th>\n",
       "      <td>-0.016907</td>\n",
       "      <td>0.126434</td>\n",
       "      <td>0.018841</td>\n",
       "      <td>0.050739</td>\n",
       "      <td>0.055363</td>\n",
       "      <td>0.007644</td>\n",
       "      <td>0.006338</td>\n",
       "      <td>0.092885</td>\n",
       "      <td>0.103917</td>\n",
       "      <td>-0.060618</td>\n",
       "      <td>0.014414</td>\n",
       "      <td>0.023285</td>\n",
       "      <td>0.071323</td>\n",
       "      <td>-0.224874</td>\n",
       "      <td>1.000000</td>\n",
       "      <td>0.064357</td>\n",
       "      <td>0.029398</td>\n",
       "      <td>-0.068372</td>\n",
       "      <td>-0.002673</td>\n",
       "      <td>0.007854</td>\n",
       "    </tr>\n",
       "    <tr>\n",
       "      <th>zipcode</th>\n",
       "      <td>-0.008224</td>\n",
       "      <td>-0.053203</td>\n",
       "      <td>-0.152668</td>\n",
       "      <td>-0.203866</td>\n",
       "      <td>-0.199430</td>\n",
       "      <td>-0.129574</td>\n",
       "      <td>-0.059121</td>\n",
       "      <td>0.030285</td>\n",
       "      <td>0.084827</td>\n",
       "      <td>0.003026</td>\n",
       "      <td>-0.184862</td>\n",
       "      <td>-0.261190</td>\n",
       "      <td>0.074845</td>\n",
       "      <td>-0.346869</td>\n",
       "      <td>0.064357</td>\n",
       "      <td>1.000000</td>\n",
       "      <td>0.267048</td>\n",
       "      <td>-0.564072</td>\n",
       "      <td>-0.279033</td>\n",
       "      <td>-0.147221</td>\n",
       "    </tr>\n",
       "    <tr>\n",
       "      <th>lat</th>\n",
       "      <td>-0.001891</td>\n",
       "      <td>0.307003</td>\n",
       "      <td>-0.008931</td>\n",
       "      <td>0.024573</td>\n",
       "      <td>0.052529</td>\n",
       "      <td>-0.085683</td>\n",
       "      <td>0.049614</td>\n",
       "      <td>-0.014274</td>\n",
       "      <td>0.006157</td>\n",
       "      <td>-0.014941</td>\n",
       "      <td>0.114084</td>\n",
       "      <td>-0.000816</td>\n",
       "      <td>0.110538</td>\n",
       "      <td>-0.148122</td>\n",
       "      <td>0.029398</td>\n",
       "      <td>0.267048</td>\n",
       "      <td>1.000000</td>\n",
       "      <td>-0.135512</td>\n",
       "      <td>0.048858</td>\n",
       "      <td>-0.086419</td>\n",
       "    </tr>\n",
       "    <tr>\n",
       "      <th>long</th>\n",
       "      <td>0.020799</td>\n",
       "      <td>0.021626</td>\n",
       "      <td>0.129473</td>\n",
       "      <td>0.223042</td>\n",
       "      <td>0.240223</td>\n",
       "      <td>0.229521</td>\n",
       "      <td>0.125419</td>\n",
       "      <td>-0.041910</td>\n",
       "      <td>-0.078400</td>\n",
       "      <td>-0.106500</td>\n",
       "      <td>0.198372</td>\n",
       "      <td>0.343803</td>\n",
       "      <td>-0.144765</td>\n",
       "      <td>0.409356</td>\n",
       "      <td>-0.068372</td>\n",
       "      <td>-0.564072</td>\n",
       "      <td>-0.135512</td>\n",
       "      <td>1.000000</td>\n",
       "      <td>0.334605</td>\n",
       "      <td>0.254451</td>\n",
       "    </tr>\n",
       "    <tr>\n",
       "      <th>sqft_living15</th>\n",
       "      <td>-0.002901</td>\n",
       "      <td>0.585379</td>\n",
       "      <td>0.391638</td>\n",
       "      <td>0.568634</td>\n",
       "      <td>0.756420</td>\n",
       "      <td>0.144608</td>\n",
       "      <td>0.279885</td>\n",
       "      <td>0.086463</td>\n",
       "      <td>0.280439</td>\n",
       "      <td>-0.092824</td>\n",
       "      <td>0.713202</td>\n",
       "      <td>0.731870</td>\n",
       "      <td>0.200355</td>\n",
       "      <td>0.326229</td>\n",
       "      <td>-0.002673</td>\n",
       "      <td>-0.279033</td>\n",
       "      <td>0.048858</td>\n",
       "      <td>0.334605</td>\n",
       "      <td>1.000000</td>\n",
       "      <td>0.183192</td>\n",
       "    </tr>\n",
       "    <tr>\n",
       "      <th>sqft_lot15</th>\n",
       "      <td>-0.138798</td>\n",
       "      <td>0.082447</td>\n",
       "      <td>0.029244</td>\n",
       "      <td>0.087175</td>\n",
       "      <td>0.183286</td>\n",
       "      <td>0.718557</td>\n",
       "      <td>-0.011269</td>\n",
       "      <td>0.030703</td>\n",
       "      <td>0.072575</td>\n",
       "      <td>-0.003406</td>\n",
       "      <td>0.119248</td>\n",
       "      <td>0.194050</td>\n",
       "      <td>0.017276</td>\n",
       "      <td>0.070958</td>\n",
       "      <td>0.007854</td>\n",
       "      <td>-0.147221</td>\n",
       "      <td>-0.086419</td>\n",
       "      <td>0.254451</td>\n",
       "      <td>0.183192</td>\n",
       "      <td>1.000000</td>\n",
       "    </tr>\n",
       "  </tbody>\n",
       "</table>\n",
       "</div>"
      ],
      "text/plain": [
       "                     id     price  bedrooms  bathrooms  sqft_living  sqft_lot  \\\n",
       "id             1.000000 -0.016762  0.001286   0.005160    -0.012258 -0.132109   \n",
       "price         -0.016762  1.000000  0.308350   0.525138     0.702035  0.089661   \n",
       "bedrooms       0.001286  0.308350  1.000000   0.515884     0.576671  0.031703   \n",
       "bathrooms      0.005160  0.525138  0.515884   1.000000     0.754665  0.087740   \n",
       "sqft_living   -0.012258  0.702035  0.576671   0.754665     1.000000  0.172826   \n",
       "sqft_lot      -0.132109  0.089661  0.031703   0.087740     0.172826  1.000000   \n",
       "floors         0.018525  0.256794  0.175429   0.500653     0.353949 -0.005201   \n",
       "waterfront    -0.002721  0.266369 -0.006582   0.063744     0.103818  0.021604   \n",
       "view           0.011592  0.397293  0.079532   0.187737     0.284611  0.074710   \n",
       "condition     -0.023783  0.036362  0.028472  -0.124982    -0.058753 -0.008958   \n",
       "grade          0.008130  0.667434  0.356967   0.664983     0.762704  0.113621   \n",
       "sqft_above    -0.010842  0.605567  0.477600   0.685342     0.876597  0.183512   \n",
       "sqft_basement -0.005151  0.323816  0.303093   0.283770     0.435043  0.015286   \n",
       "yr_built       0.021380  0.054012  0.154178   0.506019     0.318049  0.053080   \n",
       "yr_renovated  -0.016907  0.126434  0.018841   0.050739     0.055363  0.007644   \n",
       "zipcode       -0.008224 -0.053203 -0.152668  -0.203866    -0.199430 -0.129574   \n",
       "lat           -0.001891  0.307003 -0.008931   0.024573     0.052529 -0.085683   \n",
       "long           0.020799  0.021626  0.129473   0.223042     0.240223  0.229521   \n",
       "sqft_living15 -0.002901  0.585379  0.391638   0.568634     0.756420  0.144608   \n",
       "sqft_lot15    -0.138798  0.082447  0.029244   0.087175     0.183286  0.718557   \n",
       "\n",
       "                 floors  waterfront      view  condition     grade  \\\n",
       "id             0.018525   -0.002721  0.011592  -0.023783  0.008130   \n",
       "price          0.256794    0.266369  0.397293   0.036362  0.667434   \n",
       "bedrooms       0.175429   -0.006582  0.079532   0.028472  0.356967   \n",
       "bathrooms      0.500653    0.063744  0.187737  -0.124982  0.664983   \n",
       "sqft_living    0.353949    0.103818  0.284611  -0.058753  0.762704   \n",
       "sqft_lot      -0.005201    0.021604  0.074710  -0.008958  0.113621   \n",
       "floors         1.000000    0.023698  0.029444  -0.263768  0.458183   \n",
       "waterfront     0.023698    1.000000  0.401857   0.016653  0.082775   \n",
       "view           0.029444    0.401857  1.000000   0.045990  0.251321   \n",
       "condition     -0.263768    0.016653  0.045990   1.000000 -0.144674   \n",
       "grade          0.458183    0.082775  0.251321  -0.144674  1.000000   \n",
       "sqft_above     0.523885    0.072075  0.167649  -0.158214  0.755923   \n",
       "sqft_basement -0.245705    0.080588  0.276947   0.174105  0.168392   \n",
       "yr_built       0.489319   -0.026161 -0.053440  -0.361417  0.446963   \n",
       "yr_renovated   0.006338    0.092885  0.103917  -0.060618  0.014414   \n",
       "zipcode       -0.059121    0.030285  0.084827   0.003026 -0.184862   \n",
       "lat            0.049614   -0.014274  0.006157  -0.014941  0.114084   \n",
       "long           0.125419   -0.041910 -0.078400  -0.106500  0.198372   \n",
       "sqft_living15  0.279885    0.086463  0.280439  -0.092824  0.713202   \n",
       "sqft_lot15    -0.011269    0.030703  0.072575  -0.003406  0.119248   \n",
       "\n",
       "               sqft_above  sqft_basement  yr_built  yr_renovated   zipcode  \\\n",
       "id              -0.010842      -0.005151  0.021380     -0.016907 -0.008224   \n",
       "price            0.605567       0.323816  0.054012      0.126434 -0.053203   \n",
       "bedrooms         0.477600       0.303093  0.154178      0.018841 -0.152668   \n",
       "bathrooms        0.685342       0.283770  0.506019      0.050739 -0.203866   \n",
       "sqft_living      0.876597       0.435043  0.318049      0.055363 -0.199430   \n",
       "sqft_lot         0.183512       0.015286  0.053080      0.007644 -0.129574   \n",
       "floors           0.523885      -0.245705  0.489319      0.006338 -0.059121   \n",
       "waterfront       0.072075       0.080588 -0.026161      0.092885  0.030285   \n",
       "view             0.167649       0.276947 -0.053440      0.103917  0.084827   \n",
       "condition       -0.158214       0.174105 -0.361417     -0.060618  0.003026   \n",
       "grade            0.755923       0.168392  0.446963      0.014414 -0.184862   \n",
       "sqft_above       1.000000      -0.051943  0.423898      0.023285 -0.261190   \n",
       "sqft_basement   -0.051943       1.000000 -0.133124      0.071323  0.074845   \n",
       "yr_built         0.423898      -0.133124  1.000000     -0.224874 -0.346869   \n",
       "yr_renovated     0.023285       0.071323 -0.224874      1.000000  0.064357   \n",
       "zipcode         -0.261190       0.074845 -0.346869      0.064357  1.000000   \n",
       "lat             -0.000816       0.110538 -0.148122      0.029398  0.267048   \n",
       "long             0.343803      -0.144765  0.409356     -0.068372 -0.564072   \n",
       "sqft_living15    0.731870       0.200355  0.326229     -0.002673 -0.279033   \n",
       "sqft_lot15       0.194050       0.017276  0.070958      0.007854 -0.147221   \n",
       "\n",
       "                    lat      long  sqft_living15  sqft_lot15  \n",
       "id            -0.001891  0.020799      -0.002901   -0.138798  \n",
       "price          0.307003  0.021626       0.585379    0.082447  \n",
       "bedrooms      -0.008931  0.129473       0.391638    0.029244  \n",
       "bathrooms      0.024573  0.223042       0.568634    0.087175  \n",
       "sqft_living    0.052529  0.240223       0.756420    0.183286  \n",
       "sqft_lot      -0.085683  0.229521       0.144608    0.718557  \n",
       "floors         0.049614  0.125419       0.279885   -0.011269  \n",
       "waterfront    -0.014274 -0.041910       0.086463    0.030703  \n",
       "view           0.006157 -0.078400       0.280439    0.072575  \n",
       "condition     -0.014941 -0.106500      -0.092824   -0.003406  \n",
       "grade          0.114084  0.198372       0.713202    0.119248  \n",
       "sqft_above    -0.000816  0.343803       0.731870    0.194050  \n",
       "sqft_basement  0.110538 -0.144765       0.200355    0.017276  \n",
       "yr_built      -0.148122  0.409356       0.326229    0.070958  \n",
       "yr_renovated   0.029398 -0.068372      -0.002673    0.007854  \n",
       "zipcode        0.267048 -0.564072      -0.279033   -0.147221  \n",
       "lat            1.000000 -0.135512       0.048858   -0.086419  \n",
       "long          -0.135512  1.000000       0.334605    0.254451  \n",
       "sqft_living15  0.048858  0.334605       1.000000    0.183192  \n",
       "sqft_lot15    -0.086419  0.254451       0.183192    1.000000  "
      ]
     },
     "execution_count": 1145,
     "metadata": {},
     "output_type": "execute_result"
    }
   ],
   "source": [
    "df.corr(numeric_only=True)"
   ]
  },
  {
   "cell_type": "code",
   "execution_count": 1146,
   "id": "7ed00398-2745-4aea-9ce9-738fc0090984",
   "metadata": {
    "scrolled": true
   },
   "outputs": [
    {
     "data": {
      "text/plain": [
       "price            1.000000\n",
       "sqft_living      0.702035\n",
       "grade            0.667434\n",
       "sqft_above       0.605567\n",
       "sqft_living15    0.585379\n",
       "bathrooms        0.525138\n",
       "view             0.397293\n",
       "sqft_basement    0.323816\n",
       "bedrooms         0.308350\n",
       "lat              0.307003\n",
       "waterfront       0.266369\n",
       "floors           0.256794\n",
       "yr_renovated     0.126434\n",
       "sqft_lot         0.089661\n",
       "sqft_lot15       0.082447\n",
       "yr_built         0.054012\n",
       "condition        0.036362\n",
       "long             0.021626\n",
       "id               0.016762\n",
       "zipcode          0.053203\n",
       "Name: price, dtype: float64"
      ]
     },
     "execution_count": 1146,
     "metadata": {},
     "output_type": "execute_result"
    }
   ],
   "source": [
    "abs(df.corr(numeric_only=True)['price'].sort_values(ascending=False))"
   ]
  },
  {
   "cell_type": "code",
   "execution_count": 1147,
   "id": "72890e5b-01ef-4298-990e-2deac75361c7",
   "metadata": {},
   "outputs": [
    {
     "data": {
      "text/plain": [
       "Index(['id', 'date', 'price', 'bedrooms', 'bathrooms', 'sqft_living',\n",
       "       'sqft_lot', 'floors', 'waterfront', 'view', 'condition', 'grade',\n",
       "       'sqft_above', 'sqft_basement', 'yr_built', 'yr_renovated', 'zipcode',\n",
       "       'lat', 'long', 'sqft_living15', 'sqft_lot15'],\n",
       "      dtype='object')"
      ]
     },
     "execution_count": 1147,
     "metadata": {},
     "output_type": "execute_result"
    }
   ],
   "source": [
    "df.columns"
   ]
  },
  {
   "cell_type": "code",
   "execution_count": 1148,
   "id": "8c569336-6be3-49b8-800c-f43a2aa40d5a",
   "metadata": {},
   "outputs": [],
   "source": [
    "df['age']=2024-df['yr_built']"
   ]
  },
  {
   "cell_type": "code",
   "execution_count": 1149,
   "id": "d21b475f-5771-4b1b-9837-9cfee98ef99f",
   "metadata": {},
   "outputs": [],
   "source": [
    "df['zipcode'] = df['zipcode'].astype('category')"
   ]
  },
  {
   "cell_type": "code",
   "execution_count": 1150,
   "id": "e3707845-8406-4c4b-9d04-9934f1cc9f6f",
   "metadata": {},
   "outputs": [],
   "source": [
    "x=df[['sqft_living','grade','sqft_above','sqft_living15','bathrooms','view','sqft_basement','bedrooms','lat','waterfront','floors','age']]"
   ]
  },
  {
   "cell_type": "code",
   "execution_count": 1151,
   "id": "a1b3ab43-a8db-4127-a7a3-2c023e706fe2",
   "metadata": {},
   "outputs": [],
   "source": [
    "y = df[['price']]"
   ]
  },
  {
   "cell_type": "code",
   "execution_count": 1152,
   "id": "cfbc81e2-68dc-41ae-92f5-f7de48780d72",
   "metadata": {},
   "outputs": [],
   "source": [
    "lr= LinearRegression()"
   ]
  },
  {
   "cell_type": "code",
   "execution_count": 1153,
   "id": "afa715f8-da5e-4774-9f4a-02eab96d2e96",
   "metadata": {},
   "outputs": [],
   "source": [
    "x_train, x_test, y_train,y_test = train_test_split(x,y,test_size=0.20,random_state=42)"
   ]
  },
  {
   "cell_type": "code",
   "execution_count": 1154,
   "id": "8d6f65dc-888e-4e8a-b107-6145374f500f",
   "metadata": {},
   "outputs": [],
   "source": [
    "model = lr.fit(x_train,y_train)"
   ]
  },
  {
   "cell_type": "code",
   "execution_count": 1155,
   "id": "777948c6-605a-4bf5-a0e6-85cd794400ca",
   "metadata": {},
   "outputs": [],
   "source": [
    "tahmin = lr.predict(x_test)"
   ]
  },
  {
   "cell_type": "code",
   "execution_count": 1156,
   "id": "348c2837-84fc-413c-81a4-28775c8553e9",
   "metadata": {},
   "outputs": [
    {
     "data": {
      "text/plain": [
       "216692.4396838458"
      ]
     },
     "execution_count": 1156,
     "metadata": {},
     "output_type": "execute_result"
    }
   ],
   "source": [
    "mean_squared_error(y_test,tahmin)**.5"
   ]
  },
  {
   "cell_type": "code",
   "execution_count": 1157,
   "id": "2cd720a2-889a-42aa-ad43-f40b38dbf6e9",
   "metadata": {},
   "outputs": [
    {
     "data": {
      "text/plain": [
       "0.6893991626411529"
      ]
     },
     "execution_count": 1157,
     "metadata": {},
     "output_type": "execute_result"
    }
   ],
   "source": [
    "r2_score(y_test,tahmin)"
   ]
  },
  {
   "cell_type": "markdown",
   "id": "33dcba22-b388-4604-b1c2-8f1ecb973dde",
   "metadata": {},
   "source": [
    "Hedef => r2_score >= 0.80 <br/>\n",
    "RMSE < $100k"
   ]
  },
  {
   "cell_type": "code",
   "execution_count": 1159,
   "id": "ca03eb6b-d995-4350-badd-a7a05ef99a89",
   "metadata": {},
   "outputs": [],
   "source": [
    "df['is_renovated'] = np.where(df['yr_renovated']>0,1,0)"
   ]
  },
  {
   "cell_type": "code",
   "execution_count": 1160,
   "id": "d22a0a2e-28bc-488c-bb13-9dc12fbf79ef",
   "metadata": {},
   "outputs": [],
   "source": [
    "df['sqft_total'] = df['sqft_above'] + df['sqft_basement']"
   ]
  },
  {
   "cell_type": "code",
   "execution_count": 1161,
   "id": "bc82baba-bb37-4708-af8c-1c80a7975a93",
   "metadata": {},
   "outputs": [],
   "source": [
    "df = df[df['price'] <= 964650e+06]"
   ]
  },
  {
   "cell_type": "code",
   "execution_count": 1162,
   "id": "04c62f7a-ae05-4bab-9bbc-c0b58c169d0f",
   "metadata": {},
   "outputs": [
    {
     "data": {
      "text/plain": [
       "<Axes: xlabel='price', ylabel='Density'>"
      ]
     },
     "execution_count": 1162,
     "metadata": {},
     "output_type": "execute_result"
    },
    {
     "data": {
      "image/png": "[encoded data removed]",
      "text/plain": [
       "<Figure size 640x480 with 1 Axes>"
      ]
     },
     "metadata": {},
     "output_type": "display_data"
    }
   ],
   "source": [
    "sns.kdeplot(x=df['price'])"
   ]
  },
  {
   "cell_type": "code",
   "execution_count": 1163,
   "id": "e735d1ef-6955-495d-85fb-71466feabe2f",
   "metadata": {},
   "outputs": [],
   "source": [
    "df = df[df['bedrooms'] < 10]"
   ]
  },
  {
   "cell_type": "code",
   "execution_count": 1164,
   "id": "044405b4-a032-4362-ab73-6dde51b429ae",
   "metadata": {},
   "outputs": [
    {
     "data": {
      "text/plain": [
       "<Axes: xlabel='bedrooms', ylabel='Density'>"
      ]
     },
     "execution_count": 1164,
     "metadata": {},
     "output_type": "execute_result"
    },
    {
     "data": {
      "image/png": "[encoded data removed]",
      "text/plain": [
       "<Figure size 640x480 with 1 Axes>"
      ]
     },
     "metadata": {},
     "output_type": "display_data"
    }
   ],
   "source": [
    "sns.kdeplot(x=df['bedrooms'])"
   ]
  },
  {
   "cell_type": "code",
   "execution_count": 1165,
   "id": "4614ff0c-9879-4e46-8d0c-be80a4daa217",
   "metadata": {},
   "outputs": [],
   "source": [
    "df = df[df['sqft_living'] < 7000]"
   ]
  },
  {
   "cell_type": "code",
   "execution_count": 1166,
   "id": "fa39d004-05bf-42a1-b809-e65447c67a71",
   "metadata": {
    "scrolled": true
   },
   "outputs": [
    {
     "data": {
      "text/plain": [
       "<Axes: xlabel='sqft_living', ylabel='Density'>"
      ]
     },
     "execution_count": 1166,
     "metadata": {},
     "output_type": "execute_result"
    },
    {
     "data": {
      "image/png": "[encoded data removed]",
      "text/plain": [
       "<Figure size 640x480 with 1 Axes>"
      ]
     },
     "metadata": {},
     "output_type": "display_data"
    }
   ],
   "source": [
    "sns.kdeplot(x=df['sqft_living'])"
   ]
  },
  {
   "cell_type": "code",
   "execution_count": 1167,
   "id": "d6302691-b4b5-4060-855d-0f3c9e00a816",
   "metadata": {},
   "outputs": [],
   "source": [
    "df = df[df['grade'] > 3]"
   ]
  },
  {
   "cell_type": "code",
   "execution_count": 1168,
   "id": "a2fba01a-3799-430a-a0e7-465847d6a963",
   "metadata": {},
   "outputs": [
    {
     "data": {
      "text/plain": [
       "<Axes: xlabel='grade', ylabel='Density'>"
      ]
     },
     "execution_count": 1168,
     "metadata": {},
     "output_type": "execute_result"
    },
    {
     "data": {
      "image/png": "[encoded data removed]",
      "text/plain": [
       "<Figure size 640x480 with 1 Axes>"
      ]
     },
     "metadata": {},
     "output_type": "display_data"
    }
   ],
   "source": [
    "sns.kdeplot(x=df['grade'])"
   ]
  },
  {
   "cell_type": "code",
   "execution_count": 1169,
   "id": "73251ebe-48ba-4f56-b1eb-7b62c93017d5",
   "metadata": {},
   "outputs": [
    {
     "data": {
      "text/plain": [
       "<Axes: xlabel='sqft_above', ylabel='Density'>"
      ]
     },
     "execution_count": 1169,
     "metadata": {},
     "output_type": "execute_result"
    },
    {
     "data": {
      "image/png": "[encoded data removed]",
      "text/plain": [
       "<Figure size 640x480 with 1 Axes>"
      ]
     },
     "metadata": {},
     "output_type": "display_data"
    }
   ],
   "source": [
    "sns.kdeplot(x=df['sqft_above'])"
   ]
  },
  {
   "cell_type": "code",
   "execution_count": 1170,
   "id": "44ccf88b-d65b-43fd-833d-687b7297565c",
   "metadata": {},
   "outputs": [
    {
     "data": {
      "text/plain": [
       "4290.0"
      ]
     },
     "execution_count": 1170,
     "metadata": {},
     "output_type": "execute_result"
    }
   ],
   "source": [
    "df.describe([0.25,0.50,0.99])['sqft_above']['99%']"
   ]
  },
  {
   "cell_type": "code",
   "execution_count": 1171,
   "id": "04c0ca90-76e3-4ced-8b64-49c910604a44",
   "metadata": {},
   "outputs": [],
   "source": [
    "df=df[df['sqft_above']<=5000.7]"
   ]
  },
  {
   "cell_type": "code",
   "execution_count": 1172,
   "id": "4df876c1-643c-48da-8b52-1330b0bb46d2",
   "metadata": {},
   "outputs": [
    {
     "data": {
      "text/plain": [
       "3990.0"
      ]
     },
     "execution_count": 1172,
     "metadata": {},
     "output_type": "execute_result"
    }
   ],
   "source": [
    "df.describe([0.25,0.50,0.99])['sqft_living15']['99%']"
   ]
  },
  {
   "cell_type": "code",
   "execution_count": 1173,
   "id": "97e245d6-4b88-4db2-89e1-e8fa54f063c1",
   "metadata": {},
   "outputs": [],
   "source": [
    "df = df[df['sqft_living15'] < 4000]"
   ]
  },
  {
   "cell_type": "code",
   "execution_count": 1234,
   "id": "5fc9c58e-213a-4912-a987-f7d94b34e8ed",
   "metadata": {},
   "outputs": [
    {
     "data": {
      "text/plain": [
       "count    21278.000000\n",
       "mean       285.341385\n",
       "std        429.601611\n",
       "min          0.000000\n",
       "25%          0.000000\n",
       "50%          0.000000\n",
       "99%       1600.000000\n",
       "max       2850.000000\n",
       "Name: sqft_basement, dtype: float64"
      ]
     },
     "execution_count": 1234,
     "metadata": {},
     "output_type": "execute_result"
    }
   ],
   "source": [
    "df.describe([0.25,0.50,0.99])['sqft_basement']"
   ]
  },
  {
   "cell_type": "code",
   "execution_count": 1236,
   "id": "97cb9db9-348e-432c-ab67-9df2e0811707",
   "metadata": {},
   "outputs": [],
   "source": [
    "df=df[df['sqft_basement']<=2000]"
   ]
  },
  {
   "cell_type": "code",
   "execution_count": 1174,
   "id": "0f847d94-d62c-4391-9b63-475e383d437e",
   "metadata": {},
   "outputs": [
    {
     "data": {
      "text/plain": [
       "<Axes: xlabel='sqft_living15', ylabel='Density'>"
      ]
     },
     "execution_count": 1174,
     "metadata": {},
     "output_type": "execute_result"
    },
    {
     "data": {
      "image/png": "[encoded data removed]",
      "text/plain": [
       "<Figure size 640x480 with 1 Axes>"
      ]
     },
     "metadata": {},
     "output_type": "display_data"
    }
   ],
   "source": [
    "sns.kdeplot(x=df['sqft_living15'])"
   ]
  },
  {
   "cell_type": "code",
   "execution_count": 1175,
   "id": "d395f888-fffb-4082-9bb7-2fb668c20ae5",
   "metadata": {},
   "outputs": [],
   "source": [
    "df = df[df['bathrooms'] < 5]"
   ]
  },
  {
   "cell_type": "code",
   "execution_count": 1176,
   "id": "297ef9b9-2942-407b-abbc-423d3329e9ee",
   "metadata": {
    "scrolled": true
   },
   "outputs": [
    {
     "data": {
      "text/plain": [
       "<Axes: xlabel='bathrooms', ylabel='Density'>"
      ]
     },
     "execution_count": 1176,
     "metadata": {},
     "output_type": "execute_result"
    },
    {
     "data": {
      "image/png": "[encoded data removed]",
      "text/plain": [
       "<Figure size 640x480 with 1 Axes>"
      ]
     },
     "metadata": {},
     "output_type": "display_data"
    }
   ],
   "source": [
    "sns.kdeplot(x=df['bathrooms'])"
   ]
  },
  {
   "cell_type": "code",
   "execution_count": 1177,
   "id": "ce46aaaf-6875-493c-9987-565a9b361574",
   "metadata": {},
   "outputs": [
    {
     "data": {
      "text/plain": [
       "<Axes: xlabel='lat', ylabel='Density'>"
      ]
     },
     "execution_count": 1177,
     "metadata": {},
     "output_type": "execute_result"
    },
    {
     "data": {
      "image/png": "[encoded data removed]",
      "text/plain": [
       "<Figure size 640x480 with 1 Axes>"
      ]
     },
     "metadata": {},
     "output_type": "display_data"
    }
   ],
   "source": [
    "sns.kdeplot(x=df['lat'])"
   ]
  },
  {
   "cell_type": "code",
   "execution_count": 1178,
   "id": "2ef9ad7e-b288-4b9f-a2a6-7b6dc9cafe25",
   "metadata": {},
   "outputs": [
    {
     "data": {
      "text/plain": [
       "count    21278.000000\n",
       "mean         0.007003\n",
       "std          0.083390\n",
       "min          0.000000\n",
       "25%          0.000000\n",
       "50%          0.000000\n",
       "99%          0.000000\n",
       "max          1.000000\n",
       "Name: waterfront, dtype: float64"
      ]
     },
     "execution_count": 1178,
     "metadata": {},
     "output_type": "execute_result"
    }
   ],
   "source": [
    "df.describe([0.25,0.50,0.99])['waterfront']"
   ]
  },
  {
   "cell_type": "code",
   "execution_count": 1179,
   "id": "b7948d7c-8a11-40ec-b4db-35b56b23ffc7",
   "metadata": {},
   "outputs": [],
   "source": [
    "#df = df[df['bathrooms']  0.2]\n",
    "#df = df[df['waterfront'] < 0.2]"
   ]
  },
  {
   "cell_type": "code",
   "execution_count": 1180,
   "id": "acbdced0-158b-454e-8d5e-2c1ca89bc0b1",
   "metadata": {},
   "outputs": [
    {
     "data": {
      "text/plain": [
       "<Axes: xlabel='waterfront', ylabel='Density'>"
      ]
     },
     "execution_count": 1180,
     "metadata": {},
     "output_type": "execute_result"
    },
    {
     "data": {
      "image/png": "[encoded data removed]",
      "text/plain": [
       "<Figure size 640x480 with 1 Axes>"
      ]
     },
     "metadata": {},
     "output_type": "display_data"
    }
   ],
   "source": [
    "sns.kdeplot(x=df['waterfront'])"
   ]
  },
  {
   "cell_type": "code",
   "execution_count": 1181,
   "id": "8b4b6336-a577-4806-87a1-bc197350cd28",
   "metadata": {},
   "outputs": [],
   "source": [
    "df['sqft_per_floor'] = df['sqft_living'] / df['floors']"
   ]
  },
  {
   "cell_type": "code",
   "execution_count": 1182,
   "id": "9a7d776c-ef55-4147-8b9e-19b8e1640db0",
   "metadata": {},
   "outputs": [
    {
     "data": {
      "text/plain": [
       "<Axes: xlabel='view', ylabel='Density'>"
      ]
     },
     "execution_count": 1182,
     "metadata": {},
     "output_type": "execute_result"
    },
    {
     "data": {
      "image/png": "[encoded data removed]",
      "text/plain": [
       "<Figure size 640x480 with 1 Axes>"
      ]
     },
     "metadata": {},
     "output_type": "display_data"
    }
   ],
   "source": [
    "sns.kdeplot(x=df['view'])"
   ]
  },
  {
   "cell_type": "code",
   "execution_count": 1183,
   "id": "416279a6-675c-4ca3-88c1-b699c3e80546",
   "metadata": {},
   "outputs": [],
   "source": [
    "x=df[['sqft_living','grade','sqft_above','sqft_living15','bathrooms','view','sqft_basement',\n",
    "      'bedrooms','lat','waterfront','sqft_per_floor','age','sqft_total','is_renovated']]\n",
    "y = df[['price']] "
   ]
  },
  {
   "cell_type": "code",
   "execution_count": 1184,
   "id": "fa47338b-d6f8-4b68-b29a-89f4ce85cbd7",
   "metadata": {},
   "outputs": [
    {
     "name": "stderr",
     "output_type": "stream",
     "text": [
      "C:\\Users\\ckili\\anaconda3\\Lib\\site-packages\\sklearn\\base.py:1474: DataConversionWarning: A column-vector y was passed when a 1d array was expected. Please change the shape of y to (n_samples,), for example using ravel().\n",
      "  return fit_method(estimator, *args, **kwargs)\n"
     ]
    },
    {
     "data": {
      "text/plain": [
       "175380.68221300913"
      ]
     },
     "execution_count": 1184,
     "metadata": {},
     "output_type": "execute_result"
    }
   ],
   "source": [
    "ext = RandomForestRegressor()\n",
    "model_ext = ext.fit(x_train,y_train)\n",
    "tahmin = ext.predict(x_test)\n",
    "mean_squared_error(y_test,tahmin)**.5"
   ]
  },
  {
   "cell_type": "code",
   "execution_count": 1185,
   "id": "8cce934c-fe92-40ac-9e52-53b572cb418e",
   "metadata": {},
   "outputs": [
    {
     "data": {
      "text/plain": [
       "0.7965401996490008"
      ]
     },
     "execution_count": 1185,
     "metadata": {},
     "output_type": "execute_result"
    }
   ],
   "source": [
    "r2_score(y_test,tahmin)"
   ]
  },
  {
   "cell_type": "code",
   "execution_count": null,
   "id": "331e5ec5-032d-4208-ba7e-515a4ee281f6",
   "metadata": {},
   "outputs": [],
   "source": []
  }
 ],
 "metadata": {
  "kernelspec": {
   "display_name": "Python 3 (ipykernel)",
   "language": "python",
   "name": "python3"
  },
  "language_info": {
   "codemirror_mode": {
    "name": "ipython",
    "version": 3
   },
   "file_extension": ".py",
   "mimetype": "text/x-python",
   "name": "python",
   "nbconvert_exporter": "python",
   "pygments_lexer": "ipython3",
   "version": "3.12.4"
  }
 },
 "nbformat": 4,
 "nbformat_minor": 5
}
