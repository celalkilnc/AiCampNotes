{
 "cells": [
  {
   "cell_type": "markdown",
   "id": "5e8d6757-1fdb-412b-b5ce-10118946dca6",
   "metadata": {},
   "source": [
    "# NLP - Data Analysis"
   ]
  },
  {
   "cell_type": "code",
   "execution_count": 28,
   "id": "63934d0f-5cad-4f3b-8c64-41aa64491c48",
   "metadata": {},
   "outputs": [],
   "source": [
    "#pip install nltk"
   ]
  },
  {
   "cell_type": "code",
   "execution_count": 29,
   "id": "0ac399b4-602f-4269-9262-169cc7419021",
   "metadata": {},
   "outputs": [
    {
     "name": "stderr",
     "output_type": "stream",
     "text": [
      "[nltk_data] Downloading package punkt to\n",
      "[nltk_data]     C:\\Users\\ckili\\AppData\\Roaming\\nltk_data...\n",
      "[nltk_data]   Package punkt is already up-to-date!\n"
     ]
    },
    {
     "data": {
      "text/plain": [
       "True"
      ]
     },
     "execution_count": 29,
     "metadata": {},
     "output_type": "execute_result"
    }
   ],
   "source": [
    "import nltk\n",
    "nltk.download('punkt')"
   ]
  },
  {
   "cell_type": "markdown",
   "id": "63330b2f-1cc4-4c05-b2f5-a302c9e44da3",
   "metadata": {},
   "source": [
    "### Tokenization"
   ]
  },
  {
   "cell_type": "code",
   "execution_count": 31,
   "id": "d0728394-6953-4d49-9917-be4305d26cf5",
   "metadata": {},
   "outputs": [],
   "source": [
    "text = 'Yaşamın zorluğuna, acısına rağmen, insan kendi anlamını yaratmak zorundadır, çünkü başka hiçbir yerden gelmeyecektir.I Hope you find it interesting'"
   ]
  },
  {
   "cell_type": "code",
   "execution_count": 32,
   "id": "feb65b76-f643-4b11-a450-fc4686bf7eb1",
   "metadata": {},
   "outputs": [
    {
     "data": {
      "text/plain": [
       "['Yaşamın',\n",
       " 'zorluğuna,',\n",
       " 'acısına',\n",
       " 'rağmen,',\n",
       " 'insan',\n",
       " 'kendi',\n",
       " 'anlamını',\n",
       " 'yaratmak',\n",
       " 'zorundadır,',\n",
       " 'çünkü',\n",
       " 'başka',\n",
       " 'hiçbir',\n",
       " 'yerden',\n",
       " 'gelmeyecektir.I',\n",
       " 'Hope',\n",
       " 'you',\n",
       " 'find',\n",
       " 'it',\n",
       " 'interesting']"
      ]
     },
     "execution_count": 32,
     "metadata": {},
     "output_type": "execute_result"
    }
   ],
   "source": [
    "#word tokenization\n",
    "text.split()"
   ]
  },
  {
   "cell_type": "code",
   "execution_count": 33,
   "id": "f0ba6bd4-1321-4ef4-90c7-5f4b53970e2d",
   "metadata": {},
   "outputs": [
    {
     "data": {
      "text/plain": [
       "['Yaşamın zorluğuna, acısına rağmen, insan kendi anlamını yaratmak zorundadır, çünkü başka hiçbir yerden gelmeyecektir',\n",
       " 'I Hope you find it interesting']"
      ]
     },
     "execution_count": 33,
     "metadata": {},
     "output_type": "execute_result"
    }
   ],
   "source": [
    "# sentence tokenization\n",
    "text.split('.')"
   ]
  },
  {
   "cell_type": "code",
   "execution_count": 34,
   "id": "65423eb8-2ebe-486e-9369-dd6a5b603e16",
   "metadata": {},
   "outputs": [],
   "source": [
    "ex1 = \"John didn't go to Bank although the banker called him\""
   ]
  },
  {
   "cell_type": "code",
   "execution_count": 35,
   "id": "67081fad-e444-453e-9657-98d32dba79be",
   "metadata": {},
   "outputs": [
    {
     "data": {
      "text/plain": [
       "['John',\n",
       " \"didn't\",\n",
       " 'go',\n",
       " 'to',\n",
       " 'Bank',\n",
       " 'although',\n",
       " 'the',\n",
       " 'banker',\n",
       " 'called',\n",
       " 'him']"
      ]
     },
     "execution_count": 35,
     "metadata": {},
     "output_type": "execute_result"
    }
   ],
   "source": [
    "ex1.split()"
   ]
  },
  {
   "cell_type": "code",
   "execution_count": 36,
   "id": "8d449cc9-d202-46c4-b6c6-393d7d5ee6c0",
   "metadata": {},
   "outputs": [],
   "source": [
    "import re # Regular Expression"
   ]
  },
  {
   "cell_type": "code",
   "execution_count": 37,
   "id": "a479e8e6-3d52-4a06-989b-35f6341f108c",
   "metadata": {},
   "outputs": [
    {
     "data": {
      "text/plain": [
       "['John',\n",
       " 'didn',\n",
       " 't',\n",
       " 'go',\n",
       " 'to',\n",
       " 'Bank',\n",
       " 'although',\n",
       " 'the',\n",
       " 'banker',\n",
       " 'called',\n",
       " 'him']"
      ]
     },
     "execution_count": 37,
     "metadata": {},
     "output_type": "execute_result"
    }
   ],
   "source": [
    "re.split(r'\\W+',ex1) # Sadece kelimeleri ayır anlamına gelir"
   ]
  },
  {
   "cell_type": "code",
   "execution_count": 38,
   "id": "82805b7c-581f-4deb-af0a-2fdd7f1c5843",
   "metadata": {},
   "outputs": [],
   "source": [
    "from nltk.tokenize import word_tokenize, wordpunct_tokenize, WhitespaceTokenizer,TreebankWordTokenizer, sent_tokenize"
   ]
  },
  {
   "cell_type": "code",
   "execution_count": 39,
   "id": "d899a82f-94fe-437a-a1ca-c798615a8fd5",
   "metadata": {},
   "outputs": [
    {
     "name": "stdout",
     "output_type": "stream",
     "text": [
      "['John', 'did', \"n't\", 'go', 'to', 'Bank', 'although', 'the', 'banker', 'called', 'him']\n"
     ]
    }
   ],
   "source": [
    "print(word_tokenize(ex1))"
   ]
  },
  {
   "cell_type": "code",
   "execution_count": 40,
   "id": "0be25fd2-3062-4b15-ae48-6c5b278dcbf1",
   "metadata": {},
   "outputs": [
    {
     "data": {
      "text/plain": [
       "['Yaşamın zorluğuna, acısına rağmen, insan kendi anlamını yaratmak zorundadır, çünkü başka hiçbir yerden gelmeyecektir.I Hope you find it interesting']"
      ]
     },
     "execution_count": 40,
     "metadata": {},
     "output_type": "execute_result"
    }
   ],
   "source": [
    "sent_tokenize(text)"
   ]
  },
  {
   "cell_type": "markdown",
   "id": "967bc306-2c7b-4ced-92ef-dae901ff6c5e",
   "metadata": {},
   "source": [
    "### Stopwords"
   ]
  },
  {
   "cell_type": "markdown",
   "id": "3ba7c2ae-c12f-46bb-bbfc-d6b734aa0831",
   "metadata": {},
   "source": [
    "Kendi başına anlamı olmayan ama cümlenin anlam kazanmasında etkili olan kelimeler"
   ]
  },
  {
   "cell_type": "code",
   "execution_count": 43,
   "id": "ca6da88a-c021-4c6f-bef7-786af7b117f8",
   "metadata": {},
   "outputs": [],
   "source": [
    "#pip install TurkishStemmer"
   ]
  },
  {
   "cell_type": "code",
   "execution_count": 44,
   "id": "7f0fa753-865d-453d-b398-5e8258c93084",
   "metadata": {},
   "outputs": [],
   "source": [
    "from nltk.stem import PorterStemmer\n",
    "from nltk.stem import LancasterStemmer\n",
    "from nltk.stem import SnowballStemmer\n",
    "from TurkishStemmer import TurkishStemmer"
   ]
  },
  {
   "cell_type": "code",
   "execution_count": 45,
   "id": "793b75e1-dcdd-4f3a-90b8-6234e3d1c24c",
   "metadata": {},
   "outputs": [
    {
     "name": "stderr",
     "output_type": "stream",
     "text": [
      "[nltk_data] Downloading package stopwords to\n",
      "[nltk_data]     C:\\Users\\ckili\\AppData\\Roaming\\nltk_data...\n",
      "[nltk_data]   Package stopwords is already up-to-date!\n"
     ]
    },
    {
     "data": {
      "text/plain": [
       "True"
      ]
     },
     "execution_count": 45,
     "metadata": {},
     "output_type": "execute_result"
    }
   ],
   "source": [
    "nltk.download('stopwords')"
   ]
  },
  {
   "cell_type": "code",
   "execution_count": 46,
   "id": "d0889745-56cb-43c7-b994-64ed6d0006fd",
   "metadata": {},
   "outputs": [
    {
     "name": "stdout",
     "output_type": "stream",
     "text": [
      "['i', 'me', 'my', 'myself', 'we', 'our', 'ours', 'ourselves', 'you', \"you're\", \"you've\", \"you'll\", \"you'd\", 'your', 'yours', 'yourself', 'yourselves', 'he', 'him', 'his', 'himself', 'she', \"she's\", 'her', 'hers', 'herself', 'it', \"it's\", 'its', 'itself', 'they', 'them', 'their', 'theirs', 'themselves', 'what', 'which', 'who', 'whom', 'this', 'that', \"that'll\", 'these', 'those', 'am', 'is', 'are', 'was', 'were', 'be', 'been', 'being', 'have', 'has', 'had', 'having', 'do', 'does', 'did', 'doing', 'a', 'an', 'the', 'and', 'but', 'if', 'or', 'because', 'as', 'until', 'while', 'of', 'at', 'by', 'for', 'with', 'about', 'against', 'between', 'into', 'through', 'during', 'before', 'after', 'above', 'below', 'to', 'from', 'up', 'down', 'in', 'out', 'on', 'off', 'over', 'under', 'again', 'further', 'then', 'once', 'here', 'there', 'when', 'where', 'why', 'how', 'all', 'any', 'both', 'each', 'few', 'more', 'most', 'other', 'some', 'such', 'no', 'nor', 'not', 'only', 'own', 'same', 'so', 'than', 'too', 'very', 's', 't', 'can', 'will', 'just', 'don', \"don't\", 'should', \"should've\", 'now', 'd', 'll', 'm', 'o', 're', 've', 'y', 'ain', 'aren', \"aren't\", 'couldn', \"couldn't\", 'didn', \"didn't\", 'doesn', \"doesn't\", 'hadn', \"hadn't\", 'hasn', \"hasn't\", 'haven', \"haven't\", 'isn', \"isn't\", 'ma', 'mightn', \"mightn't\", 'mustn', \"mustn't\", 'needn', \"needn't\", 'shan', \"shan't\", 'shouldn', \"shouldn't\", 'wasn', \"wasn't\", 'weren', \"weren't\", 'won', \"won't\", 'wouldn', \"wouldn't\"]\n"
     ]
    }
   ],
   "source": [
    "print(nltk.corpus.stopwords.words('english'))"
   ]
  },
  {
   "cell_type": "markdown",
   "id": "dfba340b-bbd9-490c-a155-ecc72494d09a",
   "metadata": {},
   "source": [
    "#### PorterStemmer"
   ]
  },
  {
   "cell_type": "code",
   "execution_count": 48,
   "id": "eff35cbc-56cf-4e54-917f-3db6c3423d1a",
   "metadata": {},
   "outputs": [],
   "source": [
    "ps = PorterStemmer()"
   ]
  },
  {
   "cell_type": "code",
   "execution_count": 49,
   "id": "042fae2f-657a-46b2-902d-499069a39b12",
   "metadata": {},
   "outputs": [
    {
     "data": {
      "text/plain": [
       "'happi'"
      ]
     },
     "execution_count": 49,
     "metadata": {},
     "output_type": "execute_result"
    }
   ],
   "source": [
    "ps.stem('happiness')"
   ]
  },
  {
   "cell_type": "code",
   "execution_count": 50,
   "id": "74da36b0-d59c-4850-98b6-942878d6847c",
   "metadata": {},
   "outputs": [
    {
     "data": {
      "text/plain": [
       "'play'"
      ]
     },
     "execution_count": 50,
     "metadata": {},
     "output_type": "execute_result"
    }
   ],
   "source": [
    "ps.stem('played')"
   ]
  },
  {
   "cell_type": "markdown",
   "id": "c6ee5491-74fc-45e3-8ab4-00dcaf9fb1d8",
   "metadata": {},
   "source": [
    "#### LancasterStemmer"
   ]
  },
  {
   "cell_type": "code",
   "execution_count": 52,
   "id": "e2e2cfb2-b30a-4c32-a708-241bed99f351",
   "metadata": {},
   "outputs": [
    {
     "data": {
      "text/plain": [
       "'happy'"
      ]
     },
     "execution_count": 52,
     "metadata": {},
     "output_type": "execute_result"
    }
   ],
   "source": [
    "LancasterStemmer().stem('Happiness')"
   ]
  },
  {
   "cell_type": "markdown",
   "id": "8db9eb85-6ff7-4678-b12c-53b688a3f2af",
   "metadata": {},
   "source": [
    "#### TurkishStemmer"
   ]
  },
  {
   "cell_type": "code",
   "execution_count": 54,
   "id": "bfc09966-f344-4da5-a94e-23256a32f816",
   "metadata": {},
   "outputs": [
    {
     "data": {
      "text/plain": [
       "'git'"
      ]
     },
     "execution_count": 54,
     "metadata": {},
     "output_type": "execute_result"
    }
   ],
   "source": [
    "TurkishStemmer().stem('gittim')"
   ]
  },
  {
   "cell_type": "markdown",
   "id": "3e87e040-1b69-4e45-b36e-e7bf00775488",
   "metadata": {},
   "source": [
    "### Snowball"
   ]
  },
  {
   "cell_type": "code",
   "execution_count": 56,
   "id": "ac948e85-8cab-4878-b085-13730ca8a570",
   "metadata": {},
   "outputs": [
    {
     "data": {
      "text/plain": [
       "('arabic',\n",
       " 'danish',\n",
       " 'dutch',\n",
       " 'english',\n",
       " 'finnish',\n",
       " 'french',\n",
       " 'german',\n",
       " 'hungarian',\n",
       " 'italian',\n",
       " 'norwegian',\n",
       " 'porter',\n",
       " 'portuguese',\n",
       " 'romanian',\n",
       " 'russian',\n",
       " 'spanish',\n",
       " 'swedish')"
      ]
     },
     "execution_count": 56,
     "metadata": {},
     "output_type": "execute_result"
    }
   ],
   "source": [
    "SnowballStemmer.languages"
   ]
  },
  {
   "cell_type": "code",
   "execution_count": 57,
   "id": "5da1d45f-3e9b-4a2d-833c-b98fc43bd823",
   "metadata": {},
   "outputs": [],
   "source": [
    "frstemmer = SnowballStemmer('french')"
   ]
  },
  {
   "cell_type": "code",
   "execution_count": 58,
   "id": "d2cf278d-f7db-4551-b2cd-9ce899b61beb",
   "metadata": {},
   "outputs": [
    {
     "data": {
      "text/plain": [
       "'dépays'"
      ]
     },
     "execution_count": 58,
     "metadata": {},
     "output_type": "execute_result"
    }
   ],
   "source": [
    "frstemmer.stem('dépaysement')"
   ]
  },
  {
   "cell_type": "code",
   "execution_count": 59,
   "id": "2c299c0f-8d1e-4978-a3b3-21d6995a5995",
   "metadata": {},
   "outputs": [],
   "source": [
    "spstemmer = SnowballStemmer('spanish')"
   ]
  },
  {
   "cell_type": "code",
   "execution_count": 60,
   "id": "3c9bfb51-7044-40d5-8a7a-c09ff4f2d36e",
   "metadata": {},
   "outputs": [
    {
     "data": {
      "text/plain": [
       "'com'"
      ]
     },
     "execution_count": 60,
     "metadata": {},
     "output_type": "execute_result"
    }
   ],
   "source": [
    "spstemmer.stem('comiendo')"
   ]
  },
  {
   "cell_type": "code",
   "execution_count": 61,
   "id": "62c64f7b-e603-4ece-b696-160a0750b6cb",
   "metadata": {},
   "outputs": [
    {
     "name": "stderr",
     "output_type": "stream",
     "text": [
      "[nltk_data] Downloading package averaged_perceptron_tagger to\n",
      "[nltk_data]     C:\\Users\\ckili\\AppData\\Roaming\\nltk_data...\n",
      "[nltk_data]   Package averaged_perceptron_tagger is already up-to-\n",
      "[nltk_data]       date!\n"
     ]
    },
    {
     "data": {
      "text/plain": [
       "True"
      ]
     },
     "execution_count": 61,
     "metadata": {},
     "output_type": "execute_result"
    }
   ],
   "source": [
    "nltk.download('averaged_perceptron_tagger')"
   ]
  },
  {
   "cell_type": "code",
   "execution_count": 62,
   "id": "1805f5f3-9d5a-43bc-919f-84ec67e72569",
   "metadata": {},
   "outputs": [],
   "source": [
    "sentence = 'Welome readers.I hope you find it interesting. Please call me'.split()"
   ]
  },
  {
   "cell_type": "code",
   "execution_count": 63,
   "id": "78789919-fee5-4023-bdf2-f03f35b837b2",
   "metadata": {},
   "outputs": [
    {
     "data": {
      "text/plain": [
       "[('Welome', 'NNP'),\n",
       " ('readers.I', 'VBP'),\n",
       " ('hope', 'NN'),\n",
       " ('you', 'PRP'),\n",
       " ('find', 'VBP'),\n",
       " ('it', 'PRP'),\n",
       " ('interesting.', 'JJ'),\n",
       " ('Please', 'NNP'),\n",
       " ('call', 'VB'),\n",
       " ('me', 'PRP')]"
      ]
     },
     "execution_count": 63,
     "metadata": {},
     "output_type": "execute_result"
    }
   ],
   "source": [
    "nltk.pos_tag(sentence)"
   ]
  },
  {
   "cell_type": "markdown",
   "id": "c4d57cd2-92b1-4ba6-8ebd-599c2844c36c",
   "metadata": {},
   "source": [
    "### Autocorrect"
   ]
  },
  {
   "cell_type": "code",
   "execution_count": 65,
   "id": "2f0af928-7743-4b85-9dfe-c8f90cbd3757",
   "metadata": {},
   "outputs": [],
   "source": [
    "#pip install autocorrect"
   ]
  },
  {
   "cell_type": "code",
   "execution_count": 66,
   "id": "4202e5bf-d656-420a-90d5-038fbba64f82",
   "metadata": {},
   "outputs": [],
   "source": [
    "#pip install textblob == 0.17.1"
   ]
  },
  {
   "cell_type": "code",
   "execution_count": 67,
   "id": "dded6b3b-6835-4878-b5e7-3411f134b4ec",
   "metadata": {},
   "outputs": [],
   "source": [
    "#pip install langdetect => Textin hangi dilde olduğunu anlar"
   ]
  },
  {
   "cell_type": "code",
   "execution_count": 68,
   "id": "678d39a9-7748-4e4c-a1a2-6696814b4791",
   "metadata": {},
   "outputs": [],
   "source": [
    "from autocorrect import spell\n",
    "from textblob import TextBlob\n",
    "from langdetect import detect\n",
    "from sklearn.feature_extraction.text import CountVectorizer, TfidfVectorizer\n",
    "import pandas as pd"
   ]
  },
  {
   "cell_type": "code",
   "execution_count": 69,
   "id": "8f5c435f-72ce-43cf-9a3b-691cdaa15708",
   "metadata": {},
   "outputs": [
    {
     "name": "stdout",
     "output_type": "stream",
     "text": [
      "autocorrect.spell is deprecated,             use autocorrect.Speller instead\n"
     ]
    },
    {
     "data": {
      "text/plain": [
       "'Hello'"
      ]
     },
     "execution_count": 69,
     "metadata": {},
     "output_type": "execute_result"
    }
   ],
   "source": [
    "spell('Hllo')"
   ]
  },
  {
   "cell_type": "code",
   "execution_count": 70,
   "id": "595be2f2-f15b-43cc-abae-a0ba2b30772e",
   "metadata": {},
   "outputs": [],
   "source": [
    "b = TextBlob('I havee goad speling')"
   ]
  },
  {
   "cell_type": "code",
   "execution_count": 71,
   "id": "d1313c75-1628-481e-8470-e79dc6956f90",
   "metadata": {},
   "outputs": [
    {
     "data": {
      "text/plain": [
       "TextBlob(\"I have good spelling\")"
      ]
     },
     "execution_count": 71,
     "metadata": {},
     "output_type": "execute_result"
    }
   ],
   "source": [
    "b.correct()"
   ]
  },
  {
   "cell_type": "markdown",
   "id": "0dcc639e-03f1-4cd2-9b7c-28f1cbb94df3",
   "metadata": {},
   "source": [
    "#### Langdetect"
   ]
  },
  {
   "cell_type": "code",
   "execution_count": 73,
   "id": "98e30f91-05f5-43a6-84c0-1d3e4f4b24f8",
   "metadata": {},
   "outputs": [],
   "source": [
    "d = detect"
   ]
  },
  {
   "cell_type": "code",
   "execution_count": 74,
   "id": "1baf7f77-7ff9-4d22-8dc0-b34fc412f1ed",
   "metadata": {},
   "outputs": [
    {
     "data": {
      "text/plain": [
       "'tr'"
      ]
     },
     "execution_count": 74,
     "metadata": {},
     "output_type": "execute_result"
    }
   ],
   "source": [
    "d('Merhaba dünya')"
   ]
  },
  {
   "cell_type": "code",
   "execution_count": 75,
   "id": "0f9fb8eb-b3e0-4eea-ab76-a5640f518f53",
   "metadata": {},
   "outputs": [
    {
     "data": {
      "text/plain": [
       "'ru'"
      ]
     },
     "execution_count": 75,
     "metadata": {},
     "output_type": "execute_result"
    }
   ],
   "source": [
    "d('Привет, мир')"
   ]
  },
  {
   "cell_type": "markdown",
   "id": "fe7fcda2-778c-4135-acbf-c6eec20fdc34",
   "metadata": {},
   "source": [
    "### NLP Proje Aşamaları\n",
    "- Datayı oku.\n",
    "- Her şeyi küçük harfe çevir.\n",
    "- Noktalama işaretlerini kaldır. => Punctuation\n",
    "- Rakamları kaldır\n",
    "- Satır sonlarını kaldır\n",
    "- Stopwordsleri kaldır\n",
    "- Tokenize et\n",
    "- Ekleri kaldır, kökleri bul\n",
    "- Vectorize et\n",
    "- TF/IDF => döküman içinde kelimein ne kadar geçtiğini gösterir"
   ]
  },
  {
   "cell_type": "markdown",
   "id": "386641c9-3655-4655-9fca-ad9358a0338e",
   "metadata": {},
   "source": [
    "#### TF/IDF"
   ]
  },
  {
   "cell_type": "code",
   "execution_count": 78,
   "id": "f74a9dda-c85b-4560-afb5-dc61a3ab10f4",
   "metadata": {},
   "outputs": [],
   "source": [
    "vect = CountVectorizer()"
   ]
  },
  {
   "cell_type": "code",
   "execution_count": 79,
   "id": "9975bb7f-3bed-4dac-9368-a216848e3132",
   "metadata": {},
   "outputs": [],
   "source": [
    "text = [\n",
    "    'call you tonight',\n",
    "    'call me a cab',\n",
    "    'please call me... PLEASE'\n",
    "]"
   ]
  },
  {
   "cell_type": "code",
   "execution_count": 80,
   "id": "802db522-11c6-4a91-8cf1-31ede9a5cdde",
   "metadata": {},
   "outputs": [],
   "source": [
    "tf = pd.DataFrame(vect.fit_transform(text).toarray(), columns= vect.get_feature_names_out())"
   ]
  },
  {
   "cell_type": "code",
   "execution_count": 81,
   "id": "58211867-c4f9-4512-83db-a77cc10a2d5b",
   "metadata": {},
   "outputs": [
    {
     "data": {
      "text/html": [
       "<div>\n",
       "<style scoped>\n",
       "    .dataframe tbody tr th:only-of-type {\n",
       "        vertical-align: middle;\n",
       "    }\n",
       "\n",
       "    .dataframe tbody tr th {\n",
       "        vertical-align: top;\n",
       "    }\n",
       "\n",
       "    .dataframe thead th {\n",
       "        text-align: right;\n",
       "    }\n",
       "</style>\n",
       "<table border=\"1\" class=\"dataframe\">\n",
       "  <thead>\n",
       "    <tr style=\"text-align: right;\">\n",
       "      <th></th>\n",
       "      <th>cab</th>\n",
       "      <th>call</th>\n",
       "      <th>me</th>\n",
       "      <th>please</th>\n",
       "      <th>tonight</th>\n",
       "      <th>you</th>\n",
       "    </tr>\n",
       "  </thead>\n",
       "  <tbody>\n",
       "    <tr>\n",
       "      <th>0</th>\n",
       "      <td>0</td>\n",
       "      <td>1</td>\n",
       "      <td>0</td>\n",
       "      <td>0</td>\n",
       "      <td>1</td>\n",
       "      <td>1</td>\n",
       "    </tr>\n",
       "    <tr>\n",
       "      <th>1</th>\n",
       "      <td>1</td>\n",
       "      <td>1</td>\n",
       "      <td>1</td>\n",
       "      <td>0</td>\n",
       "      <td>0</td>\n",
       "      <td>0</td>\n",
       "    </tr>\n",
       "    <tr>\n",
       "      <th>2</th>\n",
       "      <td>0</td>\n",
       "      <td>1</td>\n",
       "      <td>1</td>\n",
       "      <td>2</td>\n",
       "      <td>0</td>\n",
       "      <td>0</td>\n",
       "    </tr>\n",
       "  </tbody>\n",
       "</table>\n",
       "</div>"
      ],
      "text/plain": [
       "   cab  call  me  please  tonight  you\n",
       "0    0     1   0       0        1    1\n",
       "1    1     1   1       0        0    0\n",
       "2    0     1   1       2        0    0"
      ]
     },
     "execution_count": 81,
     "metadata": {},
     "output_type": "execute_result"
    }
   ],
   "source": [
    "tf"
   ]
  },
  {
   "cell_type": "code",
   "execution_count": 82,
   "id": "7ac9231a-ea78-4658-b210-f447905b7f3a",
   "metadata": {},
   "outputs": [],
   "source": [
    "df = vect.fit_transform(text).toarray().sum(axis=0)"
   ]
  },
  {
   "cell_type": "code",
   "execution_count": 83,
   "id": "d221337f-ea1a-4f89-921f-b97f3cfa75cc",
   "metadata": {},
   "outputs": [
    {
     "data": {
      "text/html": [
       "<div>\n",
       "<style scoped>\n",
       "    .dataframe tbody tr th:only-of-type {\n",
       "        vertical-align: middle;\n",
       "    }\n",
       "\n",
       "    .dataframe tbody tr th {\n",
       "        vertical-align: top;\n",
       "    }\n",
       "\n",
       "    .dataframe thead th {\n",
       "        text-align: right;\n",
       "    }\n",
       "</style>\n",
       "<table border=\"1\" class=\"dataframe\">\n",
       "  <thead>\n",
       "    <tr style=\"text-align: right;\">\n",
       "      <th></th>\n",
       "      <th>cab</th>\n",
       "      <th>call</th>\n",
       "      <th>me</th>\n",
       "      <th>please</th>\n",
       "      <th>tonight</th>\n",
       "      <th>you</th>\n",
       "    </tr>\n",
       "  </thead>\n",
       "  <tbody>\n",
       "    <tr>\n",
       "      <th>0</th>\n",
       "      <td>0.0</td>\n",
       "      <td>0.333333</td>\n",
       "      <td>0.0</td>\n",
       "      <td>0.0</td>\n",
       "      <td>1.0</td>\n",
       "      <td>1.0</td>\n",
       "    </tr>\n",
       "    <tr>\n",
       "      <th>1</th>\n",
       "      <td>1.0</td>\n",
       "      <td>0.333333</td>\n",
       "      <td>0.5</td>\n",
       "      <td>0.0</td>\n",
       "      <td>0.0</td>\n",
       "      <td>0.0</td>\n",
       "    </tr>\n",
       "    <tr>\n",
       "      <th>2</th>\n",
       "      <td>0.0</td>\n",
       "      <td>0.333333</td>\n",
       "      <td>0.5</td>\n",
       "      <td>1.0</td>\n",
       "      <td>0.0</td>\n",
       "      <td>0.0</td>\n",
       "    </tr>\n",
       "  </tbody>\n",
       "</table>\n",
       "</div>"
      ],
      "text/plain": [
       "   cab      call   me  please  tonight  you\n",
       "0  0.0  0.333333  0.0     0.0      1.0  1.0\n",
       "1  1.0  0.333333  0.5     0.0      0.0  0.0\n",
       "2  0.0  0.333333  0.5     1.0      0.0  0.0"
      ]
     },
     "execution_count": 83,
     "metadata": {},
     "output_type": "execute_result"
    }
   ],
   "source": [
    "tf/df\n",
    "# Kelimelerin hangi oranda cümlelere dağıldığını gösterir"
   ]
  },
  {
   "cell_type": "code",
   "execution_count": 84,
   "id": "055e889c-8800-40df-8763-5d1fe7ae8434",
   "metadata": {},
   "outputs": [],
   "source": [
    "df = pd.read_csv('yelp.csv')"
   ]
  },
  {
   "cell_type": "code",
   "execution_count": 85,
   "id": "e7c1df42-d726-4a15-98d7-46585353f215",
   "metadata": {},
   "outputs": [
    {
     "data": {
      "text/html": [
       "<div>\n",
       "<style scoped>\n",
       "    .dataframe tbody tr th:only-of-type {\n",
       "        vertical-align: middle;\n",
       "    }\n",
       "\n",
       "    .dataframe tbody tr th {\n",
       "        vertical-align: top;\n",
       "    }\n",
       "\n",
       "    .dataframe thead th {\n",
       "        text-align: right;\n",
       "    }\n",
       "</style>\n",
       "<table border=\"1\" class=\"dataframe\">\n",
       "  <thead>\n",
       "    <tr style=\"text-align: right;\">\n",
       "      <th></th>\n",
       "      <th>business_id</th>\n",
       "      <th>date</th>\n",
       "      <th>review_id</th>\n",
       "      <th>stars</th>\n",
       "      <th>text</th>\n",
       "      <th>type</th>\n",
       "      <th>user_id</th>\n",
       "      <th>cool</th>\n",
       "      <th>useful</th>\n",
       "      <th>funny</th>\n",
       "    </tr>\n",
       "  </thead>\n",
       "  <tbody>\n",
       "    <tr>\n",
       "      <th>0</th>\n",
       "      <td>9yKzy9PApeiPPOUJEtnvkg</td>\n",
       "      <td>2011-01-26</td>\n",
       "      <td>fWKvX83p0-ka4JS3dc6E5A</td>\n",
       "      <td>5</td>\n",
       "      <td>My wife took me here on my birthday for breakf...</td>\n",
       "      <td>review</td>\n",
       "      <td>rLtl8ZkDX5vH5nAx9C3q5Q</td>\n",
       "      <td>2</td>\n",
       "      <td>5</td>\n",
       "      <td>0</td>\n",
       "    </tr>\n",
       "    <tr>\n",
       "      <th>1</th>\n",
       "      <td>ZRJwVLyzEJq1VAihDhYiow</td>\n",
       "      <td>2011-07-27</td>\n",
       "      <td>IjZ33sJrzXqU-0X6U8NwyA</td>\n",
       "      <td>5</td>\n",
       "      <td>I have no idea why some people give bad review...</td>\n",
       "      <td>review</td>\n",
       "      <td>0a2KyEL0d3Yb1V6aivbIuQ</td>\n",
       "      <td>0</td>\n",
       "      <td>0</td>\n",
       "      <td>0</td>\n",
       "    </tr>\n",
       "    <tr>\n",
       "      <th>2</th>\n",
       "      <td>6oRAC4uyJCsJl1X0WZpVSA</td>\n",
       "      <td>2012-06-14</td>\n",
       "      <td>IESLBzqUCLdSzSqm0eCSxQ</td>\n",
       "      <td>4</td>\n",
       "      <td>love the gyro plate. Rice is so good and I als...</td>\n",
       "      <td>review</td>\n",
       "      <td>0hT2KtfLiobPvh6cDC8JQg</td>\n",
       "      <td>0</td>\n",
       "      <td>1</td>\n",
       "      <td>0</td>\n",
       "    </tr>\n",
       "    <tr>\n",
       "      <th>3</th>\n",
       "      <td>_1QQZuf4zZOyFCvXc0o6Vg</td>\n",
       "      <td>2010-05-27</td>\n",
       "      <td>G-WvGaISbqqaMHlNnByodA</td>\n",
       "      <td>5</td>\n",
       "      <td>Rosie, Dakota, and I LOVE Chaparral Dog Park!!...</td>\n",
       "      <td>review</td>\n",
       "      <td>uZetl9T0NcROGOyFfughhg</td>\n",
       "      <td>1</td>\n",
       "      <td>2</td>\n",
       "      <td>0</td>\n",
       "    </tr>\n",
       "    <tr>\n",
       "      <th>4</th>\n",
       "      <td>6ozycU1RpktNG2-1BroVtw</td>\n",
       "      <td>2012-01-05</td>\n",
       "      <td>1uJFq2r5QfJG_6ExMRCaGw</td>\n",
       "      <td>5</td>\n",
       "      <td>General Manager Scott Petello is a good egg!!!...</td>\n",
       "      <td>review</td>\n",
       "      <td>vYmM4KTsC8ZfQBg-j5MWkw</td>\n",
       "      <td>0</td>\n",
       "      <td>0</td>\n",
       "      <td>0</td>\n",
       "    </tr>\n",
       "  </tbody>\n",
       "</table>\n",
       "</div>"
      ],
      "text/plain": [
       "              business_id        date               review_id  stars  \\\n",
       "0  9yKzy9PApeiPPOUJEtnvkg  2011-01-26  fWKvX83p0-ka4JS3dc6E5A      5   \n",
       "1  ZRJwVLyzEJq1VAihDhYiow  2011-07-27  IjZ33sJrzXqU-0X6U8NwyA      5   \n",
       "2  6oRAC4uyJCsJl1X0WZpVSA  2012-06-14  IESLBzqUCLdSzSqm0eCSxQ      4   \n",
       "3  _1QQZuf4zZOyFCvXc0o6Vg  2010-05-27  G-WvGaISbqqaMHlNnByodA      5   \n",
       "4  6ozycU1RpktNG2-1BroVtw  2012-01-05  1uJFq2r5QfJG_6ExMRCaGw      5   \n",
       "\n",
       "                                                text    type  \\\n",
       "0  My wife took me here on my birthday for breakf...  review   \n",
       "1  I have no idea why some people give bad review...  review   \n",
       "2  love the gyro plate. Rice is so good and I als...  review   \n",
       "3  Rosie, Dakota, and I LOVE Chaparral Dog Park!!...  review   \n",
       "4  General Manager Scott Petello is a good egg!!!...  review   \n",
       "\n",
       "                  user_id  cool  useful  funny  \n",
       "0  rLtl8ZkDX5vH5nAx9C3q5Q     2       5      0  \n",
       "1  0a2KyEL0d3Yb1V6aivbIuQ     0       0      0  \n",
       "2  0hT2KtfLiobPvh6cDC8JQg     0       1      0  \n",
       "3  uZetl9T0NcROGOyFfughhg     1       2      0  \n",
       "4  vYmM4KTsC8ZfQBg-j5MWkw     0       0      0  "
      ]
     },
     "execution_count": 85,
     "metadata": {},
     "output_type": "execute_result"
    }
   ],
   "source": [
    "df.head()"
   ]
  },
  {
   "cell_type": "code",
   "execution_count": 86,
   "id": "b5cabb00-e335-4a0b-b0cc-2a78ef91bb00",
   "metadata": {},
   "outputs": [],
   "source": [
    "df['text'] = df['text'].str.lower()"
   ]
  },
  {
   "cell_type": "code",
   "execution_count": 87,
   "id": "4c9e4813-6339-41b7-ad33-792da2051142",
   "metadata": {
    "scrolled": true
   },
   "outputs": [
    {
     "name": "stderr",
     "output_type": "stream",
     "text": [
      "<>:1: SyntaxWarning: invalid escape sequence '\\w'\n",
      "<>:2: SyntaxWarning: invalid escape sequence '\\d'\n",
      "<>:1: SyntaxWarning: invalid escape sequence '\\w'\n",
      "<>:2: SyntaxWarning: invalid escape sequence '\\d'\n",
      "C:\\Users\\ckili\\AppData\\Local\\Temp\\ipykernel_22072\\161480012.py:1: SyntaxWarning: invalid escape sequence '\\w'\n",
      "  df['text'] = df['text'].str.replace('[^\\w\\s]','',regex=True)\n",
      "C:\\Users\\ckili\\AppData\\Local\\Temp\\ipykernel_22072\\161480012.py:2: SyntaxWarning: invalid escape sequence '\\d'\n",
      "  df['text'] = df['text'].str.replace('\\d+','',regex=True)\n"
     ]
    }
   ],
   "source": [
    "df['text'] = df['text'].str.replace('[^\\w\\s]','',regex=True)\n",
    "df['text'] = df['text'].str.replace('\\d+','',regex=True)\n",
    "df['text'] = df['text'].str.replace('\\n','',regex=True)\n",
    "df['text'] = df['text'].str.replace('\\r','',regex=True)"
   ]
  },
  {
   "cell_type": "code",
   "execution_count": 88,
   "id": "0955eb01-350d-48f8-a6ae-5b6bbcf0bc1e",
   "metadata": {},
   "outputs": [
    {
     "data": {
      "text/plain": [
       "'my wife took me here on my birthday for breakfast and it was excellent  the weather was perfect which made sitting outside overlooking their grounds an absolute pleasure  our waitress was excellent and our food arrived quickly on the semibusy saturday morning  it looked like the place fills up pretty quickly so the earlier you get here the betterdo yourself a favor and get their bloody mary  it was phenomenal and simply the best ive ever had  im pretty sure they only use ingredients from their garden and blend them fresh when you order it  it was amazingwhile everything on the menu looks excellent i had the white truffle scrambled eggs vegetable skillet and it was tasty and delicious  it came with  pieces of their griddled bread with was amazing and it absolutely made the meal complete  it was the best toast ive ever hadanyway i cant wait to go back'"
      ]
     },
     "execution_count": 88,
     "metadata": {},
     "output_type": "execute_result"
    }
   ],
   "source": [
    "df['text'][0]"
   ]
  },
  {
   "cell_type": "markdown",
   "id": "b5810a41-eb72-4ec0-a8e2-3d9e9959cdc8",
   "metadata": {},
   "source": [
    "#### Sentiment Analysis"
   ]
  },
  {
   "cell_type": "code",
   "execution_count": 90,
   "id": "f22fb3ca-5cb0-4466-832e-a36c9a136fea",
   "metadata": {},
   "outputs": [],
   "source": [
    "ybw = df[(df.stars == 1) | (df.stars == 5)]"
   ]
  },
  {
   "cell_type": "code",
   "execution_count": 91,
   "id": "8783da3a-7c88-4e0c-9cee-b108e5c9d667",
   "metadata": {},
   "outputs": [
    {
     "data": {
      "text/html": [
       "<div>\n",
       "<style scoped>\n",
       "    .dataframe tbody tr th:only-of-type {\n",
       "        vertical-align: middle;\n",
       "    }\n",
       "\n",
       "    .dataframe tbody tr th {\n",
       "        vertical-align: top;\n",
       "    }\n",
       "\n",
       "    .dataframe thead th {\n",
       "        text-align: right;\n",
       "    }\n",
       "</style>\n",
       "<table border=\"1\" class=\"dataframe\">\n",
       "  <thead>\n",
       "    <tr style=\"text-align: right;\">\n",
       "      <th></th>\n",
       "      <th>business_id</th>\n",
       "      <th>date</th>\n",
       "      <th>review_id</th>\n",
       "      <th>stars</th>\n",
       "      <th>text</th>\n",
       "      <th>type</th>\n",
       "      <th>user_id</th>\n",
       "      <th>cool</th>\n",
       "      <th>useful</th>\n",
       "      <th>funny</th>\n",
       "    </tr>\n",
       "  </thead>\n",
       "  <tbody>\n",
       "    <tr>\n",
       "      <th>0</th>\n",
       "      <td>9yKzy9PApeiPPOUJEtnvkg</td>\n",
       "      <td>2011-01-26</td>\n",
       "      <td>fWKvX83p0-ka4JS3dc6E5A</td>\n",
       "      <td>5</td>\n",
       "      <td>my wife took me here on my birthday for breakf...</td>\n",
       "      <td>review</td>\n",
       "      <td>rLtl8ZkDX5vH5nAx9C3q5Q</td>\n",
       "      <td>2</td>\n",
       "      <td>5</td>\n",
       "      <td>0</td>\n",
       "    </tr>\n",
       "    <tr>\n",
       "      <th>1</th>\n",
       "      <td>ZRJwVLyzEJq1VAihDhYiow</td>\n",
       "      <td>2011-07-27</td>\n",
       "      <td>IjZ33sJrzXqU-0X6U8NwyA</td>\n",
       "      <td>5</td>\n",
       "      <td>i have no idea why some people give bad review...</td>\n",
       "      <td>review</td>\n",
       "      <td>0a2KyEL0d3Yb1V6aivbIuQ</td>\n",
       "      <td>0</td>\n",
       "      <td>0</td>\n",
       "      <td>0</td>\n",
       "    </tr>\n",
       "    <tr>\n",
       "      <th>3</th>\n",
       "      <td>_1QQZuf4zZOyFCvXc0o6Vg</td>\n",
       "      <td>2010-05-27</td>\n",
       "      <td>G-WvGaISbqqaMHlNnByodA</td>\n",
       "      <td>5</td>\n",
       "      <td>rosie dakota and i love chaparral dog park its...</td>\n",
       "      <td>review</td>\n",
       "      <td>uZetl9T0NcROGOyFfughhg</td>\n",
       "      <td>1</td>\n",
       "      <td>2</td>\n",
       "      <td>0</td>\n",
       "    </tr>\n",
       "    <tr>\n",
       "      <th>4</th>\n",
       "      <td>6ozycU1RpktNG2-1BroVtw</td>\n",
       "      <td>2012-01-05</td>\n",
       "      <td>1uJFq2r5QfJG_6ExMRCaGw</td>\n",
       "      <td>5</td>\n",
       "      <td>general manager scott petello is a good egg no...</td>\n",
       "      <td>review</td>\n",
       "      <td>vYmM4KTsC8ZfQBg-j5MWkw</td>\n",
       "      <td>0</td>\n",
       "      <td>0</td>\n",
       "      <td>0</td>\n",
       "    </tr>\n",
       "    <tr>\n",
       "      <th>6</th>\n",
       "      <td>zp713qNhx8d9KCJJnrw1xA</td>\n",
       "      <td>2010-02-12</td>\n",
       "      <td>riFQ3vxNpP4rWLk_CSri2A</td>\n",
       "      <td>5</td>\n",
       "      <td>drop what youre doing and drive here after i a...</td>\n",
       "      <td>review</td>\n",
       "      <td>wFweIWhv2fREZV_dYkz_1g</td>\n",
       "      <td>7</td>\n",
       "      <td>7</td>\n",
       "      <td>4</td>\n",
       "    </tr>\n",
       "  </tbody>\n",
       "</table>\n",
       "</div>"
      ],
      "text/plain": [
       "              business_id        date               review_id  stars  \\\n",
       "0  9yKzy9PApeiPPOUJEtnvkg  2011-01-26  fWKvX83p0-ka4JS3dc6E5A      5   \n",
       "1  ZRJwVLyzEJq1VAihDhYiow  2011-07-27  IjZ33sJrzXqU-0X6U8NwyA      5   \n",
       "3  _1QQZuf4zZOyFCvXc0o6Vg  2010-05-27  G-WvGaISbqqaMHlNnByodA      5   \n",
       "4  6ozycU1RpktNG2-1BroVtw  2012-01-05  1uJFq2r5QfJG_6ExMRCaGw      5   \n",
       "6  zp713qNhx8d9KCJJnrw1xA  2010-02-12  riFQ3vxNpP4rWLk_CSri2A      5   \n",
       "\n",
       "                                                text    type  \\\n",
       "0  my wife took me here on my birthday for breakf...  review   \n",
       "1  i have no idea why some people give bad review...  review   \n",
       "3  rosie dakota and i love chaparral dog park its...  review   \n",
       "4  general manager scott petello is a good egg no...  review   \n",
       "6  drop what youre doing and drive here after i a...  review   \n",
       "\n",
       "                  user_id  cool  useful  funny  \n",
       "0  rLtl8ZkDX5vH5nAx9C3q5Q     2       5      0  \n",
       "1  0a2KyEL0d3Yb1V6aivbIuQ     0       0      0  \n",
       "3  uZetl9T0NcROGOyFfughhg     1       2      0  \n",
       "4  vYmM4KTsC8ZfQBg-j5MWkw     0       0      0  \n",
       "6  wFweIWhv2fREZV_dYkz_1g     7       7      4  "
      ]
     },
     "execution_count": 91,
     "metadata": {},
     "output_type": "execute_result"
    }
   ],
   "source": [
    "ybw.head()"
   ]
  },
  {
   "cell_type": "code",
   "execution_count": 92,
   "id": "8bf0c568-247b-4fc6-a97b-e0f1a01567ef",
   "metadata": {},
   "outputs": [],
   "source": [
    "ybw.reset_index(drop = True, inplace=True)"
   ]
  },
  {
   "cell_type": "code",
   "execution_count": 93,
   "id": "aec70abd-8116-414a-a0f2-40522cecb755",
   "metadata": {},
   "outputs": [
    {
     "data": {
      "text/html": [
       "<div>\n",
       "<style scoped>\n",
       "    .dataframe tbody tr th:only-of-type {\n",
       "        vertical-align: middle;\n",
       "    }\n",
       "\n",
       "    .dataframe tbody tr th {\n",
       "        vertical-align: top;\n",
       "    }\n",
       "\n",
       "    .dataframe thead th {\n",
       "        text-align: right;\n",
       "    }\n",
       "</style>\n",
       "<table border=\"1\" class=\"dataframe\">\n",
       "  <thead>\n",
       "    <tr style=\"text-align: right;\">\n",
       "      <th></th>\n",
       "      <th>business_id</th>\n",
       "      <th>date</th>\n",
       "      <th>review_id</th>\n",
       "      <th>stars</th>\n",
       "      <th>text</th>\n",
       "      <th>type</th>\n",
       "      <th>user_id</th>\n",
       "      <th>cool</th>\n",
       "      <th>useful</th>\n",
       "      <th>funny</th>\n",
       "    </tr>\n",
       "  </thead>\n",
       "  <tbody>\n",
       "    <tr>\n",
       "      <th>0</th>\n",
       "      <td>9yKzy9PApeiPPOUJEtnvkg</td>\n",
       "      <td>2011-01-26</td>\n",
       "      <td>fWKvX83p0-ka4JS3dc6E5A</td>\n",
       "      <td>5</td>\n",
       "      <td>my wife took me here on my birthday for breakf...</td>\n",
       "      <td>review</td>\n",
       "      <td>rLtl8ZkDX5vH5nAx9C3q5Q</td>\n",
       "      <td>2</td>\n",
       "      <td>5</td>\n",
       "      <td>0</td>\n",
       "    </tr>\n",
       "    <tr>\n",
       "      <th>1</th>\n",
       "      <td>ZRJwVLyzEJq1VAihDhYiow</td>\n",
       "      <td>2011-07-27</td>\n",
       "      <td>IjZ33sJrzXqU-0X6U8NwyA</td>\n",
       "      <td>5</td>\n",
       "      <td>i have no idea why some people give bad review...</td>\n",
       "      <td>review</td>\n",
       "      <td>0a2KyEL0d3Yb1V6aivbIuQ</td>\n",
       "      <td>0</td>\n",
       "      <td>0</td>\n",
       "      <td>0</td>\n",
       "    </tr>\n",
       "    <tr>\n",
       "      <th>2</th>\n",
       "      <td>_1QQZuf4zZOyFCvXc0o6Vg</td>\n",
       "      <td>2010-05-27</td>\n",
       "      <td>G-WvGaISbqqaMHlNnByodA</td>\n",
       "      <td>5</td>\n",
       "      <td>rosie dakota and i love chaparral dog park its...</td>\n",
       "      <td>review</td>\n",
       "      <td>uZetl9T0NcROGOyFfughhg</td>\n",
       "      <td>1</td>\n",
       "      <td>2</td>\n",
       "      <td>0</td>\n",
       "    </tr>\n",
       "    <tr>\n",
       "      <th>3</th>\n",
       "      <td>6ozycU1RpktNG2-1BroVtw</td>\n",
       "      <td>2012-01-05</td>\n",
       "      <td>1uJFq2r5QfJG_6ExMRCaGw</td>\n",
       "      <td>5</td>\n",
       "      <td>general manager scott petello is a good egg no...</td>\n",
       "      <td>review</td>\n",
       "      <td>vYmM4KTsC8ZfQBg-j5MWkw</td>\n",
       "      <td>0</td>\n",
       "      <td>0</td>\n",
       "      <td>0</td>\n",
       "    </tr>\n",
       "    <tr>\n",
       "      <th>4</th>\n",
       "      <td>zp713qNhx8d9KCJJnrw1xA</td>\n",
       "      <td>2010-02-12</td>\n",
       "      <td>riFQ3vxNpP4rWLk_CSri2A</td>\n",
       "      <td>5</td>\n",
       "      <td>drop what youre doing and drive here after i a...</td>\n",
       "      <td>review</td>\n",
       "      <td>wFweIWhv2fREZV_dYkz_1g</td>\n",
       "      <td>7</td>\n",
       "      <td>7</td>\n",
       "      <td>4</td>\n",
       "    </tr>\n",
       "  </tbody>\n",
       "</table>\n",
       "</div>"
      ],
      "text/plain": [
       "              business_id        date               review_id  stars  \\\n",
       "0  9yKzy9PApeiPPOUJEtnvkg  2011-01-26  fWKvX83p0-ka4JS3dc6E5A      5   \n",
       "1  ZRJwVLyzEJq1VAihDhYiow  2011-07-27  IjZ33sJrzXqU-0X6U8NwyA      5   \n",
       "2  _1QQZuf4zZOyFCvXc0o6Vg  2010-05-27  G-WvGaISbqqaMHlNnByodA      5   \n",
       "3  6ozycU1RpktNG2-1BroVtw  2012-01-05  1uJFq2r5QfJG_6ExMRCaGw      5   \n",
       "4  zp713qNhx8d9KCJJnrw1xA  2010-02-12  riFQ3vxNpP4rWLk_CSri2A      5   \n",
       "\n",
       "                                                text    type  \\\n",
       "0  my wife took me here on my birthday for breakf...  review   \n",
       "1  i have no idea why some people give bad review...  review   \n",
       "2  rosie dakota and i love chaparral dog park its...  review   \n",
       "3  general manager scott petello is a good egg no...  review   \n",
       "4  drop what youre doing and drive here after i a...  review   \n",
       "\n",
       "                  user_id  cool  useful  funny  \n",
       "0  rLtl8ZkDX5vH5nAx9C3q5Q     2       5      0  \n",
       "1  0a2KyEL0d3Yb1V6aivbIuQ     0       0      0  \n",
       "2  uZetl9T0NcROGOyFfughhg     1       2      0  \n",
       "3  vYmM4KTsC8ZfQBg-j5MWkw     0       0      0  \n",
       "4  wFweIWhv2fREZV_dYkz_1g     7       7      4  "
      ]
     },
     "execution_count": 93,
     "metadata": {},
     "output_type": "execute_result"
    }
   ],
   "source": [
    "ybw.head()"
   ]
  },
  {
   "cell_type": "code",
   "execution_count": 94,
   "id": "bbabc5bc-53e1-4718-b4b1-1face2ffddc9",
   "metadata": {},
   "outputs": [],
   "source": [
    "x = df[['text']]\n",
    "y = df[['stars']]"
   ]
  },
  {
   "cell_type": "code",
   "execution_count": 95,
   "id": "ecb41caf-a913-428b-890e-6011fe96650b",
   "metadata": {},
   "outputs": [],
   "source": [
    "from sklearn.model_selection import train_test_split\n",
    "from sklearn.naive_bayes import MultinomialNB"
   ]
  },
  {
   "cell_type": "code",
   "execution_count": 96,
   "id": "3fe30da3-3509-4908-89e7-1e1900edeffc",
   "metadata": {},
   "outputs": [
    {
     "data": {
      "text/html": [
       "<div>\n",
       "<style scoped>\n",
       "    .dataframe tbody tr th:only-of-type {\n",
       "        vertical-align: middle;\n",
       "    }\n",
       "\n",
       "    .dataframe tbody tr th {\n",
       "        vertical-align: top;\n",
       "    }\n",
       "\n",
       "    .dataframe thead th {\n",
       "        text-align: right;\n",
       "    }\n",
       "</style>\n",
       "<table border=\"1\" class=\"dataframe\">\n",
       "  <thead>\n",
       "    <tr style=\"text-align: right;\">\n",
       "      <th></th>\n",
       "      <th>text</th>\n",
       "    </tr>\n",
       "  </thead>\n",
       "  <tbody>\n",
       "    <tr>\n",
       "      <th>0</th>\n",
       "      <td>my wife took me here on my birthday for breakf...</td>\n",
       "    </tr>\n",
       "    <tr>\n",
       "      <th>1</th>\n",
       "      <td>i have no idea why some people give bad review...</td>\n",
       "    </tr>\n",
       "    <tr>\n",
       "      <th>2</th>\n",
       "      <td>love the gyro plate rice is so good and i also...</td>\n",
       "    </tr>\n",
       "    <tr>\n",
       "      <th>3</th>\n",
       "      <td>rosie dakota and i love chaparral dog park its...</td>\n",
       "    </tr>\n",
       "    <tr>\n",
       "      <th>4</th>\n",
       "      <td>general manager scott petello is a good egg no...</td>\n",
       "    </tr>\n",
       "  </tbody>\n",
       "</table>\n",
       "</div>"
      ],
      "text/plain": [
       "                                                text\n",
       "0  my wife took me here on my birthday for breakf...\n",
       "1  i have no idea why some people give bad review...\n",
       "2  love the gyro plate rice is so good and i also...\n",
       "3  rosie dakota and i love chaparral dog park its...\n",
       "4  general manager scott petello is a good egg no..."
      ]
     },
     "execution_count": 96,
     "metadata": {},
     "output_type": "execute_result"
    }
   ],
   "source": [
    "x.head()"
   ]
  },
  {
   "cell_type": "code",
   "execution_count": 97,
   "id": "ba14027f-b3dc-4393-9a2f-61287d8628ac",
   "metadata": {},
   "outputs": [],
   "source": [
    "vect = CountVectorizer(stop_words='english', ngram_range=(1,2))"
   ]
  },
  {
   "cell_type": "code",
   "execution_count": 98,
   "id": "1c8239b8-47b3-44c4-bf4e-d6cc30373e47",
   "metadata": {},
   "outputs": [],
   "source": [
    "x_new = vect.fit_transform(x['text'])"
   ]
  },
  {
   "cell_type": "code",
   "execution_count": 99,
   "id": "206896dd-c686-4a32-aa90-01a56bda2084",
   "metadata": {},
   "outputs": [],
   "source": [
    "x_train, x_test, y_train,y_test = train_test_split(x_new, y, random_state=42,test_size=.20)"
   ]
  },
  {
   "cell_type": "code",
   "execution_count": 100,
   "id": "f77f746e-f806-4937-b1f0-382186414082",
   "metadata": {},
   "outputs": [],
   "source": [
    "nb = MultinomialNB()"
   ]
  },
  {
   "cell_type": "code",
   "execution_count": 101,
   "id": "caf1dec8-3b6d-47fd-a2e3-0d023d289c01",
   "metadata": {},
   "outputs": [
    {
     "name": "stderr",
     "output_type": "stream",
     "text": [
      "C:\\Users\\ckili\\anaconda3\\Lib\\site-packages\\sklearn\\utils\\validation.py:1300: DataConversionWarning: A column-vector y was passed when a 1d array was expected. Please change the shape of y to (n_samples, ), for example using ravel().\n",
      "  y = column_or_1d(y, warn=True)\n"
     ]
    }
   ],
   "source": [
    "model = nb.fit(x_train,y_train)"
   ]
  },
  {
   "cell_type": "code",
   "execution_count": 102,
   "id": "35092818-3fb6-41f4-9314-dca7fde8098f",
   "metadata": {},
   "outputs": [],
   "source": [
    "pred = model.predict(x_test)"
   ]
  },
  {
   "cell_type": "code",
   "execution_count": 103,
   "id": "6cbeecf5-6a71-4606-b6b9-1ae4b668d48b",
   "metadata": {},
   "outputs": [],
   "source": [
    "from sklearn.metrics import accuracy_score"
   ]
  },
  {
   "cell_type": "code",
   "execution_count": 104,
   "id": "afc68d3d-9668-42ed-be0a-b55c3c295cc7",
   "metadata": {},
   "outputs": [
    {
     "data": {
      "text/plain": [
       "0.4575"
      ]
     },
     "execution_count": 104,
     "metadata": {},
     "output_type": "execute_result"
    }
   ],
   "source": [
    "accuracy_score(y_test,pred)"
   ]
  },
  {
   "cell_type": "code",
   "execution_count": 105,
   "id": "67699189-51de-4af6-a854-26714910597e",
   "metadata": {},
   "outputs": [],
   "source": [
    "#pip install neattext"
   ]
  },
  {
   "cell_type": "code",
   "execution_count": 106,
   "id": "3aa74ab9-228a-49a9-babb-eb0db8cfdf83",
   "metadata": {},
   "outputs": [],
   "source": [
    "import neattext.functions as nfx"
   ]
  },
  {
   "cell_type": "code",
   "execution_count": 107,
   "id": "30abc6bc-819b-4af9-bd00-aa4fa3ad7ccd",
   "metadata": {},
   "outputs": [],
   "source": [
    "s = ' '.join(df['text'].tolist())"
   ]
  },
  {
   "cell_type": "code",
   "execution_count": 108,
   "id": "e1be365d-286b-41f1-ac8c-b5de47d81af6",
   "metadata": {},
   "outputs": [],
   "source": [
    "from collections import Counter"
   ]
  },
  {
   "cell_type": "code",
   "execution_count": 109,
   "id": "f0ca03a0-2430-45e6-9125-f187350d9639",
   "metadata": {},
   "outputs": [
    {
     "data": {
      "text/plain": [
       "Counter({'the': 65095,\n",
       "         'and': 43457,\n",
       "         'a': 35868,\n",
       "         'i': 34648,\n",
       "         'to': 30083,\n",
       "         'of': 20856,\n",
       "         'was': 19970,\n",
       "         'is': 17237,\n",
       "         'it': 16606,\n",
       "         'for': 15155,\n",
       "         'in': 14655,\n",
       "         'that': 11792,\n",
       "         'my': 10943,\n",
       "         'with': 10741,\n",
       "         'but': 10442,\n",
       "         'you': 10116,\n",
       "         'this': 10004,\n",
       "         'on': 9208,\n",
       "         'they': 9122,\n",
       "         'have': 8696,\n",
       "         'we': 8411,\n",
       "         'not': 7510,\n",
       "         'had': 7210,\n",
       "         'are': 7044,\n",
       "         'place': 6544,\n",
       "         'good': 6507,\n",
       "         'at': 6499,\n",
       "         'so': 6409,\n",
       "         'were': 6091,\n",
       "         'food': 5930,\n",
       "         'as': 5667,\n",
       "         'be': 5602,\n",
       "         'there': 5052,\n",
       "         'great': 4945,\n",
       "         'like': 4934,\n",
       "         'me': 4535,\n",
       "         'its': 4523,\n",
       "         'if': 4496,\n",
       "         'just': 4493,\n",
       "         'all': 4487,\n",
       "         'out': 4391,\n",
       "         'very': 4365,\n",
       "         'here': 4171,\n",
       "         'one': 3937,\n",
       "         'or': 3850,\n",
       "         'their': 3848,\n",
       "         'get': 3778,\n",
       "         'from': 3591,\n",
       "         'up': 3437,\n",
       "         'when': 3431,\n",
       "         'go': 3388,\n",
       "         'time': 3371,\n",
       "         'really': 3319,\n",
       "         'about': 3278,\n",
       "         'our': 3266,\n",
       "         'some': 3235,\n",
       "         'would': 3049,\n",
       "         'an': 2973,\n",
       "         'service': 2969,\n",
       "         'been': 2932,\n",
       "         'can': 2904,\n",
       "         'what': 2890,\n",
       "         'which': 2880,\n",
       "         'your': 2876,\n",
       "         'back': 2811,\n",
       "         'more': 2631,\n",
       "         'dont': 2566,\n",
       "         'only': 2522,\n",
       "         'will': 2513,\n",
       "         'also': 2453,\n",
       "         'by': 2440,\n",
       "         'no': 2324,\n",
       "         'love': 2212,\n",
       "         'little': 2212,\n",
       "         'has': 2207,\n",
       "         'im': 2179,\n",
       "         'too': 2174,\n",
       "         'nice': 2156,\n",
       "         'other': 2138,\n",
       "         'because': 2101,\n",
       "         'well': 2061,\n",
       "         'ive': 2034,\n",
       "         'them': 2004,\n",
       "         'always': 2000,\n",
       "         'do': 1982,\n",
       "         'than': 1973,\n",
       "         'even': 1971,\n",
       "         'best': 1914,\n",
       "         'us': 1883,\n",
       "         'got': 1823,\n",
       "         'he': 1823,\n",
       "         'pretty': 1796,\n",
       "         'she': 1766,\n",
       "         'after': 1741,\n",
       "         'much': 1723,\n",
       "         'ordered': 1689,\n",
       "         'chicken': 1686,\n",
       "         'try': 1678,\n",
       "         'restaurant': 1659,\n",
       "         'didnt': 1641,\n",
       "         'am': 1640,\n",
       "         'people': 1622,\n",
       "         'menu': 1614,\n",
       "         'know': 1576,\n",
       "         'first': 1570,\n",
       "         'order': 1546,\n",
       "         'think': 1541,\n",
       "         'could': 1537,\n",
       "         'never': 1524,\n",
       "         'over': 1508,\n",
       "         'bar': 1505,\n",
       "         'make': 1496,\n",
       "         'better': 1488,\n",
       "         'went': 1485,\n",
       "         'friendly': 1447,\n",
       "         'did': 1443,\n",
       "         'staff': 1442,\n",
       "         'way': 1431,\n",
       "         'night': 1424,\n",
       "         'then': 1423,\n",
       "         'going': 1415,\n",
       "         'who': 1399,\n",
       "         'off': 1396,\n",
       "         'how': 1380,\n",
       "         'few': 1330,\n",
       "         'right': 1324,\n",
       "         'cheese': 1308,\n",
       "         'pizza': 1304,\n",
       "         'came': 1301,\n",
       "         'two': 1301,\n",
       "         'want': 1281,\n",
       "         'say': 1277,\n",
       "         'any': 1276,\n",
       "         'made': 1266,\n",
       "         'delicious': 1259,\n",
       "         'salad': 1227,\n",
       "         'come': 1226,\n",
       "         'lunch': 1218,\n",
       "         'new': 1211,\n",
       "         'again': 1197,\n",
       "         'still': 1196,\n",
       "         'now': 1171,\n",
       "         'fresh': 1168,\n",
       "         'sauce': 1165,\n",
       "         'take': 1148,\n",
       "         'see': 1148,\n",
       "         'before': 1143,\n",
       "         'eat': 1135,\n",
       "         'while': 1135,\n",
       "         'sure': 1125,\n",
       "         'day': 1125,\n",
       "         'definitely': 1121,\n",
       "         'since': 1119,\n",
       "         'around': 1118,\n",
       "         'her': 1116,\n",
       "         'experience': 1101,\n",
       "         'happy': 1099,\n",
       "         'cant': 1098,\n",
       "         'down': 1096,\n",
       "         'wait': 1088,\n",
       "         'something': 1078,\n",
       "         'most': 1076,\n",
       "         'times': 1062,\n",
       "         'find': 1056,\n",
       "         'bit': 1050,\n",
       "         'ever': 1049,\n",
       "         'every': 1048,\n",
       "         'next': 1047,\n",
       "         'give': 1036,\n",
       "         'said': 1028,\n",
       "         'area': 1017,\n",
       "         'everything': 1015,\n",
       "         'many': 1014,\n",
       "         'amazing': 1008,\n",
       "         'though': 1003,\n",
       "         'table': 995,\n",
       "         'meal': 990,\n",
       "         'into': 988,\n",
       "         'bad': 983,\n",
       "         'where': 969,\n",
       "         'thing': 962,\n",
       "         'lot': 959,\n",
       "         'being': 959,\n",
       "         'location': 955,\n",
       "         'last': 948,\n",
       "         'hour': 946,\n",
       "         'dinner': 944,\n",
       "         'another': 927,\n",
       "         'small': 923,\n",
       "         'big': 915,\n",
       "         'both': 907,\n",
       "         'side': 898,\n",
       "         'wasnt': 894,\n",
       "         'phoenix': 887,\n",
       "         'favorite': 877,\n",
       "         'prices': 873,\n",
       "         'youre': 862,\n",
       "         'sandwich': 854,\n",
       "         'home': 848,\n",
       "         'his': 839,\n",
       "         'burger': 834,\n",
       "         'feel': 833,\n",
       "         'hot': 832,\n",
       "         'tasty': 820,\n",
       "         'enough': 820,\n",
       "         'drinks': 818,\n",
       "         'things': 813,\n",
       "         'drink': 806,\n",
       "         'sweet': 806,\n",
       "         'stars': 804,\n",
       "         'wine': 787,\n",
       "         'minutes': 785,\n",
       "         'beer': 784,\n",
       "         'fries': 782,\n",
       "         'store': 781,\n",
       "         'thats': 778,\n",
       "         'long': 777,\n",
       "         'looking': 777,\n",
       "         'worth': 775,\n",
       "         'need': 772,\n",
       "         'awesome': 771,\n",
       "         'bread': 763,\n",
       "         'tried': 758,\n",
       "         'price': 758,\n",
       "         'different': 757,\n",
       "         'took': 756,\n",
       "         'atmosphere': 755,\n",
       "         'friends': 755,\n",
       "         'should': 749,\n",
       "         'coffee': 746,\n",
       "         'work': 740,\n",
       "         'places': 725,\n",
       "         'years': 723,\n",
       "         'recommend': 721,\n",
       "         'clean': 719,\n",
       "         'these': 709,\n",
       "         'actually': 709,\n",
       "         'taste': 705,\n",
       "         'breakfast': 702,\n",
       "         'excellent': 702,\n",
       "         'room': 699,\n",
       "         'selection': 698,\n",
       "         'found': 698,\n",
       "         'huge': 697,\n",
       "         'old': 697,\n",
       "         'asked': 696,\n",
       "         'nothing': 695,\n",
       "         'those': 683,\n",
       "         'probably': 678,\n",
       "         'meat': 677,\n",
       "         'kind': 675,\n",
       "         'visit': 675,\n",
       "         'same': 673,\n",
       "         'wanted': 672,\n",
       "         'ok': 666,\n",
       "         'thought': 663,\n",
       "         'special': 651,\n",
       "         'quality': 651,\n",
       "         'quite': 648,\n",
       "         'flavor': 648,\n",
       "         'anything': 646,\n",
       "         'friend': 644,\n",
       "         'id': 644,\n",
       "         'once': 642,\n",
       "         'server': 638,\n",
       "         'large': 634,\n",
       "         'scottsdale': 631,\n",
       "         'sushi': 625,\n",
       "         'rice': 624,\n",
       "         'check': 622,\n",
       "         'maybe': 620,\n",
       "         'look': 620,\n",
       "         'super': 619,\n",
       "         'however': 617,\n",
       "         'perfect': 616,\n",
       "         'full': 616,\n",
       "         'each': 616,\n",
       "         'told': 615,\n",
       "         'cool': 615,\n",
       "         'free': 613,\n",
       "         'beef': 608,\n",
       "         'usually': 608,\n",
       "         'ill': 603,\n",
       "         'fun': 596,\n",
       "         'house': 596,\n",
       "         'why': 595,\n",
       "         'town': 591,\n",
       "         'cream': 590,\n",
       "         'top': 588,\n",
       "         'dish': 587,\n",
       "         'outside': 579,\n",
       "         'far': 577,\n",
       "         'review': 570,\n",
       "         'away': 570,\n",
       "         'used': 569,\n",
       "         'inside': 566,\n",
       "         'enjoy': 561,\n",
       "         'decided': 557,\n",
       "         'items': 553,\n",
       "         'ask': 550,\n",
       "         'without': 545,\n",
       "         'else': 544,\n",
       "         'fried': 543,\n",
       "         'served': 542,\n",
       "         'open': 540,\n",
       "         'having': 539,\n",
       "         'pork': 538,\n",
       "         'spot': 537,\n",
       "         'left': 535,\n",
       "         'getting': 532,\n",
       "         'least': 531,\n",
       "         'parking': 528,\n",
       "         'spicy': 522,\n",
       "         'everyone': 519,\n",
       "         'soup': 519,\n",
       "         'decent': 514,\n",
       "         'through': 514,\n",
       "         'enjoyed': 513,\n",
       "         'put': 512,\n",
       "         'couple': 512,\n",
       "         'three': 512,\n",
       "         'may': 511,\n",
       "         'red': 511,\n",
       "         'loved': 509,\n",
       "         'patio': 509,\n",
       "         'makes': 508,\n",
       "         'almost': 507,\n",
       "         'half': 507,\n",
       "         'mexican': 505,\n",
       "         'dishes': 505,\n",
       "         'water': 497,\n",
       "         'star': 494,\n",
       "         'family': 493,\n",
       "         'course': 493,\n",
       "         'eating': 493,\n",
       "         'such': 488,\n",
       "         'high': 488,\n",
       "         'whole': 487,\n",
       "         'music': 486,\n",
       "         'hard': 485,\n",
       "         'plate': 484,\n",
       "         'ice': 484,\n",
       "         'busy': 483,\n",
       "         'use': 479,\n",
       "         'him': 478,\n",
       "         'fan': 477,\n",
       "         'restaurants': 476,\n",
       "         'during': 472,\n",
       "         'does': 471,\n",
       "         'part': 468,\n",
       "         'doesnt': 467,\n",
       "         'isnt': 465,\n",
       "         'looked': 463,\n",
       "         'green': 463,\n",
       "         'oh': 463,\n",
       "         'dining': 463,\n",
       "         'husband': 462,\n",
       "         'local': 461,\n",
       "         'kids': 461,\n",
       "         'reviews': 460,\n",
       "         'chips': 460,\n",
       "         'fantastic': 460,\n",
       "         'let': 458,\n",
       "         'tasted': 455,\n",
       "         'wonderful': 454,\n",
       "         'fish': 454,\n",
       "         'must': 453,\n",
       "         'yes': 453,\n",
       "         'several': 453,\n",
       "         'close': 451,\n",
       "         'tacos': 449,\n",
       "         'fast': 449,\n",
       "         'live': 448,\n",
       "         'shop': 446,\n",
       "         'wont': 445,\n",
       "         'shrimp': 441,\n",
       "         'week': 440,\n",
       "         'care': 439,\n",
       "         'steak': 439,\n",
       "         'especially': 438,\n",
       "         'valley': 433,\n",
       "         'chocolate': 432,\n",
       "         'customer': 431,\n",
       "         'less': 431,\n",
       "         'hours': 431,\n",
       "         'liked': 430,\n",
       "         'stuff': 427,\n",
       "         'overall': 426,\n",
       "         'tables': 423,\n",
       "         'business': 422,\n",
       "         'own': 419,\n",
       "         'yet': 418,\n",
       "         'tell': 415,\n",
       "         'either': 415,\n",
       "         'done': 414,\n",
       "         'someone': 413,\n",
       "         'real': 413,\n",
       "         'stop': 413,\n",
       "         'waitress': 412,\n",
       "         'coming': 412,\n",
       "         'name': 412,\n",
       "         'quick': 412,\n",
       "         'finally': 410,\n",
       "         'door': 409,\n",
       "         'comes': 408,\n",
       "         'might': 406,\n",
       "         'gave': 406,\n",
       "         'trying': 406,\n",
       "         'sit': 406,\n",
       "         'although': 404,\n",
       "         'bring': 403,\n",
       "         'guy': 401,\n",
       "         'dessert': 397,\n",
       "         'decor': 396,\n",
       "         'cheap': 394,\n",
       "         'thai': 394,\n",
       "         'disappointed': 393,\n",
       "         'year': 393,\n",
       "         'fact': 391,\n",
       "         'end': 389,\n",
       "         'walk': 386,\n",
       "         'style': 386,\n",
       "         'until': 385,\n",
       "         'line': 385,\n",
       "         'called': 383,\n",
       "         'keep': 383,\n",
       "         'couldnt': 383,\n",
       "         'cooked': 383,\n",
       "         'started': 382,\n",
       "         'call': 382,\n",
       "         'theres': 381,\n",
       "         'salsa': 380,\n",
       "         'pay': 380,\n",
       "         'extra': 380,\n",
       "         'walked': 379,\n",
       "         'front': 376,\n",
       "         'myself': 375,\n",
       "         'felt': 375,\n",
       "         'lots': 375,\n",
       "         'waiting': 373,\n",
       "         'brought': 373,\n",
       "         'instead': 371,\n",
       "         'seemed': 370,\n",
       "         'yummy': 370,\n",
       "         'seems': 367,\n",
       "         'sat': 365,\n",
       "         'deal': 363,\n",
       "         'pm': 362,\n",
       "         'able': 362,\n",
       "         'reason': 362,\n",
       "         'drive': 360,\n",
       "         'tea': 360,\n",
       "         'plus': 360,\n",
       "         'bbq': 358,\n",
       "         'bacon': 358,\n",
       "         'regular': 358,\n",
       "         'money': 358,\n",
       "         'often': 357,\n",
       "         'street': 355,\n",
       "         'helpful': 355,\n",
       "         'white': 352,\n",
       "         'today': 351,\n",
       "         'wrong': 347,\n",
       "         'theyre': 346,\n",
       "         'yelp': 344,\n",
       "         'offer': 343,\n",
       "         'car': 342,\n",
       "         'glass': 341,\n",
       "         'return': 340,\n",
       "         'potato': 339,\n",
       "         'okay': 338,\n",
       "         'wife': 337,\n",
       "         'wouldnt': 337,\n",
       "         'guess': 337,\n",
       "         'beans': 337,\n",
       "         'owner': 336,\n",
       "         'group': 336,\n",
       "         'second': 336,\n",
       "         'wish': 334,\n",
       "         'saw': 334,\n",
       "         'seem': 334,\n",
       "         'help': 334,\n",
       "         'options': 331,\n",
       "         'job': 330,\n",
       "         'person': 330,\n",
       "         'ate': 329,\n",
       "         'highly': 329,\n",
       "         'waiter': 327,\n",
       "         'needed': 327,\n",
       "         'kitchen': 326,\n",
       "         'light': 324,\n",
       "         'ago': 323,\n",
       "         'impressed': 320,\n",
       "         'fine': 318,\n",
       "         'morning': 316,\n",
       "         'seating': 315,\n",
       "         'dog': 315,\n",
       "         'flavors': 315,\n",
       "         'size': 315,\n",
       "         'absolutely': 314,\n",
       "         'sandwiches': 313,\n",
       "         'expect': 313,\n",
       "         'warm': 312,\n",
       "         'hotel': 312,\n",
       "         'rolls': 311,\n",
       "         'gets': 310,\n",
       "         'serve': 310,\n",
       "         'buy': 310,\n",
       "         'easy': 309,\n",
       "         'list': 309,\n",
       "         'roll': 309,\n",
       "         'start': 307,\n",
       "         'four': 307,\n",
       "         'party': 304,\n",
       "         'remember': 303,\n",
       "         'point': 303,\n",
       "         'portions': 302,\n",
       "         'pick': 299,\n",
       "         'appetizer': 299,\n",
       "         'later': 298,\n",
       "         'etc': 298,\n",
       "         'type': 298,\n",
       "         'bowl': 297,\n",
       "         'chinese': 297,\n",
       "         'choice': 296,\n",
       "         'making': 296,\n",
       "         'pool': 296,\n",
       "         'anyone': 295,\n",
       "         'perfectly': 294,\n",
       "         'grilled': 294,\n",
       "         'extremely': 293,\n",
       "         'stay': 293,\n",
       "         'between': 292,\n",
       "         'days': 291,\n",
       "         'arizona': 291,\n",
       "         'saturday': 290,\n",
       "         'past': 290,\n",
       "         'looks': 289,\n",
       "         'early': 289,\n",
       "         'seen': 288,\n",
       "         'youll': 286,\n",
       "         'mind': 283,\n",
       "         'amount': 282,\n",
       "         'havent': 282,\n",
       "         'late': 282,\n",
       "         'beautiful': 281,\n",
       "         'variety': 281,\n",
       "         'burgers': 281,\n",
       "         'cold': 280,\n",
       "         'ended': 280,\n",
       "         'mall': 280,\n",
       "         'run': 279,\n",
       "         'plenty': 279,\n",
       "         'average': 279,\n",
       "         'arrived': 278,\n",
       "         'trip': 278,\n",
       "         'reasonable': 278,\n",
       "         'add': 277,\n",
       "         'potatoes': 276,\n",
       "         'friday': 276,\n",
       "         'az': 276,\n",
       "         'guys': 274,\n",
       "         'attentive': 274,\n",
       "         'sitting': 273,\n",
       "         'problem': 273,\n",
       "         'game': 273,\n",
       "         'cake': 271,\n",
       "         'wings': 271,\n",
       "         'hit': 271,\n",
       "         'priced': 271,\n",
       "         'burrito': 271,\n",
       "         'ingredients': 270,\n",
       "         'manager': 270,\n",
       "         'soon': 270,\n",
       "         'seated': 269,\n",
       "         'working': 267,\n",
       "         'leave': 267,\n",
       "         'others': 266,\n",
       "         'near': 266,\n",
       "         'tempe': 266,\n",
       "         'dry': 264,\n",
       "         'rather': 264,\n",
       "         'eaten': 264,\n",
       "         'choose': 263,\n",
       "         'counter': 263,\n",
       "         'park': 262,\n",
       "         'cute': 262,\n",
       "         'along': 262,\n",
       "         'heard': 262,\n",
       "         'quickly': 260,\n",
       "         'egg': 260,\n",
       "         'mean': 260,\n",
       "         'seriously': 260,\n",
       "         'butter': 259,\n",
       "         'bite': 259,\n",
       "         'across': 259,\n",
       "         'show': 258,\n",
       "         'sunday': 258,\n",
       "         'packed': 257,\n",
       "         'french': 255,\n",
       "         'beers': 255,\n",
       "         'downtown': 254,\n",
       "         'believe': 254,\n",
       "         'under': 253,\n",
       "         'sometimes': 252,\n",
       "         'pasta': 252,\n",
       "         'short': 250,\n",
       "         'comfortable': 249,\n",
       "         'already': 249,\n",
       "         'date': 248,\n",
       "         'five': 247,\n",
       "         'bill': 247,\n",
       "         'unique': 247,\n",
       "         'customers': 247,\n",
       "         'crust': 247,\n",
       "         'behind': 247,\n",
       "         'surprised': 246,\n",
       "         'waited': 245,\n",
       "         'set': 245,\n",
       "         'shopping': 244,\n",
       "         'stopped': 244,\n",
       "         'watch': 244,\n",
       "         'read': 243,\n",
       "         'cut': 243,\n",
       "         'twice': 242,\n",
       "         'ready': 242,\n",
       "         'main': 241,\n",
       "         'expensive': 240,\n",
       "         'ones': 239,\n",
       "         'totally': 238,\n",
       "         'given': 238,\n",
       "         'ambiance': 237,\n",
       "         'weekend': 237,\n",
       "         'tomato': 236,\n",
       "         'italian': 236,\n",
       "         'eggs': 235,\n",
       "         'garlic': 235,\n",
       "         'itself': 235,\n",
       "         'slow': 235,\n",
       "         'crowd': 235,\n",
       "         'doing': 234,\n",
       "         'th': 234,\n",
       "         'taco': 234,\n",
       "         'evening': 233,\n",
       "         'specials': 233,\n",
       "         'onion': 231,\n",
       "         'man': 230,\n",
       "         'crispy': 230,\n",
       "         'glad': 229,\n",
       "         'neighborhood': 229,\n",
       "         'corn': 229,\n",
       "         'life': 228,\n",
       "         'salads': 227,\n",
       "         'space': 226,\n",
       "         'authentic': 226,\n",
       "         'hand': 226,\n",
       "         'knew': 225,\n",
       "         'rest': 224,\n",
       "         'pho': 224,\n",
       "         'walking': 221,\n",
       "         'head': 221,\n",
       "         'ordering': 221,\n",
       "         'girl': 220,\n",
       "         'gone': 220,\n",
       "         'available': 220,\n",
       "         'offered': 220,\n",
       "         'simple': 220,\n",
       "         'tip': 219,\n",
       "         'entire': 219,\n",
       "         'flavorful': 219,\n",
       "         'chef': 218,\n",
       "         'employees': 218,\n",
       "         'market': 217,\n",
       "         'completely': 217,\n",
       "         'chain': 216,\n",
       "         'taking': 215,\n",
       "         'please': 214,\n",
       "         'hope': 214,\n",
       "         'kept': 214,\n",
       "         'black': 212,\n",
       "         'recently': 211,\n",
       "         'spend': 211,\n",
       "         'feeling': 210,\n",
       "         'arent': 210,\n",
       "         'onions': 210,\n",
       "         'mom': 210,\n",
       "         'idea': 209,\n",
       "         'months': 209,\n",
       "         'yourself': 208,\n",
       "         'choices': 208,\n",
       "         'sausage': 208,\n",
       "         'expected': 208,\n",
       "         'school': 208,\n",
       "         'cup': 208,\n",
       "         'portion': 206,\n",
       "         'charge': 206,\n",
       "         'located': 205,\n",
       "         'entrees': 205,\n",
       "         'including': 205,\n",
       "         'card': 205,\n",
       "         'wow': 205,\n",
       "         'typical': 205,\n",
       "         'center': 205,\n",
       "         'needs': 203,\n",
       "         'bland': 203,\n",
       "         'plates': 203,\n",
       "         'appetizers': 203,\n",
       "         'servers': 203,\n",
       "         'werent': 202,\n",
       "         'bottle': 202,\n",
       "         'change': 202,\n",
       "         's': 201,\n",
       "         'loud': 200,\n",
       "         'joint': 200,\n",
       "         'sort': 200,\n",
       "         'tastes': 200,\n",
       "         'unfortunately': 198,\n",
       "         'toppings': 197,\n",
       "         'interesting': 197,\n",
       "         'miss': 197,\n",
       "         'cost': 197,\n",
       "         'curry': 195,\n",
       "         'moved': 195,\n",
       "         'mixed': 195,\n",
       "         'hands': 195,\n",
       "         'birthday': 194,\n",
       "         'pieces': 194,\n",
       "         'veggies': 194,\n",
       "         'noodles': 194,\n",
       "         'office': 194,\n",
       "         'hungry': 192,\n",
       "         'club': 192,\n",
       "         'filled': 192,\n",
       "         'bartender': 191,\n",
       "         'saying': 191,\n",
       "         'dark': 191,\n",
       "         'bucks': 191,\n",
       "         'noticed': 190,\n",
       "         'hair': 190,\n",
       "         'crowded': 189,\n",
       "         'desert': 189,\n",
       "         'opened': 189,\n",
       "         'excited': 189,\n",
       "         'world': 189,\n",
       "         'hate': 189,\n",
       "         'giving': 189,\n",
       "         'meals': 188,\n",
       "         'lettuce': 188,\n",
       "         'kinda': 188,\n",
       "         'anyway': 187,\n",
       "         'together': 187,\n",
       "         'thanks': 187,\n",
       "         'afternoon': 186,\n",
       "         'oil': 186,\n",
       "         'empty': 185,\n",
       "         'anywhere': 185,\n",
       "         'salmon': 185,\n",
       "         'exactly': 184,\n",
       "         'veggie': 184,\n",
       "         'asian': 183,\n",
       "         'soft': 183,\n",
       "         'spring': 183,\n",
       "         'grill': 183,\n",
       "         'play': 182,\n",
       "         'unless': 182,\n",
       "         'tender': 182,\n",
       "         'number': 182,\n",
       "         'pleasant': 181,\n",
       "         'pricey': 181,\n",
       "         'owners': 181,\n",
       "         'grab': 181,\n",
       "         'understand': 180,\n",
       "         'dressing': 180,\n",
       "         'toast': 179,\n",
       "         'foods': 179,\n",
       "         'event': 179,\n",
       "         'thank': 178,\n",
       "         'wall': 178,\n",
       "         'chance': 178,\n",
       "         'note': 178,\n",
       "         'sides': 177,\n",
       "         'mouth': 177,\n",
       "         'yeah': 176,\n",
       "         'within': 176,\n",
       "         'prepared': 176,\n",
       "         'homemade': 175,\n",
       "         'stand': 175,\n",
       "         'outdoor': 175,\n",
       "         'case': 174,\n",
       "         'mac': 174,\n",
       "         'cannot': 174,\n",
       "         'company': 174,\n",
       "         'phone': 174,\n",
       "         'talk': 174,\n",
       "         'truly': 174,\n",
       "         'frozen': 174,\n",
       "         'w': 173,\n",
       "         'simply': 172,\n",
       "         'sign': 172,\n",
       "         'weeks': 172,\n",
       "         'forward': 172,\n",
       "         'tuna': 172,\n",
       "         'greasy': 172,\n",
       "         'goes': 171,\n",
       "         'longer': 171,\n",
       "         'low': 171,\n",
       "         'cafe': 171,\n",
       "         'entree': 170,\n",
       "         'above': 170,\n",
       "         'single': 170,\n",
       "         'item': 170,\n",
       "         'ribs': 169,\n",
       "         'summer': 169,\n",
       "         'based': 169,\n",
       "         'sports': 169,\n",
       "         'healthy': 168,\n",
       "         'true': 168,\n",
       "         'piece': 168,\n",
       "         'watching': 168,\n",
       "         'fabulous': 167,\n",
       "         'movie': 167,\n",
       "         'dirty': 167,\n",
       "         'spinach': 167,\n",
       "         'received': 166,\n",
       "         'tomatoes': 166,\n",
       "         'city': 166,\n",
       "         'stores': 166,\n",
       "         'closed': 166,\n",
       "         'crab': 166,\n",
       "         'value': 165,\n",
       "         'literally': 165,\n",
       "         'blue': 165,\n",
       "         'strip': 165,\n",
       "         'lady': 164,\n",
       "         'mix': 164,\n",
       "         'yum': 164,\n",
       "         'dip': 164,\n",
       "         'tiny': 164,\n",
       "         'buffet': 164,\n",
       "         'fairly': 163,\n",
       "         'orange': 163,\n",
       "         'recommended': 163,\n",
       "         'finish': 163,\n",
       "         'bag': 163,\n",
       "         'view': 163,\n",
       "         'vegetarian': 162,\n",
       "         'la': 162,\n",
       "         'except': 162,\n",
       "         'serving': 162,\n",
       "         'spent': 162,\n",
       "         'thin': 161,\n",
       "         'fair': 161,\n",
       "         'upon': 161,\n",
       "         'share': 160,\n",
       "         'added': 160,\n",
       "         'takes': 160,\n",
       "         'slightly': 159,\n",
       "         'immediately': 159,\n",
       "         'bought': 159,\n",
       "         'craving': 159,\n",
       "         'fruit': 158,\n",
       "         'casual': 158,\n",
       "         'taken': 158,\n",
       "         'boyfriend': 158,\n",
       "         'stuffed': 158,\n",
       "         'pita': 158,\n",
       "         'shared': 157,\n",
       "         'playing': 157,\n",
       "         'roasted': 157,\n",
       "         'prefer': 157,\n",
       "         'floor': 157,\n",
       "         'mine': 157,\n",
       "         'horrible': 157,\n",
       "         'box': 156,\n",
       "         'middle': 156,\n",
       "         'lived': 156,\n",
       "         'hear': 156,\n",
       "         'paying': 156,\n",
       "         'dogs': 155,\n",
       "         'perhaps': 155,\n",
       "         'pie': 155,\n",
       "         'worst': 155,\n",
       "         'sorry': 155,\n",
       "         'due': 155,\n",
       "         'weve': 155,\n",
       "         'total': 155,\n",
       "         'sauces': 154,\n",
       "         'chili': 154,\n",
       "         'tasting': 153,\n",
       "         'thinking': 153,\n",
       "         'paid': 153,\n",
       "         'filling': 153,\n",
       "         'iced': 153,\n",
       "         'seat': 152,\n",
       "         'finished': 152,\n",
       "         'girls': 152,\n",
       "         'lets': 152,\n",
       "         'split': 152,\n",
       "         'pizzas': 152,\n",
       "         'month': 152,\n",
       "         'youve': 151,\n",
       "         'talking': 151,\n",
       "         'heat': 151,\n",
       "         'says': 151,\n",
       "         'easily': 151,\n",
       "         'whatever': 151,\n",
       "         'dr': 151,\n",
       "         'orders': 150,\n",
       "         'art': 150,\n",
       "         'young': 150,\n",
       "         'attention': 150,\n",
       "         'slices': 149,\n",
       "         'corner': 149,\n",
       "         'face': 149,\n",
       "         'weird': 149,\n",
       "         'cook': 149,\n",
       "         'tons': 148,\n",
       "         'certainly': 148,\n",
       "         'turkey': 148,\n",
       "         'lovely': 148,\n",
       "         'crazy': 147,\n",
       "         'stayed': 147,\n",
       "         'brunch': 146,\n",
       "         'hang': 146,\n",
       "         'seafood': 146,\n",
       "         'seats': 146,\n",
       "         'somewhere': 145,\n",
       "         'vibe': 145,\n",
       "         'option': 145,\n",
       "         'book': 145,\n",
       "         'terrible': 145,\n",
       "         'carne': 145,\n",
       "         'beat': 144,\n",
       "         'greeted': 144,\n",
       "         'mention': 143,\n",
       "         'works': 143,\n",
       "         'normally': 143,\n",
       "         'section': 143,\n",
       "         'rooms': 142,\n",
       "         'combo': 142,\n",
       "         'standard': 142,\n",
       "         'shot': 142,\n",
       "         'treat': 141,\n",
       "         'worked': 141,\n",
       "         'mood': 141,\n",
       "         'forget': 141,\n",
       "         'airport': 141,\n",
       "         'poor': 141,\n",
       "         'word': 141,\n",
       "         'baked': 140,\n",
       "         'building': 140,\n",
       "         'damn': 140,\n",
       "         'minute': 140,\n",
       "         'write': 140,\n",
       "         'alone': 140,\n",
       "         'north': 139,\n",
       "         'pass': 139,\n",
       "         'donuts': 139,\n",
       "         'salt': 138,\n",
       "         'rude': 138,\n",
       "         'pulled': 138,\n",
       "         'personal': 137,\n",
       "         'peppers': 137,\n",
       "         'plan': 137,\n",
       "         'overpriced': 137,\n",
       "         'picked': 137,\n",
       "         'bean': 137,\n",
       "         'honestly': 137,\n",
       "         'mushrooms': 137,\n",
       "         'folks': 136,\n",
       "         'means': 136,\n",
       "         'solid': 135,\n",
       "         'seeing': 135,\n",
       "         'sour': 135,\n",
       "         'matter': 135,\n",
       "         'daughter': 135,\n",
       "         'mostly': 135,\n",
       "         'east': 135,\n",
       "         'traditional': 135,\n",
       "         'salty': 134,\n",
       "         'opinion': 134,\n",
       "         'sad': 134,\n",
       "         'hummus': 134,\n",
       "         'cash': 133,\n",
       "         'tortilla': 133,\n",
       "         'slice': 133,\n",
       "         'using': 133,\n",
       "         'met': 132,\n",
       "         'soda': 132,\n",
       "         'thick': 132,\n",
       "         'turned': 132,\n",
       "         'reasonably': 132,\n",
       "         'die': 132,\n",
       "         'games': 132,\n",
       "         'drinking': 132,\n",
       "         'per': 132,\n",
       "         'eye': 131,\n",
       "         'professional': 131,\n",
       "         'bars': 131,\n",
       "         'reading': 131,\n",
       "         ...})"
      ]
     },
     "execution_count": 109,
     "metadata": {},
     "output_type": "execute_result"
    }
   ],
   "source": [
    "Counter(s.split())"
   ]
  },
  {
   "cell_type": "code",
   "execution_count": 110,
   "id": "272940ee-1090-4bf8-92ce-528d369f3502",
   "metadata": {},
   "outputs": [],
   "source": [
    "sf2 = nfx.remove_stopwords(s)"
   ]
  },
  {
   "cell_type": "code",
   "execution_count": 111,
   "id": "a13a5e93-45c1-411e-9aab-e322aa9d2d42",
   "metadata": {},
   "outputs": [
    {
     "data": {
      "text/plain": [
       "Counter({'place': 6544,\n",
       "         'good': 6507,\n",
       "         'food': 5930,\n",
       "         'great': 4945,\n",
       "         'like': 4934,\n",
       "         'time': 3371,\n",
       "         'service': 2969,\n",
       "         'dont': 2566,\n",
       "         'love': 2212,\n",
       "         'little': 2212,\n",
       "         'im': 2179,\n",
       "         'nice': 2156,\n",
       "         'ive': 2034,\n",
       "         'best': 1914,\n",
       "         'got': 1823,\n",
       "         'pretty': 1796,\n",
       "         'ordered': 1689,\n",
       "         'chicken': 1686,\n",
       "         'try': 1678,\n",
       "         'restaurant': 1659,\n",
       "         'didnt': 1641,\n",
       "         'people': 1622,\n",
       "         'menu': 1614,\n",
       "         'know': 1576,\n",
       "         'order': 1546,\n",
       "         'think': 1541,\n",
       "         'bar': 1505,\n",
       "         'better': 1488,\n",
       "         'went': 1485,\n",
       "         'friendly': 1447,\n",
       "         'staff': 1442,\n",
       "         'way': 1431,\n",
       "         'night': 1424,\n",
       "         'going': 1415,\n",
       "         'right': 1324,\n",
       "         'cheese': 1308,\n",
       "         'pizza': 1304,\n",
       "         'came': 1301,\n",
       "         'want': 1281,\n",
       "         'delicious': 1259,\n",
       "         'salad': 1227,\n",
       "         'come': 1226,\n",
       "         'lunch': 1218,\n",
       "         'new': 1211,\n",
       "         'fresh': 1168,\n",
       "         'sauce': 1165,\n",
       "         'eat': 1135,\n",
       "         'sure': 1125,\n",
       "         'day': 1125,\n",
       "         'definitely': 1121,\n",
       "         'experience': 1101,\n",
       "         'happy': 1099,\n",
       "         'cant': 1098,\n",
       "         'wait': 1088,\n",
       "         'times': 1062,\n",
       "         'find': 1056,\n",
       "         'bit': 1050,\n",
       "         'said': 1028,\n",
       "         'area': 1017,\n",
       "         'amazing': 1008,\n",
       "         'table': 995,\n",
       "         'meal': 990,\n",
       "         'bad': 983,\n",
       "         'thing': 962,\n",
       "         'lot': 959,\n",
       "         'location': 955,\n",
       "         'hour': 946,\n",
       "         'dinner': 944,\n",
       "         'small': 923,\n",
       "         'big': 915,\n",
       "         'wasnt': 894,\n",
       "         'phoenix': 887,\n",
       "         'favorite': 877,\n",
       "         'prices': 873,\n",
       "         'youre': 862,\n",
       "         'sandwich': 854,\n",
       "         'home': 848,\n",
       "         'burger': 834,\n",
       "         'feel': 833,\n",
       "         'hot': 832,\n",
       "         'tasty': 820,\n",
       "         'drinks': 818,\n",
       "         'things': 813,\n",
       "         'drink': 806,\n",
       "         'sweet': 806,\n",
       "         'stars': 804,\n",
       "         'wine': 787,\n",
       "         'minutes': 785,\n",
       "         'beer': 784,\n",
       "         'fries': 782,\n",
       "         'store': 781,\n",
       "         'thats': 778,\n",
       "         'long': 777,\n",
       "         'looking': 777,\n",
       "         'worth': 775,\n",
       "         'need': 772,\n",
       "         'awesome': 771,\n",
       "         'bread': 763,\n",
       "         'tried': 758,\n",
       "         'price': 758,\n",
       "         'different': 757,\n",
       "         'took': 756,\n",
       "         'atmosphere': 755,\n",
       "         'friends': 755,\n",
       "         'coffee': 746,\n",
       "         'work': 740,\n",
       "         'places': 725,\n",
       "         'years': 723,\n",
       "         'recommend': 721,\n",
       "         'clean': 719,\n",
       "         'actually': 709,\n",
       "         'taste': 705,\n",
       "         'breakfast': 702,\n",
       "         'excellent': 702,\n",
       "         'room': 699,\n",
       "         'selection': 698,\n",
       "         'found': 698,\n",
       "         'huge': 697,\n",
       "         'old': 697,\n",
       "         'asked': 696,\n",
       "         'probably': 678,\n",
       "         'meat': 677,\n",
       "         'kind': 675,\n",
       "         'visit': 675,\n",
       "         'wanted': 672,\n",
       "         'ok': 666,\n",
       "         'thought': 663,\n",
       "         'special': 651,\n",
       "         'quality': 651,\n",
       "         'flavor': 648,\n",
       "         'friend': 644,\n",
       "         'id': 644,\n",
       "         'server': 638,\n",
       "         'large': 634,\n",
       "         'scottsdale': 631,\n",
       "         'sushi': 625,\n",
       "         'rice': 624,\n",
       "         'check': 622,\n",
       "         'maybe': 620,\n",
       "         'look': 620,\n",
       "         'super': 619,\n",
       "         'perfect': 616,\n",
       "         'told': 615,\n",
       "         'cool': 615,\n",
       "         'free': 613,\n",
       "         'beef': 608,\n",
       "         'usually': 608,\n",
       "         'ill': 603,\n",
       "         'fun': 596,\n",
       "         'house': 596,\n",
       "         'town': 591,\n",
       "         'cream': 590,\n",
       "         'dish': 587,\n",
       "         'outside': 579,\n",
       "         'far': 577,\n",
       "         'review': 570,\n",
       "         'away': 570,\n",
       "         'inside': 566,\n",
       "         'enjoy': 561,\n",
       "         'decided': 557,\n",
       "         'items': 553,\n",
       "         'ask': 550,\n",
       "         'fried': 543,\n",
       "         'served': 542,\n",
       "         'open': 540,\n",
       "         'pork': 538,\n",
       "         'spot': 537,\n",
       "         'left': 535,\n",
       "         'getting': 532,\n",
       "         'parking': 528,\n",
       "         'spicy': 522,\n",
       "         'soup': 519,\n",
       "         'decent': 514,\n",
       "         'enjoyed': 513,\n",
       "         'couple': 512,\n",
       "         'red': 511,\n",
       "         'loved': 509,\n",
       "         'patio': 509,\n",
       "         'makes': 508,\n",
       "         'half': 507,\n",
       "         'mexican': 505,\n",
       "         'dishes': 505,\n",
       "         'water': 497,\n",
       "         'star': 494,\n",
       "         'family': 493,\n",
       "         'course': 493,\n",
       "         'eating': 493,\n",
       "         'high': 488,\n",
       "         'music': 486,\n",
       "         'hard': 485,\n",
       "         'plate': 484,\n",
       "         'ice': 484,\n",
       "         'busy': 483,\n",
       "         'use': 479,\n",
       "         'fan': 477,\n",
       "         'restaurants': 476,\n",
       "         'doesnt': 467,\n",
       "         'isnt': 465,\n",
       "         'looked': 463,\n",
       "         'green': 463,\n",
       "         'oh': 463,\n",
       "         'dining': 463,\n",
       "         'husband': 462,\n",
       "         'local': 461,\n",
       "         'kids': 461,\n",
       "         'reviews': 460,\n",
       "         'chips': 460,\n",
       "         'fantastic': 460,\n",
       "         'let': 458,\n",
       "         'tasted': 455,\n",
       "         'wonderful': 454,\n",
       "         'fish': 454,\n",
       "         'yes': 453,\n",
       "         'close': 451,\n",
       "         'tacos': 449,\n",
       "         'fast': 449,\n",
       "         'live': 448,\n",
       "         'shop': 446,\n",
       "         'wont': 445,\n",
       "         'shrimp': 441,\n",
       "         'week': 440,\n",
       "         'care': 439,\n",
       "         'steak': 439,\n",
       "         'especially': 438,\n",
       "         'valley': 433,\n",
       "         'chocolate': 432,\n",
       "         'customer': 431,\n",
       "         'hours': 431,\n",
       "         'liked': 430,\n",
       "         'stuff': 427,\n",
       "         'overall': 426,\n",
       "         'tables': 423,\n",
       "         'business': 422,\n",
       "         'tell': 415,\n",
       "         'real': 413,\n",
       "         'stop': 413,\n",
       "         'waitress': 412,\n",
       "         'coming': 412,\n",
       "         'quick': 412,\n",
       "         'finally': 410,\n",
       "         'door': 409,\n",
       "         'comes': 408,\n",
       "         'gave': 406,\n",
       "         'trying': 406,\n",
       "         'sit': 406,\n",
       "         'bring': 403,\n",
       "         'guy': 401,\n",
       "         'dessert': 397,\n",
       "         'decor': 396,\n",
       "         'cheap': 394,\n",
       "         'thai': 394,\n",
       "         'disappointed': 393,\n",
       "         'year': 393,\n",
       "         'fact': 391,\n",
       "         'end': 389,\n",
       "         'walk': 386,\n",
       "         'style': 386,\n",
       "         'line': 385,\n",
       "         'called': 383,\n",
       "         'couldnt': 383,\n",
       "         'cooked': 383,\n",
       "         'started': 382,\n",
       "         'theres': 381,\n",
       "         'salsa': 380,\n",
       "         'pay': 380,\n",
       "         'extra': 380,\n",
       "         'walked': 379,\n",
       "         'felt': 375,\n",
       "         'lots': 375,\n",
       "         'waiting': 373,\n",
       "         'brought': 373,\n",
       "         'instead': 371,\n",
       "         'yummy': 370,\n",
       "         'sat': 365,\n",
       "         'deal': 363,\n",
       "         'pm': 362,\n",
       "         'able': 362,\n",
       "         'reason': 362,\n",
       "         'drive': 360,\n",
       "         'tea': 360,\n",
       "         'plus': 360,\n",
       "         'bbq': 358,\n",
       "         'bacon': 358,\n",
       "         'regular': 358,\n",
       "         'money': 358,\n",
       "         'street': 355,\n",
       "         'helpful': 355,\n",
       "         'white': 352,\n",
       "         'today': 351,\n",
       "         'wrong': 347,\n",
       "         'theyre': 346,\n",
       "         'yelp': 344,\n",
       "         'offer': 343,\n",
       "         'car': 342,\n",
       "         'glass': 341,\n",
       "         'return': 340,\n",
       "         'potato': 339,\n",
       "         'okay': 338,\n",
       "         'wife': 337,\n",
       "         'wouldnt': 337,\n",
       "         'guess': 337,\n",
       "         'beans': 337,\n",
       "         'owner': 336,\n",
       "         'group': 336,\n",
       "         'second': 336,\n",
       "         'wish': 334,\n",
       "         'saw': 334,\n",
       "         'help': 334,\n",
       "         'options': 331,\n",
       "         'job': 330,\n",
       "         'person': 330,\n",
       "         'ate': 329,\n",
       "         'highly': 329,\n",
       "         'waiter': 327,\n",
       "         'needed': 327,\n",
       "         'kitchen': 326,\n",
       "         'light': 324,\n",
       "         'ago': 323,\n",
       "         'impressed': 320,\n",
       "         'fine': 318,\n",
       "         'morning': 316,\n",
       "         'seating': 315,\n",
       "         'dog': 315,\n",
       "         'flavors': 315,\n",
       "         'size': 315,\n",
       "         'absolutely': 314,\n",
       "         'sandwiches': 313,\n",
       "         'expect': 313,\n",
       "         'warm': 312,\n",
       "         'hotel': 312,\n",
       "         'rolls': 311,\n",
       "         'gets': 310,\n",
       "         'serve': 310,\n",
       "         'buy': 310,\n",
       "         'easy': 309,\n",
       "         'list': 309,\n",
       "         'roll': 309,\n",
       "         'start': 307,\n",
       "         'party': 304,\n",
       "         'remember': 303,\n",
       "         'point': 303,\n",
       "         'portions': 302,\n",
       "         'pick': 299,\n",
       "         'appetizer': 299,\n",
       "         'later': 298,\n",
       "         'etc': 298,\n",
       "         'type': 298,\n",
       "         'bowl': 297,\n",
       "         'chinese': 297,\n",
       "         'choice': 296,\n",
       "         'making': 296,\n",
       "         'pool': 296,\n",
       "         'perfectly': 294,\n",
       "         'grilled': 294,\n",
       "         'extremely': 293,\n",
       "         'stay': 293,\n",
       "         'days': 291,\n",
       "         'arizona': 291,\n",
       "         'saturday': 290,\n",
       "         'past': 290,\n",
       "         'looks': 289,\n",
       "         'early': 289,\n",
       "         'seen': 288,\n",
       "         'youll': 286,\n",
       "         'mind': 283,\n",
       "         'havent': 282,\n",
       "         'late': 282,\n",
       "         'beautiful': 281,\n",
       "         'variety': 281,\n",
       "         'burgers': 281,\n",
       "         'cold': 280,\n",
       "         'ended': 280,\n",
       "         'mall': 280,\n",
       "         'run': 279,\n",
       "         'plenty': 279,\n",
       "         'average': 279,\n",
       "         'arrived': 278,\n",
       "         'trip': 278,\n",
       "         'reasonable': 278,\n",
       "         'add': 277,\n",
       "         'potatoes': 276,\n",
       "         'friday': 276,\n",
       "         'az': 276,\n",
       "         'guys': 274,\n",
       "         'attentive': 274,\n",
       "         'sitting': 273,\n",
       "         'problem': 273,\n",
       "         'game': 273,\n",
       "         'cake': 271,\n",
       "         'wings': 271,\n",
       "         'hit': 271,\n",
       "         'priced': 271,\n",
       "         'burrito': 271,\n",
       "         'ingredients': 270,\n",
       "         'manager': 270,\n",
       "         'soon': 270,\n",
       "         'seated': 269,\n",
       "         'working': 267,\n",
       "         'leave': 267,\n",
       "         'near': 266,\n",
       "         'tempe': 266,\n",
       "         'dry': 264,\n",
       "         'eaten': 264,\n",
       "         'choose': 263,\n",
       "         'counter': 263,\n",
       "         'park': 262,\n",
       "         'cute': 262,\n",
       "         'heard': 262,\n",
       "         'quickly': 260,\n",
       "         'egg': 260,\n",
       "         'mean': 260,\n",
       "         'seriously': 260,\n",
       "         'butter': 259,\n",
       "         'bite': 259,\n",
       "         'sunday': 258,\n",
       "         'packed': 257,\n",
       "         'french': 255,\n",
       "         'beers': 255,\n",
       "         'downtown': 254,\n",
       "         'believe': 254,\n",
       "         'pasta': 252,\n",
       "         'short': 250,\n",
       "         'comfortable': 249,\n",
       "         'date': 248,\n",
       "         'bill': 247,\n",
       "         'unique': 247,\n",
       "         'customers': 247,\n",
       "         'crust': 247,\n",
       "         'surprised': 246,\n",
       "         'waited': 245,\n",
       "         'set': 245,\n",
       "         'shopping': 244,\n",
       "         'stopped': 244,\n",
       "         'watch': 244,\n",
       "         'read': 243,\n",
       "         'cut': 243,\n",
       "         'twice': 242,\n",
       "         'ready': 242,\n",
       "         'main': 241,\n",
       "         'expensive': 240,\n",
       "         'ones': 239,\n",
       "         'totally': 238,\n",
       "         'given': 238,\n",
       "         'ambiance': 237,\n",
       "         'weekend': 237,\n",
       "         'tomato': 236,\n",
       "         'italian': 236,\n",
       "         'eggs': 235,\n",
       "         'garlic': 235,\n",
       "         'slow': 235,\n",
       "         'crowd': 235,\n",
       "         'th': 234,\n",
       "         'taco': 234,\n",
       "         'evening': 233,\n",
       "         'specials': 233,\n",
       "         'onion': 231,\n",
       "         'man': 230,\n",
       "         'crispy': 230,\n",
       "         'glad': 229,\n",
       "         'neighborhood': 229,\n",
       "         'corn': 229,\n",
       "         'life': 228,\n",
       "         'salads': 227,\n",
       "         'space': 226,\n",
       "         'authentic': 226,\n",
       "         'hand': 226,\n",
       "         'knew': 225,\n",
       "         'rest': 224,\n",
       "         'pho': 224,\n",
       "         'walking': 221,\n",
       "         'head': 221,\n",
       "         'ordering': 221,\n",
       "         'girl': 220,\n",
       "         'gone': 220,\n",
       "         'available': 220,\n",
       "         'offered': 220,\n",
       "         'simple': 220,\n",
       "         'tip': 219,\n",
       "         'entire': 219,\n",
       "         'flavorful': 219,\n",
       "         'chef': 218,\n",
       "         'employees': 218,\n",
       "         'market': 217,\n",
       "         'completely': 217,\n",
       "         'chain': 216,\n",
       "         'taking': 215,\n",
       "         'hope': 214,\n",
       "         'kept': 214,\n",
       "         'black': 212,\n",
       "         'recently': 211,\n",
       "         'spend': 211,\n",
       "         'feeling': 210,\n",
       "         'arent': 210,\n",
       "         'onions': 210,\n",
       "         'mom': 210,\n",
       "         'idea': 209,\n",
       "         'months': 209,\n",
       "         'choices': 208,\n",
       "         'sausage': 208,\n",
       "         'expected': 208,\n",
       "         'school': 208,\n",
       "         'cup': 208,\n",
       "         'portion': 206,\n",
       "         'charge': 206,\n",
       "         'located': 205,\n",
       "         'entrees': 205,\n",
       "         'including': 205,\n",
       "         'card': 205,\n",
       "         'wow': 205,\n",
       "         'typical': 205,\n",
       "         'center': 205,\n",
       "         'needs': 203,\n",
       "         'bland': 203,\n",
       "         'plates': 203,\n",
       "         'appetizers': 203,\n",
       "         'servers': 203,\n",
       "         'werent': 202,\n",
       "         'bottle': 202,\n",
       "         'change': 202,\n",
       "         'loud': 200,\n",
       "         'joint': 200,\n",
       "         'sort': 200,\n",
       "         'tastes': 200,\n",
       "         'unfortunately': 198,\n",
       "         'toppings': 197,\n",
       "         'interesting': 197,\n",
       "         'miss': 197,\n",
       "         'cost': 197,\n",
       "         'curry': 195,\n",
       "         'moved': 195,\n",
       "         'mixed': 195,\n",
       "         'hands': 195,\n",
       "         'birthday': 194,\n",
       "         'pieces': 194,\n",
       "         'veggies': 194,\n",
       "         'noodles': 194,\n",
       "         'office': 194,\n",
       "         'hungry': 192,\n",
       "         'club': 192,\n",
       "         'filled': 192,\n",
       "         'bartender': 191,\n",
       "         'saying': 191,\n",
       "         'dark': 191,\n",
       "         'bucks': 191,\n",
       "         'noticed': 190,\n",
       "         'hair': 190,\n",
       "         'crowded': 189,\n",
       "         'desert': 189,\n",
       "         'opened': 189,\n",
       "         'excited': 189,\n",
       "         'world': 189,\n",
       "         'hate': 189,\n",
       "         'giving': 189,\n",
       "         'meals': 188,\n",
       "         'lettuce': 188,\n",
       "         'kinda': 188,\n",
       "         'thanks': 187,\n",
       "         'afternoon': 186,\n",
       "         'oil': 186,\n",
       "         'salmon': 185,\n",
       "         'exactly': 184,\n",
       "         'veggie': 184,\n",
       "         'asian': 183,\n",
       "         'soft': 183,\n",
       "         'spring': 183,\n",
       "         'grill': 183,\n",
       "         'play': 182,\n",
       "         'tender': 182,\n",
       "         'number': 182,\n",
       "         'pleasant': 181,\n",
       "         'pricey': 181,\n",
       "         'owners': 181,\n",
       "         'grab': 181,\n",
       "         'understand': 180,\n",
       "         'dressing': 180,\n",
       "         'toast': 179,\n",
       "         'foods': 179,\n",
       "         'event': 179,\n",
       "         'thank': 178,\n",
       "         'wall': 178,\n",
       "         'chance': 178,\n",
       "         'note': 178,\n",
       "         'sides': 177,\n",
       "         'mouth': 177,\n",
       "         'yeah': 176,\n",
       "         'prepared': 176,\n",
       "         'homemade': 175,\n",
       "         'stand': 175,\n",
       "         'outdoor': 175,\n",
       "         'case': 174,\n",
       "         'mac': 174,\n",
       "         'company': 174,\n",
       "         'phone': 174,\n",
       "         'talk': 174,\n",
       "         'truly': 174,\n",
       "         'frozen': 174,\n",
       "         'w': 173,\n",
       "         'simply': 172,\n",
       "         'sign': 172,\n",
       "         'weeks': 172,\n",
       "         'forward': 172,\n",
       "         'tuna': 172,\n",
       "         'greasy': 172,\n",
       "         'goes': 171,\n",
       "         'longer': 171,\n",
       "         'low': 171,\n",
       "         'cafe': 171,\n",
       "         'entree': 170,\n",
       "         'single': 170,\n",
       "         'item': 170,\n",
       "         'ribs': 169,\n",
       "         'summer': 169,\n",
       "         'based': 169,\n",
       "         'sports': 169,\n",
       "         'healthy': 168,\n",
       "         'true': 168,\n",
       "         'piece': 168,\n",
       "         'watching': 168,\n",
       "         'fabulous': 167,\n",
       "         'movie': 167,\n",
       "         'dirty': 167,\n",
       "         'spinach': 167,\n",
       "         'received': 166,\n",
       "         'tomatoes': 166,\n",
       "         'city': 166,\n",
       "         'stores': 166,\n",
       "         'closed': 166,\n",
       "         'crab': 166,\n",
       "         'value': 165,\n",
       "         'literally': 165,\n",
       "         'blue': 165,\n",
       "         'strip': 165,\n",
       "         'lady': 164,\n",
       "         'mix': 164,\n",
       "         'yum': 164,\n",
       "         'dip': 164,\n",
       "         'tiny': 164,\n",
       "         'buffet': 164,\n",
       "         'fairly': 163,\n",
       "         'orange': 163,\n",
       "         'recommended': 163,\n",
       "         'finish': 163,\n",
       "         'bag': 163,\n",
       "         'view': 163,\n",
       "         'vegetarian': 162,\n",
       "         'la': 162,\n",
       "         'serving': 162,\n",
       "         'spent': 162,\n",
       "         'thin': 161,\n",
       "         'fair': 161,\n",
       "         'share': 160,\n",
       "         'added': 160,\n",
       "         'takes': 160,\n",
       "         'slightly': 159,\n",
       "         'immediately': 159,\n",
       "         'bought': 159,\n",
       "         'craving': 159,\n",
       "         'fruit': 158,\n",
       "         'casual': 158,\n",
       "         'taken': 158,\n",
       "         'boyfriend': 158,\n",
       "         'stuffed': 158,\n",
       "         'pita': 158,\n",
       "         'shared': 157,\n",
       "         'playing': 157,\n",
       "         'roasted': 157,\n",
       "         'prefer': 157,\n",
       "         'floor': 157,\n",
       "         'horrible': 157,\n",
       "         'box': 156,\n",
       "         'middle': 156,\n",
       "         'lived': 156,\n",
       "         'hear': 156,\n",
       "         'paying': 156,\n",
       "         'dogs': 155,\n",
       "         'pie': 155,\n",
       "         'worst': 155,\n",
       "         'sorry': 155,\n",
       "         'weve': 155,\n",
       "         'total': 155,\n",
       "         'sauces': 154,\n",
       "         'chili': 154,\n",
       "         'tasting': 153,\n",
       "         'thinking': 153,\n",
       "         'paid': 153,\n",
       "         'filling': 153,\n",
       "         'iced': 153,\n",
       "         'seat': 152,\n",
       "         'finished': 152,\n",
       "         'girls': 152,\n",
       "         'lets': 152,\n",
       "         'split': 152,\n",
       "         'pizzas': 152,\n",
       "         'month': 152,\n",
       "         'youve': 151,\n",
       "         'talking': 151,\n",
       "         'heat': 151,\n",
       "         'says': 151,\n",
       "         'easily': 151,\n",
       "         'dr': 151,\n",
       "         'orders': 150,\n",
       "         'art': 150,\n",
       "         'young': 150,\n",
       "         'attention': 150,\n",
       "         'slices': 149,\n",
       "         'corner': 149,\n",
       "         'face': 149,\n",
       "         'weird': 149,\n",
       "         'cook': 149,\n",
       "         'tons': 148,\n",
       "         'certainly': 148,\n",
       "         'turkey': 148,\n",
       "         'lovely': 148,\n",
       "         'crazy': 147,\n",
       "         'stayed': 147,\n",
       "         'brunch': 146,\n",
       "         'hang': 146,\n",
       "         'seafood': 146,\n",
       "         'seats': 146,\n",
       "         'vibe': 145,\n",
       "         'option': 145,\n",
       "         'book': 145,\n",
       "         'terrible': 145,\n",
       "         'carne': 145,\n",
       "         'beat': 144,\n",
       "         'greeted': 144,\n",
       "         'mention': 143,\n",
       "         'works': 143,\n",
       "         'normally': 143,\n",
       "         'section': 143,\n",
       "         'rooms': 142,\n",
       "         'combo': 142,\n",
       "         'standard': 142,\n",
       "         'shot': 142,\n",
       "         'treat': 141,\n",
       "         'worked': 141,\n",
       "         'mood': 141,\n",
       "         'forget': 141,\n",
       "         'airport': 141,\n",
       "         'poor': 141,\n",
       "         'word': 141,\n",
       "         'baked': 140,\n",
       "         'building': 140,\n",
       "         'damn': 140,\n",
       "         'minute': 140,\n",
       "         'write': 140,\n",
       "         'north': 139,\n",
       "         'pass': 139,\n",
       "         'donuts': 139,\n",
       "         'salt': 138,\n",
       "         'rude': 138,\n",
       "         'pulled': 138,\n",
       "         'personal': 137,\n",
       "         'peppers': 137,\n",
       "         'plan': 137,\n",
       "         'overpriced': 137,\n",
       "         'picked': 137,\n",
       "         'bean': 137,\n",
       "         'honestly': 137,\n",
       "         'mushrooms': 137,\n",
       "         'folks': 136,\n",
       "         'means': 136,\n",
       "         'solid': 135,\n",
       "         'seeing': 135,\n",
       "         'sour': 135,\n",
       "         'matter': 135,\n",
       "         'daughter': 135,\n",
       "         'east': 135,\n",
       "         'traditional': 135,\n",
       "         'salty': 134,\n",
       "         'opinion': 134,\n",
       "         'sad': 134,\n",
       "         'hummus': 134,\n",
       "         'cash': 133,\n",
       "         'tortilla': 133,\n",
       "         'slice': 133,\n",
       "         'met': 132,\n",
       "         'soda': 132,\n",
       "         'thick': 132,\n",
       "         'turned': 132,\n",
       "         'reasonably': 132,\n",
       "         'die': 132,\n",
       "         'games': 132,\n",
       "         'drinking': 132,\n",
       "         'eye': 131,\n",
       "         'professional': 131,\n",
       "         'bars': 131,\n",
       "         'reading': 131,\n",
       "         'visiting': 131,\n",
       "         'touch': 131,\n",
       "         'coupon': 131,\n",
       "         'lack': 131,\n",
       "         'visited': 131,\n",
       "         'baby': 130,\n",
       "         'nearly': 130,\n",
       "         'original': 130,\n",
       "         'usual': 130,\n",
       "         'nights': 130,\n",
       "         'american': 130,\n",
       "         'grocery': 130,\n",
       "         'locations': 130,\n",
       "         'medium': 129,\n",
       "         'yogurt': 129,\n",
       "         'st': 129,\n",
       "         'resort': 129,\n",
       "         'smell': 128,\n",
       "         'bunch': 128,\n",
       "         'suggest': 128,\n",
       "         'level': 128,\n",
       "         'apparently': 127,\n",
       "         'chandler': 127,\n",
       "         'creamy': 127,\n",
       "         'starbucks': 127,\n",
       "         'considering': 127,\n",
       "         'appreciate': 127,\n",
       "         'basically': 126,\n",
       "         'basil': 126,\n",
       "         'lost': 126,\n",
       "         'rich': 126,\n",
       "         'guacamole': 126,\n",
       "         'olive': 126,\n",
       "         'issue': 126,\n",
       "         'pancakes': 125,\n",
       "         'bathroom': 125,\n",
       "         'honey': 124,\n",
       "         'outstanding': 124,\n",
       "         'lemon': 124,\n",
       "         'normal': 124,\n",
       "         'meats': 124,\n",
       "         'rock': 124,\n",
       "         'mediocre': 124,\n",
       "         'asada': 124,\n",
       "         'cookies': 123,\n",
       "         'sound': 123,\n",
       "         'products': 123,\n",
       "         'chairs': 123,\n",
       "         'margaritas': 123,\n",
       "         'combination': 123,\n",
       "         'included': 123,\n",
       "         'supposed': 123,\n",
       "         'patrons': 123,\n",
       "         'ton': 123,\n",
       "         'happened': 122,\n",
       "         'pepper': 122,\n",
       "         'sugar': 122,\n",
       "         'fancy': 122,\n",
       "         'central': 122,\n",
       "         'training': 122,\n",
       "         'peanut': 122,\n",
       "         'stick': 121,\n",
       "         'crisp': 120,\n",
       "         'limited': 120,\n",
       "         'chose': 120,\n",
       "         'checked': 120,\n",
       "         'addition': 120,\n",
       "         'sell': 120,\n",
       "         'milk': 120,\n",
       "         'surprise': 120,\n",
       "         'indian': 120,\n",
       "         'paper': 120,\n",
       "         'lamb': 119,\n",
       "         'helped': 119,\n",
       "         'tap': 119,\n",
       "         'fat': 119,\n",
       "         'somewhat': 119,\n",
       "         'heavy': 119,\n",
       "         'brown': 119,\n",
       "         'cookie': 118,\n",
       "         'running': 118,\n",
       "         'bun': 118,\n",
       "         'complaint': 118,\n",
       "         'hostess': 118,\n",
       "         'flat': 118,\n",
       "         'seasoned': 117,\n",
       "         'n': 117,\n",
       "         'favorites': 117,\n",
       "         'interior': 117,\n",
       "         'kid': 117,\n",
       "         'hell': 117,\n",
       "         'tvs': 117,\n",
       "         'knows': 117,\n",
       "         'vegan': 117,\n",
       "         'vanilla': 117,\n",
       "         'modern': 117,\n",
       "         'vegetables': 116,\n",
       "         'changed': 116,\n",
       "         'asking': 116,\n",
       "         'gym': 116,\n",
       "         'classic': 116,\n",
       "         'spa': 116,\n",
       "         'margarita': 116,\n",
       "         'kick': 115,\n",
       "         'whats': 115,\n",
       "         'glasses': 115,\n",
       "         'loves': 115,\n",
       "         'particular': 115,\n",
       "         'mill': 115,\n",
       "         'vietnamese': 114,\n",
       "         'ahead': 114,\n",
       "         'lucky': 114,\n",
       "         'bartenders': 114,\n",
       "         'gotten': 113,\n",
       "         'agree': 113,\n",
       "         'theater': 113,\n",
       "         'massage': 113,\n",
       "         'generally': 112,\n",
       "         'son': 112,\n",
       "         'meet': 112,\n",
       "         'rating': 112,\n",
       "         'establishment': 112,\n",
       "         'living': 112,\n",
       "         'min': 111,\n",
       "         'online': 111,\n",
       "         'carry': 111,\n",
       "         'pleased': 111,\n",
       "         'ranch': 111,\n",
       "         'fix': 111,\n",
       "         'covered': 111,\n",
       "         'walls': 110,\n",
       "         'quiet': 110,\n",
       "         'expecting': 110,\n",
       "         'known': 110,\n",
       "         'daily': 110,\n",
       "         'purchase': 110,\n",
       "         'strong': 110,\n",
       "         'rare': 109,\n",
       "         'turn': 109,\n",
       "         'opening': 109,\n",
       "         'smaller': 109,\n",
       "         'bruschetta': 109,\n",
       "         'desserts': 109,\n",
       "         'offers': 109,\n",
       "         'bell': 109,\n",
       "         'youd': 109,\n",
       "         'theyve': 108,\n",
       "         'topped': 108,\n",
       "         'showed': 108,\n",
       "         'sample': 108,\n",
       "         'cheaper': 108,\n",
       "         'bed': 108,\n",
       "         'class': 108,\n",
       "         'organic': 107,\n",
       "         'tv': 107,\n",
       "         'road': 107,\n",
       "         'west': 107,\n",
       "         'cozy': 107,\n",
       "         'generous': 107,\n",
       "         'forgot': 106,\n",
       "         'incredibly': 106,\n",
       "         'spice': 106,\n",
       "         'delish': 106,\n",
       "         'lobster': 106,\n",
       "         'leaving': 106,\n",
       "         'heaven': 106,\n",
       "         'awful': 106,\n",
       "         'avoid': 105,\n",
       "         'conversation': 105,\n",
       "         'oz': 105,\n",
       "         'website': 105,\n",
       "         'sun': 105,\n",
       "         'similar': 105,\n",
       "         'break': 105,\n",
       "         'obviously': 105,\n",
       "         'incredible': 105,\n",
       "         'mentioned': 105,\n",
       "         'admit': 105,\n",
       "         'classes': 105,\n",
       "         'plain': 105,\n",
       "         'dollar': 104,\n",
       "         'fit': 104,\n",
       "         'worse': 104,\n",
       "         'greek': 104,\n",
       "         'wash': 104,\n",
       "         'hey': 103,\n",
       "         'missing': 103,\n",
       "         'consistently': 103,\n",
       "         'wide': 103,\n",
       "         'weekends': 103,\n",
       "         'checking': 103,\n",
       "         'college': 103,\n",
       "         'complete': 102,\n",
       "         'speak': 102,\n",
       "         'driving': 102,\n",
       "         'difficult': 102,\n",
       "         'hubby': 102,\n",
       "         'juicy': 102,\n",
       "         'delivery': 102,\n",
       "         'sale': 102,\n",
       "         'menus': 102,\n",
       "         'tofu': 102,\n",
       "         'mini': 102,\n",
       "         'strange': 102,\n",
       "         'save': 102,\n",
       "         'south': 102,\n",
       "         'questions': 102,\n",
       "         'barely': 102,\n",
       "         'mess': 102,\n",
       "         'previous': 102,\n",
       "         'straight': 102,\n",
       "         'forever': 101,\n",
       "         ...})"
      ]
     },
     "execution_count": 111,
     "metadata": {},
     "output_type": "execute_result"
    }
   ],
   "source": [
    "Counter(sf2.split())"
   ]
  },
  {
   "cell_type": "code",
   "execution_count": 112,
   "id": "a82f97d0-e5a8-4cff-962f-d91863d95718",
   "metadata": {},
   "outputs": [],
   "source": [
    "data = Counter(sf2.split()).most_common(30)"
   ]
  },
  {
   "cell_type": "code",
   "execution_count": 113,
   "id": "c1c724e4-22cd-4178-b698-1b23482d6a04",
   "metadata": {},
   "outputs": [],
   "source": [
    "data = dict(data)"
   ]
  },
  {
   "cell_type": "code",
   "execution_count": 114,
   "id": "c025316e-2330-4cb6-aa80-da9c2a1e7458",
   "metadata": {},
   "outputs": [
    {
     "data": {
      "text/plain": [
       "{'place': 6544,\n",
       " 'good': 6507,\n",
       " 'food': 5930,\n",
       " 'great': 4945,\n",
       " 'like': 4934,\n",
       " 'time': 3371,\n",
       " 'service': 2969,\n",
       " 'dont': 2566,\n",
       " 'love': 2212,\n",
       " 'little': 2212,\n",
       " 'im': 2179,\n",
       " 'nice': 2156,\n",
       " 'ive': 2034,\n",
       " 'best': 1914,\n",
       " 'got': 1823,\n",
       " 'pretty': 1796,\n",
       " 'ordered': 1689,\n",
       " 'chicken': 1686,\n",
       " 'try': 1678,\n",
       " 'restaurant': 1659,\n",
       " 'didnt': 1641,\n",
       " 'people': 1622,\n",
       " 'menu': 1614,\n",
       " 'know': 1576,\n",
       " 'order': 1546,\n",
       " 'think': 1541,\n",
       " 'bar': 1505,\n",
       " 'better': 1488,\n",
       " 'went': 1485,\n",
       " 'friendly': 1447}"
      ]
     },
     "execution_count": 114,
     "metadata": {},
     "output_type": "execute_result"
    }
   ],
   "source": [
    "data"
   ]
  },
  {
   "cell_type": "markdown",
   "id": "22372dc0-c0e3-422f-8eb2-41d82bbdf33d",
   "metadata": {},
   "source": [
    "# NLP with NeatText"
   ]
  },
  {
   "cell_type": "code",
   "execution_count": 116,
   "id": "e39219b6-851f-4e96-b109-6ec5406533fa",
   "metadata": {},
   "outputs": [],
   "source": [
    "#pip install neattext"
   ]
  },
  {
   "cell_type": "code",
   "execution_count": 117,
   "id": "220b961c-25e4-4003-861c-f32d446444f0",
   "metadata": {},
   "outputs": [],
   "source": [
    "import neattext.functions as nfx\n",
    "import matplotlib.pyplot as plt\n",
    "import seaborn as sns"
   ]
  },
  {
   "cell_type": "code",
   "execution_count": 118,
   "id": "56492e91-c546-4b39-a396-f08db9f303f5",
   "metadata": {},
   "outputs": [
    {
     "data": {
      "image/png": "[encoded data removed]",
      "text/plain": [
       "<Figure size 1200x800 with 1 Axes>"
      ]
     },
     "metadata": {},
     "output_type": "display_data"
    }
   ],
   "source": [
    "plt.figure(figsize=(12,8))\n",
    "plt.bar(data.keys(), data.values())\n",
    "plt.xticks(rotation=90);"
   ]
  },
  {
   "cell_type": "code",
   "execution_count": 119,
   "id": "1f5992c6-03f4-46d1-954c-ef5d48fc7f10",
   "metadata": {},
   "outputs": [
    {
     "data": {
      "image/png": "[encoded data removed]",
      "text/plain": [
       "<Figure size 1200x800 with 1 Axes>"
      ]
     },
     "metadata": {},
     "output_type": "display_data"
    }
   ],
   "source": [
    "plt.figure(figsize=(12,8))\n",
    "sns.barplot(x= data.keys(),y= data.values(), hue = data.keys())\n",
    "plt.xticks(rotation=90);"
   ]
  },
  {
   "cell_type": "code",
   "execution_count": 120,
   "id": "9adff3de-d109-4deb-821f-7fe7760866f6",
   "metadata": {},
   "outputs": [],
   "source": [
    "df['text'] = df['text'].apply(lambda x: nfx.clean_text(x))"
   ]
  },
  {
   "cell_type": "code",
   "execution_count": 121,
   "id": "c69d288d-2009-4cd3-9c5b-35afab00eda7",
   "metadata": {},
   "outputs": [],
   "source": [
    "df['text'] = df['text'].apply(lambda x: nfx.normalize(x))"
   ]
  },
  {
   "cell_type": "code",
   "execution_count": 122,
   "id": "a3abadaf-4a57-442a-8c41-43b813c5050a",
   "metadata": {},
   "outputs": [
    {
     "data": {
      "text/plain": [
       "'wife took birthday breakfast excellent weather perfect sitting outside overlooking grounds absolute pleasure waitress excellent food arrived quickly semibusy saturday morning looked like place fills pretty quickly earlier betterdo favor bloody mary phenomenal simply best ive im pretty sure use ingredients garden blend fresh order amazingwhile menu looks excellent white truffle scrambled eggs vegetable skillet tasty delicious came pieces griddled bread amazing absolutely meal complete best toast ive hadanyway cant wait'"
      ]
     },
     "execution_count": 122,
     "metadata": {},
     "output_type": "execute_result"
    }
   ],
   "source": [
    "df['text'][0]"
   ]
  },
  {
   "cell_type": "code",
   "execution_count": 123,
   "id": "0de04814-a71c-4b32-867a-e2f02240d114",
   "metadata": {},
   "outputs": [],
   "source": [
    "def kokbul(text):\n",
    "    words=TextBlob(text).words\n",
    "    return [word.stem() for word in words]"
   ]
  },
  {
   "cell_type": "code",
   "execution_count": 124,
   "id": "a3d584c6-9aec-4bdb-b4c5-8990d2b51817",
   "metadata": {},
   "outputs": [],
   "source": [
    "cumle='We loves NLP, working hard , making dedication and commintment'"
   ]
  },
  {
   "cell_type": "code",
   "execution_count": 125,
   "id": "b5345e2c-a04e-40b0-9613-270d526b3644",
   "metadata": {},
   "outputs": [
    {
     "data": {
      "text/plain": [
       "WordList(['We', 'loves', 'NLP', 'working', 'hard', 'making', 'dedication', 'and', 'commintment'])"
      ]
     },
     "execution_count": 125,
     "metadata": {},
     "output_type": "execute_result"
    }
   ],
   "source": [
    "TextBlob(cumle).words # tokenize etti, kelimeleri verir"
   ]
  },
  {
   "cell_type": "code",
   "execution_count": 126,
   "id": "9de1e421-c1ef-4365-8c1b-e0c078c81540",
   "metadata": {},
   "outputs": [
    {
     "data": {
      "text/plain": [
       "[Sentence(\"We loves NLP, working hard , making dedication and commintment\")]"
      ]
     },
     "execution_count": 126,
     "metadata": {},
     "output_type": "execute_result"
    }
   ],
   "source": [
    "TextBlob(cumle).sentences #cumleleri verir"
   ]
  },
  {
   "cell_type": "code",
   "execution_count": 127,
   "id": "7ab3bcf5-53e5-4ada-afba-072ab779549a",
   "metadata": {},
   "outputs": [
    {
     "data": {
      "text/plain": [
       "['we', 'love', 'nlp', 'work', 'hard', 'make', 'dedic', 'and', 'commint']"
      ]
     },
     "execution_count": 127,
     "metadata": {},
     "output_type": "execute_result"
    }
   ],
   "source": [
    "[word.stem() for word in TextBlob(cumle).words] #stem=> kok buluyor"
   ]
  },
  {
   "cell_type": "code",
   "execution_count": 128,
   "id": "2c1be03c-5ae8-469a-b54c-4e246bd633c6",
   "metadata": {},
   "outputs": [
    {
     "data": {
      "text/plain": [
       "['we', 'love', 'nlp', 'work', 'hard', 'make', 'dedic', 'and', 'commint']"
      ]
     },
     "execution_count": 128,
     "metadata": {},
     "output_type": "execute_result"
    }
   ],
   "source": [
    "kokbul(cumle)"
   ]
  },
  {
   "cell_type": "code",
   "execution_count": 129,
   "id": "392c01ef-9375-47d1-8656-df9a0a20d3df",
   "metadata": {},
   "outputs": [
    {
     "name": "stdout",
     "output_type": "stream",
     "text": [
      "wife took birthday breakfast excellent weather perfect sitting outside overlooking grounds absolute pleasure waitress excellent food arrived quickly semibusy saturday morning looked like place fills pretty quickly earlier betterdo favor bloody mary phenomenal simply best ive im pretty sure use ingredients garden blend fresh order amazingwhile menu looks excellent white truffle scrambled eggs vegetable skillet tasty delicious came pieces griddled bread amazing absolutely meal complete best toast ive hadanyway cant wait\n"
     ]
    }
   ],
   "source": [
    "print(df.text[0])"
   ]
  },
  {
   "cell_type": "code",
   "execution_count": 130,
   "id": "a044f9dd-2201-4bd6-ba3f-c3d6669cbaf1",
   "metadata": {},
   "outputs": [],
   "source": [
    "# remove stop words\n",
    "df['text']=df['text'].apply(lambda x: nfx.remove_stopwords(x))"
   ]
  },
  {
   "cell_type": "code",
   "execution_count": 131,
   "id": "78b5df70-1028-4842-98e0-e23f3abde2b0",
   "metadata": {},
   "outputs": [],
   "source": [
    "ybw=df[(df.stars==1) | (df.stars==5)]"
   ]
  },
  {
   "cell_type": "code",
   "execution_count": 132,
   "id": "bab1dd94-3005-43d9-9ea5-857f15a59e5f",
   "metadata": {},
   "outputs": [],
   "source": [
    "ybw.reset_index(drop=True,inplace=True)"
   ]
  },
  {
   "cell_type": "code",
   "execution_count": 133,
   "id": "7467ac79-9572-497e-b303-d7ef4af7c6ac",
   "metadata": {},
   "outputs": [],
   "source": [
    "x = ybw[['text']]\n",
    "y = ybw[['stars']]"
   ]
  },
  {
   "cell_type": "code",
   "execution_count": 134,
   "id": "fa353602-ac8b-4235-b3da-73a855ed5720",
   "metadata": {},
   "outputs": [],
   "source": [
    "# tekrar birlestirme, join ile yapilabilir ya da 2. secenek olarak\n",
    "vect=CountVectorizer(analyzer=kokbul,ngram_range=(1,2)) # konuyu anlamak icin 2 veya 3 kelime geriye gitmek, sadece 3 olucaksa (3,3) olmasi lazim"
   ]
  },
  {
   "cell_type": "code",
   "execution_count": 135,
   "id": "08ba4a0b-a5f1-4743-b3a6-5d1264dd3a6a",
   "metadata": {},
   "outputs": [
    {
     "name": "stderr",
     "output_type": "stream",
     "text": [
      "C:\\Users\\ckili\\anaconda3\\Lib\\site-packages\\sklearn\\feature_extraction\\text.py:541: UserWarning: The parameter 'ngram_range' will not be used since 'analyzer' is callable'\n",
      "  warnings.warn(\n"
     ]
    }
   ],
   "source": [
    "x_new=vect.fit_transform(x['text'])"
   ]
  },
  {
   "cell_type": "code",
   "execution_count": 136,
   "id": "8d96ec71-3110-4d29-b25e-b2d9afa89886",
   "metadata": {},
   "outputs": [
    {
     "data": {
      "text/plain": [
       "array(['aa', 'aaa', 'aaaamazingthey', 'aaammmazzingit', 'aaron', 'aathi',\n",
       "       'ab', 'aback', 'abandon', 'abbazabba', 'abbi', 'abbrevi', 'abc',\n",
       "       'abdomen', 'abhor', 'abid', 'abil', 'abilti', 'abl', 'abodoba',\n",
       "       'abou', 'abound', 'aboutharu', 'abouthow', 'abouti', 'aboutim',\n",
       "       'aboutno', 'aboutseri', 'aboutth', 'aboutthi', 'abovebefor',\n",
       "       'abovehav', 'aboveshort', 'abras', 'abroad', 'abrupt', 'absenc',\n",
       "       'absent', 'absinth', 'absolout', 'absolut', 'absolutley',\n",
       "       'absolutli', 'absorb', 'absorpt', 'abstain', 'abstract', 'absurd',\n",
       "       'abuelo', 'abuelosit'], dtype=object)"
      ]
     },
     "execution_count": 136,
     "metadata": {},
     "output_type": "execute_result"
    }
   ],
   "source": [
    "vect.get_feature_names_out()[:50]"
   ]
  },
  {
   "cell_type": "code",
   "execution_count": 137,
   "id": "c3486511-8380-456e-b7dd-733fbedc75f7",
   "metadata": {},
   "outputs": [],
   "source": [
    "x_train, x_test, y_train,y_test = train_test_split(x_new, y, random_state=42,test_size=.20)"
   ]
  },
  {
   "cell_type": "code",
   "execution_count": 138,
   "id": "b8fdee37-0854-49d3-b402-1f59905d84ed",
   "metadata": {},
   "outputs": [
    {
     "name": "stderr",
     "output_type": "stream",
     "text": [
      "C:\\Users\\ckili\\anaconda3\\Lib\\site-packages\\sklearn\\utils\\validation.py:1300: DataConversionWarning: A column-vector y was passed when a 1d array was expected. Please change the shape of y to (n_samples, ), for example using ravel().\n",
      "  y = column_or_1d(y, warn=True)\n"
     ]
    },
    {
     "data": {
      "text/plain": [
       "0.8973105134474327"
      ]
     },
     "execution_count": 138,
     "metadata": {},
     "output_type": "execute_result"
    }
   ],
   "source": [
    "nb=MultinomialNB()\n",
    "model=nb.fit(x_train,y_train)\n",
    "pred=model.predict(x_test)\n",
    "accuracy_score(y_test,pred)"
   ]
  },
  {
   "cell_type": "markdown",
   "id": "e1ce7a18-f2ec-4be1-815d-5e2a8ec3a14c",
   "metadata": {},
   "source": [
    "### Fetch data directly from Twitter and cleaning"
   ]
  },
  {
   "cell_type": "code",
   "execution_count": 140,
   "id": "efc52f5e-5e3a-4053-b8d0-f1db20fd56d6",
   "metadata": {},
   "outputs": [],
   "source": [
    "#pip install ntscraper"
   ]
  },
  {
   "cell_type": "code",
   "execution_count": 141,
   "id": "808e67cb-dda3-4b9b-80c4-f01ded6692d0",
   "metadata": {},
   "outputs": [],
   "source": [
    "from ntscraper import Nitter\n",
    "import pandas as pd"
   ]
  },
  {
   "cell_type": "code",
   "execution_count": 142,
   "id": "1eb0fd70-e856-4db0-a0b8-5108ce0ff938",
   "metadata": {},
   "outputs": [
    {
     "name": "stderr",
     "output_type": "stream",
     "text": [
      "Testing instances: 100%|███████████████████████████████████████████████████████████████| 16/16 [00:10<00:00,  1.56it/s]\n"
     ]
    }
   ],
   "source": [
    "ts = Nitter()"
   ]
  },
  {
   "cell_type": "code",
   "execution_count": 143,
   "id": "a37287ff-1dcf-4e7a-92c9-2cc3492ef105",
   "metadata": {},
   "outputs": [
    {
     "name": "stderr",
     "output_type": "stream",
     "text": [
      "Testing instances: 100%|███████████████████████████████████████████████████████████████| 16/16 [00:11<00:00,  1.40it/s]"
     ]
    },
    {
     "name": "stdout",
     "output_type": "stream",
     "text": [
      "10-Nov-24 21:13:37 - No instance specified, using random instance https://nitter.privacydev.net\n"
     ]
    },
    {
     "name": "stderr",
     "output_type": "stream",
     "text": [
      "\n"
     ]
    },
    {
     "name": "stdout",
     "output_type": "stream",
     "text": [
      "10-Nov-24 21:13:42 - Current stats for elonmusk: 21 tweets, 0 threads...\n",
      "10-Nov-24 21:13:43 - Empty page on https://nitter.privacydev.net\n"
     ]
    }
   ],
   "source": [
    "tweets = Nitter().get_tweets('elonmusk',mode='user',number=50)"
   ]
  },
  {
   "cell_type": "code",
   "execution_count": 144,
   "id": "7d187027-cbf2-49bd-bf6f-093c2fce5204",
   "metadata": {},
   "outputs": [],
   "source": [
    "df=pd.DataFrame(tweets['tweets'])"
   ]
  },
  {
   "cell_type": "code",
   "execution_count": 145,
   "id": "91894a23-60b3-42e8-884b-1ebfb31457b6",
   "metadata": {},
   "outputs": [
    {
     "data": {
      "text/html": [
       "<div>\n",
       "<style scoped>\n",
       "    .dataframe tbody tr th:only-of-type {\n",
       "        vertical-align: middle;\n",
       "    }\n",
       "\n",
       "    .dataframe tbody tr th {\n",
       "        vertical-align: top;\n",
       "    }\n",
       "\n",
       "    .dataframe thead th {\n",
       "        text-align: right;\n",
       "    }\n",
       "</style>\n",
       "<table border=\"1\" class=\"dataframe\">\n",
       "  <thead>\n",
       "    <tr style=\"text-align: right;\">\n",
       "      <th></th>\n",
       "      <th>link</th>\n",
       "      <th>text</th>\n",
       "      <th>user</th>\n",
       "      <th>date</th>\n",
       "      <th>is-retweet</th>\n",
       "      <th>is-pinned</th>\n",
       "      <th>external-link</th>\n",
       "      <th>replying-to</th>\n",
       "      <th>quoted-post</th>\n",
       "      <th>stats</th>\n",
       "      <th>pictures</th>\n",
       "      <th>videos</th>\n",
       "      <th>gifs</th>\n",
       "    </tr>\n",
       "  </thead>\n",
       "  <tbody>\n",
       "    <tr>\n",
       "      <th>0</th>\n",
       "      <td>https://twitter.com/elonmusk/status/1853614981...</td>\n",
       "      <td>Worth listening to this @JoeRogan episode befo...</td>\n",
       "      <td>{'name': 'Elon Musk', 'username': '@elonmusk',...</td>\n",
       "      <td>Nov 5, 2024 · 1:47 AM UTC</td>\n",
       "      <td>False</td>\n",
       "      <td>True</td>\n",
       "      <td></td>\n",
       "      <td>[]</td>\n",
       "      <td>{}</td>\n",
       "      <td>{'comments': 5487, 'retweets': 23753, 'quotes'...</td>\n",
       "      <td>[]</td>\n",
       "      <td>[https://video-t-2.twimg.com/amplify_video/185...</td>\n",
       "      <td>[]</td>\n",
       "    </tr>\n",
       "    <tr>\n",
       "      <th>1</th>\n",
       "      <td>https://twitter.com/elonmusk/status/1853691543...</td>\n",
       "      <td>Below are the R minus D early vote deltas in s...</td>\n",
       "      <td>{'name': 'Elon Musk', 'username': '@elonmusk',...</td>\n",
       "      <td>Nov 5, 2024 · 6:51 AM UTC</td>\n",
       "      <td>False</td>\n",
       "      <td>False</td>\n",
       "      <td></td>\n",
       "      <td>[]</td>\n",
       "      <td>{}</td>\n",
       "      <td>{'comments': 2604, 'retweets': 3947, 'quotes':...</td>\n",
       "      <td>[https://pbs.twimg.com/media/GbmiolFXEAA7uM3.jpg]</td>\n",
       "      <td>[]</td>\n",
       "      <td>[]</td>\n",
       "    </tr>\n",
       "    <tr>\n",
       "      <th>2</th>\n",
       "      <td>https://twitter.com/beeple/status/185366319074...</td>\n",
       "      <td>LAST PUSH</td>\n",
       "      <td>{'name': 'beeple', 'username': '@beeple', 'pro...</td>\n",
       "      <td>Nov 5, 2024 · 4:58 AM UTC</td>\n",
       "      <td>True</td>\n",
       "      <td>False</td>\n",
       "      <td></td>\n",
       "      <td>[]</td>\n",
       "      <td>{}</td>\n",
       "      <td>{'comments': 1167, 'retweets': 1848, 'quotes':...</td>\n",
       "      <td>[https://pbs.twimg.com/media/GbmIoI-WQAAIaKP.jpg]</td>\n",
       "      <td>[]</td>\n",
       "      <td>[]</td>\n",
       "    </tr>\n",
       "    <tr>\n",
       "      <th>3</th>\n",
       "      <td>https://twitter.com/elonmusk/status/1853688868...</td>\n",
       "      <td>This platform is the top source of news on Earth!</td>\n",
       "      <td>{'name': 'Elon Musk', 'username': '@elonmusk',...</td>\n",
       "      <td>Nov 5, 2024 · 6:40 AM UTC</td>\n",
       "      <td>False</td>\n",
       "      <td>False</td>\n",
       "      <td></td>\n",
       "      <td>[]</td>\n",
       "      <td>{'link': 'https://twitter.com/cb_doge/status/1...</td>\n",
       "      <td>{'comments': 2245, 'retweets': 2366, 'quotes':...</td>\n",
       "      <td>[]</td>\n",
       "      <td>[]</td>\n",
       "      <td>[]</td>\n",
       "    </tr>\n",
       "    <tr>\n",
       "      <th>4</th>\n",
       "      <td>https://twitter.com/america/status/18536138266...</td>\n",
       "      <td>ELON MUSK: “Go out there and vote... for Peanu...</td>\n",
       "      <td>{'name': 'America', 'username': '@america', 'p...</td>\n",
       "      <td>Nov 5, 2024 · 1:42 AM UTC</td>\n",
       "      <td>True</td>\n",
       "      <td>False</td>\n",
       "      <td></td>\n",
       "      <td>[]</td>\n",
       "      <td>{}</td>\n",
       "      <td>{'comments': 503, 'retweets': 1744, 'quotes': ...</td>\n",
       "      <td>[]</td>\n",
       "      <td>[https://video-t-2.twimg.com/amplify_video/185...</td>\n",
       "      <td>[]</td>\n",
       "    </tr>\n",
       "  </tbody>\n",
       "</table>\n",
       "</div>"
      ],
      "text/plain": [
       "                                                link  \\\n",
       "0  https://twitter.com/elonmusk/status/1853614981...   \n",
       "1  https://twitter.com/elonmusk/status/1853691543...   \n",
       "2  https://twitter.com/beeple/status/185366319074...   \n",
       "3  https://twitter.com/elonmusk/status/1853688868...   \n",
       "4  https://twitter.com/america/status/18536138266...   \n",
       "\n",
       "                                                text  \\\n",
       "0  Worth listening to this @JoeRogan episode befo...   \n",
       "1  Below are the R minus D early vote deltas in s...   \n",
       "2                                          LAST PUSH   \n",
       "3  This platform is the top source of news on Earth!   \n",
       "4  ELON MUSK: “Go out there and vote... for Peanu...   \n",
       "\n",
       "                                                user  \\\n",
       "0  {'name': 'Elon Musk', 'username': '@elonmusk',...   \n",
       "1  {'name': 'Elon Musk', 'username': '@elonmusk',...   \n",
       "2  {'name': 'beeple', 'username': '@beeple', 'pro...   \n",
       "3  {'name': 'Elon Musk', 'username': '@elonmusk',...   \n",
       "4  {'name': 'America', 'username': '@america', 'p...   \n",
       "\n",
       "                        date  is-retweet  is-pinned external-link replying-to  \\\n",
       "0  Nov 5, 2024 · 1:47 AM UTC       False       True                        []   \n",
       "1  Nov 5, 2024 · 6:51 AM UTC       False      False                        []   \n",
       "2  Nov 5, 2024 · 4:58 AM UTC        True      False                        []   \n",
       "3  Nov 5, 2024 · 6:40 AM UTC       False      False                        []   \n",
       "4  Nov 5, 2024 · 1:42 AM UTC        True      False                        []   \n",
       "\n",
       "                                         quoted-post  \\\n",
       "0                                                 {}   \n",
       "1                                                 {}   \n",
       "2                                                 {}   \n",
       "3  {'link': 'https://twitter.com/cb_doge/status/1...   \n",
       "4                                                 {}   \n",
       "\n",
       "                                               stats  \\\n",
       "0  {'comments': 5487, 'retweets': 23753, 'quotes'...   \n",
       "1  {'comments': 2604, 'retweets': 3947, 'quotes':...   \n",
       "2  {'comments': 1167, 'retweets': 1848, 'quotes':...   \n",
       "3  {'comments': 2245, 'retweets': 2366, 'quotes':...   \n",
       "4  {'comments': 503, 'retweets': 1744, 'quotes': ...   \n",
       "\n",
       "                                            pictures  \\\n",
       "0                                                 []   \n",
       "1  [https://pbs.twimg.com/media/GbmiolFXEAA7uM3.jpg]   \n",
       "2  [https://pbs.twimg.com/media/GbmIoI-WQAAIaKP.jpg]   \n",
       "3                                                 []   \n",
       "4                                                 []   \n",
       "\n",
       "                                              videos gifs  \n",
       "0  [https://video-t-2.twimg.com/amplify_video/185...   []  \n",
       "1                                                 []   []  \n",
       "2                                                 []   []  \n",
       "3                                                 []   []  \n",
       "4  [https://video-t-2.twimg.com/amplify_video/185...   []  "
      ]
     },
     "execution_count": 145,
     "metadata": {},
     "output_type": "execute_result"
    }
   ],
   "source": [
    "df.head()"
   ]
  },
  {
   "cell_type": "code",
   "execution_count": 146,
   "id": "e73f482a-1d2a-4426-a75a-8929320e4300",
   "metadata": {},
   "outputs": [],
   "source": [
    "df2 = pd.DataFrame(tweets['tweets'])"
   ]
  },
  {
   "cell_type": "code",
   "execution_count": 147,
   "id": "1e7d08f6-2ea5-4a92-8fec-7344c3731161",
   "metadata": {},
   "outputs": [],
   "source": [
    "df['name']=df['user'].apply(lambda x:x['name'])\n",
    "df['username']=df['user'].apply(lambda x:x['username'])\n",
    "df['avatar']=df['user'].apply(lambda x:x['avatar'])\n",
    "df['comments']=df['stats'].apply(lambda x:x['comments'])\n",
    "df['likes']=df['stats'].apply(lambda x:x['likes'])"
   ]
  },
  {
   "cell_type": "code",
   "execution_count": 148,
   "id": "899c000c-ad94-4ebd-aa64-5ba2ecd87693",
   "metadata": {},
   "outputs": [],
   "source": [
    "df['text']=df['text'].apply(nfx.remove_hashtags)\n",
    "df['text']=df['text'].apply(nfx.remove_userhandles) # @JoeRogan gitti\n",
    "df['text']=df['text'].apply(nfx.remove_emojis)"
   ]
  },
  {
   "cell_type": "code",
   "execution_count": 257,
   "id": "d44d5588-0f03-4f29-adb4-cfa3a482a81c",
   "metadata": {},
   "outputs": [
    {
     "data": {
      "text/plain": [
       "'Worth listening to this   episode before end of voting tomorrow'"
      ]
     },
     "execution_count": 257,
     "metadata": {},
     "output_type": "execute_result"
    }
   ],
   "source": [
    "df['text'][0]"
   ]
  }
 ],
 "metadata": {
  "kernelspec": {
   "display_name": "Python 3 (ipykernel)",
   "language": "python",
   "name": "python3"
  },
  "language_info": {
   "codemirror_mode": {
    "name": "ipython",
    "version": 3
   },
   "file_extension": ".py",
   "mimetype": "text/x-python",
   "name": "python",
   "nbconvert_exporter": "python",
   "pygments_lexer": "ipython3",
   "version": "3.12.4"
  }
 },
 "nbformat": 4,
 "nbformat_minor": 5
}
