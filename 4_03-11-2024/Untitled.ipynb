{
 "cells": [
  {
   "cell_type": "code",
   "execution_count": 64,
   "id": "cc52af0f-7a2c-490c-9182-21b9797bb7f2",
   "metadata": {},
   "outputs": [],
   "source": [
    "import pandas as pd\n",
    "import numpy as np\n",
    "pd.set_option('display.max_columns',55)\n",
    "\n",
    "from sklearn.linear_model import LinearRegression\n",
    "from sklearn.model_selection import train_test_split\n",
    "from sklearn.metrics import r2_score,mean_squared_error\n",
    "from sklearn.tree import DecisionTreeRegressor\n",
    "from sklearn.ensemble import ExtraTreesRegressor\n",
    "from sklearn.ensemble import RandomForestRegressor\n",
    "\n",
    "import matplotlib.pyplot as plt\n",
    "import seaborn as sns\n",
    "import plotly.express as px\n",
    "\n",
    "from sklearn.linear_model import Ridge, Lasso,ElasticNet"
   ]
  },
  {
   "cell_type": "code",
   "execution_count": 65,
   "id": "27bc9b98-6b6a-4f1b-a03a-4197be1d0122",
   "metadata": {},
   "outputs": [],
   "source": [
    "df=pd.read_csv('kc_house_data.csv')"
   ]
  },
  {
   "cell_type": "markdown",
   "id": "f0cab746-1375-4f30-b3cc-6a310b17c4e2",
   "metadata": {},
   "source": [
    "### Outlier - Ayrik uc degerler"
   ]
  },
  {
   "cell_type": "code",
   "execution_count": 67,
   "id": "ab13aab0-51eb-43c8-8fd2-f55afb6338b0",
   "metadata": {},
   "outputs": [
    {
     "ename": "ValueError",
     "evalue": "percentiles should all be in the interval [0, 1]",
     "output_type": "error",
     "traceback": [
      "\u001b[1;31m---------------------------------------------------------------------------\u001b[0m",
      "\u001b[1;31mValueError\u001b[0m                                Traceback (most recent call last)",
      "Cell \u001b[1;32mIn[67], line 1\u001b[0m\n\u001b[1;32m----> 1\u001b[0m outliers \u001b[38;5;241m=\u001b[39m df\u001b[38;5;241m.\u001b[39mquantile(q\u001b[38;5;241m=\u001b[39m\u001b[38;5;241m97\u001b[39m, numeric_only\u001b[38;5;241m=\u001b[39m\u001b[38;5;28;01mTrue\u001b[39;00m)\n",
      "File \u001b[1;32m~\\anaconda3\\Lib\\site-packages\\pandas\\core\\frame.py:12139\u001b[0m, in \u001b[0;36mDataFrame.quantile\u001b[1;34m(self, q, axis, numeric_only, interpolation, method)\u001b[0m\n\u001b[0;32m  12048\u001b[0m \u001b[38;5;28;01mdef\u001b[39;00m \u001b[38;5;21mquantile\u001b[39m(\n\u001b[0;32m  12049\u001b[0m     \u001b[38;5;28mself\u001b[39m,\n\u001b[0;32m  12050\u001b[0m     q: \u001b[38;5;28mfloat\u001b[39m \u001b[38;5;241m|\u001b[39m AnyArrayLike \u001b[38;5;241m|\u001b[39m Sequence[\u001b[38;5;28mfloat\u001b[39m] \u001b[38;5;241m=\u001b[39m \u001b[38;5;241m0.5\u001b[39m,\n\u001b[1;32m   (...)\u001b[0m\n\u001b[0;32m  12054\u001b[0m     method: Literal[\u001b[38;5;124m\"\u001b[39m\u001b[38;5;124msingle\u001b[39m\u001b[38;5;124m\"\u001b[39m, \u001b[38;5;124m\"\u001b[39m\u001b[38;5;124mtable\u001b[39m\u001b[38;5;124m\"\u001b[39m] \u001b[38;5;241m=\u001b[39m \u001b[38;5;124m\"\u001b[39m\u001b[38;5;124msingle\u001b[39m\u001b[38;5;124m\"\u001b[39m,\n\u001b[0;32m  12055\u001b[0m ) \u001b[38;5;241m-\u001b[39m\u001b[38;5;241m>\u001b[39m Series \u001b[38;5;241m|\u001b[39m DataFrame:\n\u001b[0;32m  12056\u001b[0m \u001b[38;5;250m    \u001b[39m\u001b[38;5;124;03m\"\"\"\u001b[39;00m\n\u001b[0;32m  12057\u001b[0m \u001b[38;5;124;03m    Return values at the given quantile over requested axis.\u001b[39;00m\n\u001b[0;32m  12058\u001b[0m \n\u001b[1;32m   (...)\u001b[0m\n\u001b[0;32m  12137\u001b[0m \u001b[38;5;124;03m    Name: 0.5, dtype: object\u001b[39;00m\n\u001b[0;32m  12138\u001b[0m \u001b[38;5;124;03m    \"\"\"\u001b[39;00m\n\u001b[1;32m> 12139\u001b[0m     validate_percentile(q)\n\u001b[0;32m  12140\u001b[0m     axis \u001b[38;5;241m=\u001b[39m \u001b[38;5;28mself\u001b[39m\u001b[38;5;241m.\u001b[39m_get_axis_number(axis)\n\u001b[0;32m  12142\u001b[0m     \u001b[38;5;28;01mif\u001b[39;00m \u001b[38;5;129;01mnot\u001b[39;00m is_list_like(q):\n\u001b[0;32m  12143\u001b[0m         \u001b[38;5;66;03m# BlockManager.quantile expects listlike, so we wrap and unwrap here\u001b[39;00m\n\u001b[0;32m  12144\u001b[0m         \u001b[38;5;66;03m# error: List item 0 has incompatible type \"float | ExtensionArray |\u001b[39;00m\n\u001b[0;32m  12145\u001b[0m         \u001b[38;5;66;03m# ndarray[Any, Any] | Index | Series | Sequence[float]\"; expected \"float\"\u001b[39;00m\n",
      "File \u001b[1;32m~\\anaconda3\\Lib\\site-packages\\pandas\\util\\_validators.py:337\u001b[0m, in \u001b[0;36mvalidate_percentile\u001b[1;34m(q)\u001b[0m\n\u001b[0;32m    335\u001b[0m \u001b[38;5;28;01mif\u001b[39;00m q_arr\u001b[38;5;241m.\u001b[39mndim \u001b[38;5;241m==\u001b[39m \u001b[38;5;241m0\u001b[39m:\n\u001b[0;32m    336\u001b[0m     \u001b[38;5;28;01mif\u001b[39;00m \u001b[38;5;129;01mnot\u001b[39;00m \u001b[38;5;241m0\u001b[39m \u001b[38;5;241m<\u001b[39m\u001b[38;5;241m=\u001b[39m q_arr \u001b[38;5;241m<\u001b[39m\u001b[38;5;241m=\u001b[39m \u001b[38;5;241m1\u001b[39m:\n\u001b[1;32m--> 337\u001b[0m         \u001b[38;5;28;01mraise\u001b[39;00m \u001b[38;5;167;01mValueError\u001b[39;00m(msg)\n\u001b[0;32m    338\u001b[0m \u001b[38;5;28;01melse\u001b[39;00m:\n\u001b[0;32m    339\u001b[0m     \u001b[38;5;28;01mif\u001b[39;00m \u001b[38;5;129;01mnot\u001b[39;00m \u001b[38;5;28mall\u001b[39m(\u001b[38;5;241m0\u001b[39m \u001b[38;5;241m<\u001b[39m\u001b[38;5;241m=\u001b[39m qs \u001b[38;5;241m<\u001b[39m\u001b[38;5;241m=\u001b[39m \u001b[38;5;241m1\u001b[39m \u001b[38;5;28;01mfor\u001b[39;00m qs \u001b[38;5;129;01min\u001b[39;00m q_arr):\n",
      "\u001b[1;31mValueError\u001b[0m: percentiles should all be in the interval [0, 1]"
     ]
    }
   ],
   "source": [
    "outliers = df.quantile(q=97, numeric_only=True)"
   ]
  },
  {
   "cell_type": "code",
   "execution_count": null,
   "id": "f68e9f0b-8217-48aa-968f-affab6bf58bf",
   "metadata": {},
   "outputs": [],
   "source": [
    "df.shape"
   ]
  },
  {
   "cell_type": "code",
   "execution_count": null,
   "id": "3392e9eb-b475-42ee-b466-4194736d71f5",
   "metadata": {},
   "outputs": [],
   "source": [
    "df=df[(df['price'] < outliers['price'])]\n",
    "df=df[(df['bedrooms'] < outliers['bedrooms'])]\n",
    "df=df[(df['bathrooms'] < outliers['bathrooms'])]\n",
    "df=df[(df['sqft_living'] < outliers['sqft_living'])]"
   ]
  },
  {
   "cell_type": "markdown",
   "id": "8135eb34-26f2-4557-8c1c-56ed369f8d1c",
   "metadata": {},
   "source": [
    "### Future Engineering"
   ]
  },
  {
   "cell_type": "code",
   "execution_count": null,
   "id": "aaea4c7a-2a1b-43d0-9f11-49aaa2d92fc8",
   "metadata": {},
   "outputs": [],
   "source": [
    "df['zipcode'] = df['zipcode'].astype('category)"
   ]
  },
  {
   "cell_type": "code",
   "execution_count": null,
   "id": "4250aba0-7aa9-46e1-a894-1d87a78a92ae",
   "metadata": {},
   "outputs": [],
   "source": [
    "df['bedrooms'] = df['bedrooms']**2\n",
    "df['bathrooms'] = df['bedrooms']**2\n",
    "df['sqft_living'] = df['bedrooms']**2"
   ]
  },
  {
   "cell_type": "code",
   "execution_count": null,
   "id": "27530448-b2fd-498e-9dbe-9474592c5eac",
   "metadata": {},
   "outputs": [],
   "source": [
    "import datetime"
   ]
  },
  {
   "cell_type": "code",
   "execution_count": null,
   "id": "d50fef62-7df5-4ce8-a661-73af4a7ba61e",
   "metadata": {},
   "outputs": [],
   "source": [
    "df['age'] = datetime.datetime.now().year-df['yr_built']"
   ]
  },
  {
   "cell_type": "code",
   "execution_count": 75,
   "id": "3ed5c151-9678-4701-bc64-2af018b8289e",
   "metadata": {},
   "outputs": [],
   "source": [
    "import numpy as np"
   ]
  },
  {
   "cell_type": "code",
   "execution_count": null,
   "id": "6a061a58-1d7e-4b6e-83e5-20306124d107",
   "metadata": {},
   "outputs": [],
   "source": [
    "df['yr_renovated']=np.where(df['yr_renovated']>0,1,0)\n",
    "df['sqft_basement']=np.where(df['sqft_basement']>0,1,0)"
   ]
  },
  {
   "cell_type": "code",
   "execution_count": null,
   "id": "e0e8b2f4-9cc2-407b-a08e-6e5a68824cd4",
   "metadata": {},
   "outputs": [],
   "source": [
    "x=df.drop(['id', 'date', 'lat', 'long', 'price'], axis=1)\n",
    "y=df[['price']]"
   ]
  },
  {
   "cell_type": "code",
   "execution_count": null,
   "id": "ab7073ae-8958-485f-9f73-c1559b92deb8",
   "metadata": {},
   "outputs": [],
   "source": [
    "x=pd.get_dummies(x,drop_first=True)\n",
    "x_train,x_test,y_train,y_test=train_test_split(x,y,test_size=.20, random_state=42)"
   ]
  },
  {
   "cell_type": "markdown",
   "id": "7016348d-8b4d-447b-a7e4-b20bf61157ad",
   "metadata": {},
   "source": [
    "### Modelling"
   ]
  },
  {
   "cell_type": "code",
   "execution_count": null,
   "id": "518533c4-77ba-4005-a0cd-f9a2fd49c8bc",
   "metadata": {},
   "outputs": [],
   "source": [
    "lr = LinearRegression()"
   ]
  },
  {
   "cell_type": "code",
   "execution_count": null,
   "id": "863f38b4-1eae-4b12-982b-6fdef83d6e45",
   "metadata": {},
   "outputs": [],
   "source": [
    "lr.fit(x_train, Y_train)"
   ]
  },
  {
   "cell_type": "code",
   "execution_count": null,
   "id": "87598abd-89f0-4ab5-941c-704fd89c7c68",
   "metadata": {},
   "outputs": [],
   "source": [
    "tamin = lr.predict(x_test)"
   ]
  },
  {
   "cell_type": "code",
   "execution_count": null,
   "id": "1d60b612-3aba-4f3f-88bb-407516121296",
   "metadata": {},
   "outputs": [],
   "source": [
    "r2_score(y_test,tahmin)"
   ]
  },
  {
   "cell_type": "markdown",
   "id": "832b2d45-b1cb-4ecf-b2e1-7ab0c1fc565f",
   "metadata": {},
   "source": [
    "## future importance"
   ]
  },
  {
   "cell_type": "code",
   "execution_count": null,
   "id": "01e3d24f-6fea-4e4f-9b41-c309cfd7a14e",
   "metadata": {},
   "outputs": [],
   "source": [
    "future_importance = pd.DataFrame({'Feature':x_train.columns,'Coefs':lr.coef_[0]})"
   ]
  },
  {
   "cell_type": "code",
   "execution_count": null,
   "id": "8800d52b-b45a-49fd-b2a6-7164f5d09e82",
   "metadata": {},
   "outputs": [],
   "source": [
    "future_importance = future_importance.sort_values(by='Coefs',ascending=False)"
   ]
  },
  {
   "cell_type": "code",
   "execution_count": null,
   "id": "37885d69-e0e1-4ca0-9535-7aa8f2878f15",
   "metadata": {},
   "outputs": [],
   "source": [
    "import pandas as pd\n",
    "import numpy as np\n",
    "import matplotlib.pyplot as plt\n",
    "import seaborn as sns\n",
    "import warnings \n",
    "\n",
    "warnings.filterwarnings(\"ignore\") \n",
    "pd.set_option(\"display.max_columns\",100)\n",
    "\n",
    "from sklearn.linear_model import LinearRegression\n",
    "from sklearn.linear_model import Ridge, Lasso\n",
    "from sklearn.linear_model import ElasticNet\n",
    "from sklearn.neighbors import KNeighborsRegressor\n",
    "from sklearn.ensemble import GradientBoostingRegressor \n",
    "from sklearn.tree import ExtraTreeRegressor\n",
    "from sklearn. tree import DecisionTreeRegressor\n",
    "from xgboost import XGBRegressor\n",
    "from sklearn.model_selection import train_test_split\n",
    "from sklearn.metrics import mean_squared_error, r2_score, mean_absolute_error\n",
    "\n",
    "def algo_test(x, y):\n",
    "    # Modelleri tanımlıyorum\n",
    "    L = LinearRegression()\n",
    "    R = Ridge()\n",
    "    Lass = Lasso()\n",
    "    E = ElasticNet()\n",
    "    ETR = ExtraTreeRegressor()\n",
    "    GBR = GradientBoostingRegressor()\n",
    "    kn = KNeighborsRegressor()\n",
    "    dt = DecisionTreeRegressor()\n",
    "    xgb = XGBRegressor()\n",
    "    \n",
    "    algo_names = ['Linear', 'Ridge', 'Lasso', 'ElasticNet', 'Extra Tree', 'Gradient Boosting', 'KNeighbors', 'Decision Tree', 'XGBoost']\n",
    "    algos = [L, R, Lass, E, ETR, GBR, kn, dt, xgb]\n",
    "    \n",
    "    x_train, x_test, y_train, y_test = train_test_split(x, y, test_size=0.2, random_state=42)\n",
    "    \n",
    "    r_squared = []\n",
    "    rmse = []\n",
    "    mae = []\n",
    "    \n",
    "    # Sonuçları depolamak için bir DataFrame oluşturuyorum\n",
    "    result = pd.DataFrame(columns=['R_Squared', 'RMSE', 'MAE'], index=algo_names)\n",
    "    \n",
    "    for algo in algos:\n",
    "        # Modeli eğitip tahmin yapıyorum\n",
    "        p = algo.fit(x_train, y_train).predict(x_test)\n",
    "        r_squared.append(r2_score(y_test, p))\n",
    "        rmse.append(mean_squared_error(y_test, p) ** 0.5)\n",
    "        mae.append(mean_absolute_error(y_test, p))\n",
    "    \n",
    "    # Sonuçları tabloya yerleştiriyorum\n",
    "    result['R_Squared'] = r_squared\n",
    "    result['RMSE'] = rmse\n",
    "    result['MAE'] = mae\n",
    "    \n",
    "    # Sonuç tablosunu R_Squared'e göre sıralayıp döndürüyorum\n",
    "    rtable = result.sort_values('R_Squared', ascending=False)\n",
    "    return rtable"
   ]
  },
  {
   "cell_type": "code",
   "execution_count": null,
   "id": "7eb67dbb-36e9-4b16-aebd-022b1136141c",
   "metadata": {},
   "outputs": [],
   "source": []
  }
 ],
 "metadata": {
  "kernelspec": {
   "display_name": "Python 3 (ipykernel)",
   "language": "python",
   "name": "python3"
  },
  "language_info": {
   "codemirror_mode": {
    "name": "ipython",
    "version": 3
   },
   "file_extension": ".py",
   "mimetype": "text/x-python",
   "name": "python",
   "nbconvert_exporter": "python",
   "pygments_lexer": "ipython3",
   "version": "3.12.4"
  }
 },
 "nbformat": 4,
 "nbformat_minor": 5
}
